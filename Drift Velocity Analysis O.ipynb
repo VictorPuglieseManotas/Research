{
 "cells": [
  {
   "cell_type": "markdown",
   "metadata": {},
   "source": [
    "Victor Pugliese ____________Github link:https://github.com/VictorPuglieseManotas e-mail: victor.pugliese@ttu.edu\n",
    "\n",
    "Dr. Raymond Eghorieta __________________________________________________________ e-mail: raymond.eghorieta@ttu.edu\n",
    "\n",
    "Dr. Ekarit Panacharoensawad_Github link:https://github.com/epmmko ______________ e-mail: ekarit.panacharoensawad@ttu.edu"
   ]
  },
  {
   "cell_type": "markdown",
   "metadata": {},
   "source": [
    "# Drift Velocity Analysis"
   ]
  },
  {
   "cell_type": "markdown",
   "metadata": {},
   "source": [
    "## 1. Introduction"
   ]
  },
  {
   "cell_type": "markdown",
   "metadata": {},
   "source": [
    "Dimensionles gruoups have been applied by many researchers to estimate the rise velocity of a single bubble moving in liquid in pipe under the influence of gravitational, inertial, viscous and interfacial forces. These are: Reynolds Number, Eotvos number, Viscosyty Number, Bouyancy Reynolds Number and Froud Number.\n",
    "The objetive of this analysis is to find a model to relate the Froud Number with the rest of dimensionless group. Then, we could use Davies and Taylor (1950) clousure relationship combined with Bendiksen (1984), to calculate the drift velocity."
   ]
  },
  {
   "cell_type": "code",
   "execution_count": 1,
   "metadata": {},
   "outputs": [],
   "source": [
    "#Libraries used\n",
    "%matplotlib inline                 \n",
    "import os                          \n",
    "import numpy as np                 \n",
    "import pandas as pd                \n",
    "import matplotlib.pyplot as plt    \n",
    "import time\n",
    "import warnings\n",
    "warnings.filterwarnings('ignore')  #Never print matching warnings"
   ]
  },
  {
   "cell_type": "markdown",
   "metadata": {},
   "source": [
    "## 2. Data Preparation\n",
    "### 2.1. Load Data\n",
    "The information is taken from the excel file in VictorPuglieseManotas's repository named Research. In this way, any person could download the raw data: https://github.com/VictorPuglieseManotas/Research/blob/master/Drift_Velocity_Analysis.xlsx. This file is saved in a local directory."
   ]
  },
  {
   "cell_type": "code",
   "execution_count": 2,
   "metadata": {},
   "outputs": [
    {
     "data": {
      "text/html": [
       "<div>\n",
       "<style scoped>\n",
       "    .dataframe tbody tr th:only-of-type {\n",
       "        vertical-align: middle;\n",
       "    }\n",
       "\n",
       "    .dataframe tbody tr th {\n",
       "        vertical-align: top;\n",
       "    }\n",
       "\n",
       "    .dataframe thead th {\n",
       "        text-align: right;\n",
       "    }\n",
       "</style>\n",
       "<table border=\"1\" class=\"dataframe\">\n",
       "  <thead>\n",
       "    <tr style=\"text-align: right;\">\n",
       "      <th></th>\n",
       "      <th>Inclination [°]</th>\n",
       "      <th>Cos(Angle)</th>\n",
       "      <th>Sin(Angle)</th>\n",
       "      <th>Temperature [C]</th>\n",
       "      <th>rhoL [kg/m3]</th>\n",
       "      <th>rhoG [kg/m3]</th>\n",
       "      <th>muL [Pa.s]</th>\n",
       "      <th>sigma [N/m]</th>\n",
       "      <th>Liquid Type</th>\n",
       "      <th>Diameter [m]</th>\n",
       "      <th>Drift Velocity [m/s]</th>\n",
       "      <th>Reynolds Number Re</th>\n",
       "      <th>Buoyancy Reynolds R</th>\n",
       "      <th>Eotvos Number Eo</th>\n",
       "      <th>Viscosity Number Nmu</th>\n",
       "      <th>Froud Number Fr</th>\n",
       "    </tr>\n",
       "  </thead>\n",
       "  <tbody>\n",
       "    <tr>\n",
       "      <th>82</th>\n",
       "      <td>70.0</td>\n",
       "      <td>3.420201e-01</td>\n",
       "      <td>0.939693</td>\n",
       "      <td>16.1</td>\n",
       "      <td>891.0</td>\n",
       "      <td>1.220953</td>\n",
       "      <td>0.934</td>\n",
       "      <td>0.0295</td>\n",
       "      <td>Oil</td>\n",
       "      <td>0.0508</td>\n",
       "      <td>0.204</td>\n",
       "      <td>0.013547</td>\n",
       "      <td>34.181331</td>\n",
       "      <td>763.322842</td>\n",
       "      <td>0.029276</td>\n",
       "      <td>0.289225</td>\n",
       "    </tr>\n",
       "    <tr>\n",
       "      <th>88</th>\n",
       "      <td>30.0</td>\n",
       "      <td>8.660254e-01</td>\n",
       "      <td>0.500000</td>\n",
       "      <td>10.6</td>\n",
       "      <td>895.0</td>\n",
       "      <td>1.244631</td>\n",
       "      <td>1.287</td>\n",
       "      <td>0.0295</td>\n",
       "      <td>Oil</td>\n",
       "      <td>0.0508</td>\n",
       "      <td>0.173</td>\n",
       "      <td>0.008499</td>\n",
       "      <td>24.917141</td>\n",
       "      <td>766.734045</td>\n",
       "      <td>0.040161</td>\n",
       "      <td>0.245277</td>\n",
       "    </tr>\n",
       "    <tr>\n",
       "      <th>32</th>\n",
       "      <td>70.0</td>\n",
       "      <td>3.420201e-01</td>\n",
       "      <td>0.939693</td>\n",
       "      <td>50.0</td>\n",
       "      <td>869.0</td>\n",
       "      <td>1.092809</td>\n",
       "      <td>0.104</td>\n",
       "      <td>0.0295</td>\n",
       "      <td>Oil</td>\n",
       "      <td>0.0508</td>\n",
       "      <td>0.294</td>\n",
       "      <td>0.156936</td>\n",
       "      <td>299.411928</td>\n",
       "      <td>744.559434</td>\n",
       "      <td>0.003342</td>\n",
       "      <td>0.416801</td>\n",
       "    </tr>\n",
       "    <tr>\n",
       "      <th>99</th>\n",
       "      <td>70.0</td>\n",
       "      <td>3.420201e-01</td>\n",
       "      <td>0.939693</td>\n",
       "      <td>21.4</td>\n",
       "      <td>886.0</td>\n",
       "      <td>1.198972</td>\n",
       "      <td>0.574</td>\n",
       "      <td>0.0295</td>\n",
       "      <td>Oil</td>\n",
       "      <td>0.1524</td>\n",
       "      <td>0.508</td>\n",
       "      <td>0.161713</td>\n",
       "      <td>287.385972</td>\n",
       "      <td>6831.470731</td>\n",
       "      <td>0.003482</td>\n",
       "      <td>0.415820</td>\n",
       "    </tr>\n",
       "    <tr>\n",
       "      <th>100</th>\n",
       "      <td>90.0</td>\n",
       "      <td>6.125742e-17</td>\n",
       "      <td>1.000000</td>\n",
       "      <td>21.4</td>\n",
       "      <td>886.0</td>\n",
       "      <td>1.198972</td>\n",
       "      <td>0.574</td>\n",
       "      <td>0.0295</td>\n",
       "      <td>Oil</td>\n",
       "      <td>0.1524</td>\n",
       "      <td>0.379</td>\n",
       "      <td>0.120648</td>\n",
       "      <td>287.385972</td>\n",
       "      <td>6831.470731</td>\n",
       "      <td>0.003482</td>\n",
       "      <td>0.310228</td>\n",
       "    </tr>\n",
       "  </tbody>\n",
       "</table>\n",
       "</div>"
      ],
      "text/plain": [
       "     Inclination [°]    Cos(Angle)  Sin(Angle)  Temperature [C]  rhoL [kg/m3]  \\\n",
       "82              70.0  3.420201e-01    0.939693             16.1         891.0   \n",
       "88              30.0  8.660254e-01    0.500000             10.6         895.0   \n",
       "32              70.0  3.420201e-01    0.939693             50.0         869.0   \n",
       "99              70.0  3.420201e-01    0.939693             21.4         886.0   \n",
       "100             90.0  6.125742e-17    1.000000             21.4         886.0   \n",
       "\n",
       "     rhoG [kg/m3]  muL [Pa.s]  sigma [N/m] Liquid Type  Diameter [m]  \\\n",
       "82       1.220953       0.934       0.0295         Oil        0.0508   \n",
       "88       1.244631       1.287       0.0295         Oil        0.0508   \n",
       "32       1.092809       0.104       0.0295         Oil        0.0508   \n",
       "99       1.198972       0.574       0.0295         Oil        0.1524   \n",
       "100      1.198972       0.574       0.0295         Oil        0.1524   \n",
       "\n",
       "     Drift Velocity [m/s]  Reynolds Number Re  Buoyancy Reynolds R  \\\n",
       "82                  0.204            0.013547            34.181331   \n",
       "88                  0.173            0.008499            24.917141   \n",
       "32                  0.294            0.156936           299.411928   \n",
       "99                  0.508            0.161713           287.385972   \n",
       "100                 0.379            0.120648           287.385972   \n",
       "\n",
       "     Eotvos Number Eo  Viscosity Number Nmu  Froud Number Fr  \n",
       "82         763.322842              0.029276         0.289225  \n",
       "88         766.734045              0.040161         0.245277  \n",
       "32         744.559434              0.003342         0.416801  \n",
       "99        6831.470731              0.003482         0.415820  \n",
       "100       6831.470731              0.003482         0.310228  "
      ]
     },
     "execution_count": 2,
     "metadata": {},
     "output_type": "execute_result"
    }
   ],
   "source": [
    "Experimental_Data=pd.read_excel(r\"C:\\Users\\victo\\Train_Set_Drift_Velocity_Analysis_O.xlsx\")\n",
    "Experimental_Data=Experimental_Data.iloc[np.random.permutation(len(Experimental_Data))]\n",
    "\n",
    "D=np.asarray(Experimental_Data['Diameter [m]'])\n",
    "rho_L=np.asarray(Experimental_Data['rhoL [kg/m3]'])\n",
    "rho_G=np.asarray(Experimental_Data['rhoG [kg/m3]'])\n",
    "V_d_real=np.asarray(Experimental_Data['Drift Velocity [m/s]'])\n",
    "\n",
    "Experimental_Data.head()                                                                  "
   ]
  },
  {
   "cell_type": "markdown",
   "metadata": {},
   "source": [
    "Now, we only will use the dimensionless group and the unit vectors:"
   ]
  },
  {
   "cell_type": "code",
   "execution_count": 3,
   "metadata": {},
   "outputs": [
    {
     "data": {
      "text/html": [
       "<div>\n",
       "<style scoped>\n",
       "    .dataframe tbody tr th:only-of-type {\n",
       "        vertical-align: middle;\n",
       "    }\n",
       "\n",
       "    .dataframe tbody tr th {\n",
       "        vertical-align: top;\n",
       "    }\n",
       "\n",
       "    .dataframe thead th {\n",
       "        text-align: right;\n",
       "    }\n",
       "</style>\n",
       "<table border=\"1\" class=\"dataframe\">\n",
       "  <thead>\n",
       "    <tr style=\"text-align: right;\">\n",
       "      <th></th>\n",
       "      <th>Cos(Angle)</th>\n",
       "      <th>Sin(Angle)</th>\n",
       "      <th>Buoyancy Reynolds R</th>\n",
       "      <th>Eotvos Number Eo</th>\n",
       "      <th>Froud Number Fr</th>\n",
       "    </tr>\n",
       "  </thead>\n",
       "  <tbody>\n",
       "    <tr>\n",
       "      <th>82</th>\n",
       "      <td>3.420201e-01</td>\n",
       "      <td>0.939693</td>\n",
       "      <td>34.181331</td>\n",
       "      <td>763.322842</td>\n",
       "      <td>0.289225</td>\n",
       "    </tr>\n",
       "    <tr>\n",
       "      <th>88</th>\n",
       "      <td>8.660254e-01</td>\n",
       "      <td>0.500000</td>\n",
       "      <td>24.917141</td>\n",
       "      <td>766.734045</td>\n",
       "      <td>0.245277</td>\n",
       "    </tr>\n",
       "    <tr>\n",
       "      <th>32</th>\n",
       "      <td>3.420201e-01</td>\n",
       "      <td>0.939693</td>\n",
       "      <td>299.411928</td>\n",
       "      <td>744.559434</td>\n",
       "      <td>0.416801</td>\n",
       "    </tr>\n",
       "    <tr>\n",
       "      <th>99</th>\n",
       "      <td>3.420201e-01</td>\n",
       "      <td>0.939693</td>\n",
       "      <td>287.385972</td>\n",
       "      <td>6831.470731</td>\n",
       "      <td>0.415820</td>\n",
       "    </tr>\n",
       "    <tr>\n",
       "      <th>100</th>\n",
       "      <td>6.125742e-17</td>\n",
       "      <td>1.000000</td>\n",
       "      <td>287.385972</td>\n",
       "      <td>6831.470731</td>\n",
       "      <td>0.310228</td>\n",
       "    </tr>\n",
       "  </tbody>\n",
       "</table>\n",
       "</div>"
      ],
      "text/plain": [
       "       Cos(Angle)  Sin(Angle)  Buoyancy Reynolds R  Eotvos Number Eo  \\\n",
       "82   3.420201e-01    0.939693            34.181331        763.322842   \n",
       "88   8.660254e-01    0.500000            24.917141        766.734045   \n",
       "32   3.420201e-01    0.939693           299.411928        744.559434   \n",
       "99   3.420201e-01    0.939693           287.385972       6831.470731   \n",
       "100  6.125742e-17    1.000000           287.385972       6831.470731   \n",
       "\n",
       "     Froud Number Fr  \n",
       "82          0.289225  \n",
       "88          0.245277  \n",
       "32          0.416801  \n",
       "99          0.415820  \n",
       "100         0.310228  "
      ]
     },
     "execution_count": 3,
     "metadata": {},
     "output_type": "execute_result"
    }
   ],
   "source": [
    "Experimental_Data=Experimental_Data.drop(Experimental_Data.columns[[0,3,4,5,6,7,8,9,10,11,14]], axis=1)\n",
    "Experimental_Data.head()"
   ]
  },
  {
   "cell_type": "markdown",
   "metadata": {},
   "source": [
    "### 2.2. Creating the Train and Test set\n",
    "The train set will be the experimental data gathered from other researchers. On the other hand, the Test set will be the experimental data obtained by the authors of this document in the Petroleum Engineering Labs in Texas Tech University.\n",
    "\n",
    "Analizing the data set, we suggest a polinomial relationship between the sinoidal functions and the Froud number. Similarly, we suggest a logaritmic relationship between the Eotvos number, Buoyancy Reynolds number and Froud Number."
   ]
  },
  {
   "cell_type": "code",
   "execution_count": 4,
   "metadata": {},
   "outputs": [
    {
     "data": {
      "text/html": [
       "<div>\n",
       "<style scoped>\n",
       "    .dataframe tbody tr th:only-of-type {\n",
       "        vertical-align: middle;\n",
       "    }\n",
       "\n",
       "    .dataframe tbody tr th {\n",
       "        vertical-align: top;\n",
       "    }\n",
       "\n",
       "    .dataframe thead th {\n",
       "        text-align: right;\n",
       "    }\n",
       "</style>\n",
       "<table border=\"1\" class=\"dataframe\">\n",
       "  <thead>\n",
       "    <tr style=\"text-align: right;\">\n",
       "      <th></th>\n",
       "      <th>Cos(Angle)</th>\n",
       "      <th>Sin(Angle)</th>\n",
       "      <th>Cos(Angle)^2</th>\n",
       "      <th>Cos(Angle)^3</th>\n",
       "      <th>Sin(Angle)^2</th>\n",
       "      <th>Sin(Angle)^3</th>\n",
       "      <th>Ln(Eo)</th>\n",
       "      <th>Ln(R)</th>\n",
       "    </tr>\n",
       "  </thead>\n",
       "  <tbody>\n",
       "    <tr>\n",
       "      <th>82</th>\n",
       "      <td>3.420201e-01</td>\n",
       "      <td>0.939693</td>\n",
       "      <td>1.169778e-01</td>\n",
       "      <td>4.000876e-02</td>\n",
       "      <td>0.883022</td>\n",
       "      <td>0.829769</td>\n",
       "      <td>6.637681</td>\n",
       "      <td>3.531680</td>\n",
       "    </tr>\n",
       "    <tr>\n",
       "      <th>88</th>\n",
       "      <td>8.660254e-01</td>\n",
       "      <td>0.500000</td>\n",
       "      <td>7.500000e-01</td>\n",
       "      <td>6.495191e-01</td>\n",
       "      <td>0.250000</td>\n",
       "      <td>0.125000</td>\n",
       "      <td>6.642140</td>\n",
       "      <td>3.215556</td>\n",
       "    </tr>\n",
       "    <tr>\n",
       "      <th>32</th>\n",
       "      <td>3.420201e-01</td>\n",
       "      <td>0.939693</td>\n",
       "      <td>1.169778e-01</td>\n",
       "      <td>4.000876e-02</td>\n",
       "      <td>0.883022</td>\n",
       "      <td>0.829769</td>\n",
       "      <td>6.612793</td>\n",
       "      <td>5.701820</td>\n",
       "    </tr>\n",
       "    <tr>\n",
       "      <th>99</th>\n",
       "      <td>3.420201e-01</td>\n",
       "      <td>0.939693</td>\n",
       "      <td>1.169778e-01</td>\n",
       "      <td>4.000876e-02</td>\n",
       "      <td>0.883022</td>\n",
       "      <td>0.829769</td>\n",
       "      <td>8.829295</td>\n",
       "      <td>5.660826</td>\n",
       "    </tr>\n",
       "    <tr>\n",
       "      <th>100</th>\n",
       "      <td>6.125742e-17</td>\n",
       "      <td>1.000000</td>\n",
       "      <td>3.752472e-33</td>\n",
       "      <td>2.298668e-49</td>\n",
       "      <td>1.000000</td>\n",
       "      <td>1.000000</td>\n",
       "      <td>8.829295</td>\n",
       "      <td>5.660826</td>\n",
       "    </tr>\n",
       "  </tbody>\n",
       "</table>\n",
       "</div>"
      ],
      "text/plain": [
       "       Cos(Angle)  Sin(Angle)  Cos(Angle)^2  Cos(Angle)^3  Sin(Angle)^2  \\\n",
       "82   3.420201e-01    0.939693  1.169778e-01  4.000876e-02      0.883022   \n",
       "88   8.660254e-01    0.500000  7.500000e-01  6.495191e-01      0.250000   \n",
       "32   3.420201e-01    0.939693  1.169778e-01  4.000876e-02      0.883022   \n",
       "99   3.420201e-01    0.939693  1.169778e-01  4.000876e-02      0.883022   \n",
       "100  6.125742e-17    1.000000  3.752472e-33  2.298668e-49      1.000000   \n",
       "\n",
       "     Sin(Angle)^3    Ln(Eo)     Ln(R)  \n",
       "82       0.829769  6.637681  3.531680  \n",
       "88       0.125000  6.642140  3.215556  \n",
       "32       0.829769  6.612793  5.701820  \n",
       "99       0.829769  8.829295  5.660826  \n",
       "100      1.000000  8.829295  5.660826  "
      ]
     },
     "execution_count": 4,
     "metadata": {},
     "output_type": "execute_result"
    }
   ],
   "source": [
    "Dimensionless_Labels=Experimental_Data['Froud Number Fr']\n",
    "Dimensionless_Attributes=Experimental_Data.drop('Froud Number Fr',axis=1)\n",
    "Dimensionless_Attributes_for_eval=Dimensionless_Attributes                                  #Copy for evalatuation of the model\n",
    "Dimensionless_Attributes['Cos(Angle)^2']=Dimensionless_Attributes['Cos(Angle)']**2\n",
    "Dimensionless_Attributes['Cos(Angle)^3']=Dimensionless_Attributes['Cos(Angle)']**3\n",
    "Dimensionless_Attributes['Sin(Angle)^2']=Dimensionless_Attributes['Sin(Angle)']**2\n",
    "Dimensionless_Attributes['Sin(Angle)^3']=Dimensionless_Attributes['Sin(Angle)']**3\n",
    "Dimensionless_Attributes['Ln(Eo)']=np.log(Dimensionless_Attributes['Eotvos Number Eo'])\n",
    "Dimensionless_Attributes['Ln(R)']=np.log(Dimensionless_Attributes['Buoyancy Reynolds R'])\n",
    "Dimensionless_Attributes=Dimensionless_Attributes.drop('Eotvos Number Eo',axis=1)\n",
    "Dimensionless_Attributes=Dimensionless_Attributes.drop('Buoyancy Reynolds R',axis=1)\n",
    "Dimensionless_Attributes.head()"
   ]
  },
  {
   "cell_type": "markdown",
   "metadata": {},
   "source": [
    "## 3. Machine Learning Model\n",
    "### 3.1. Preprocessing\n",
    "\"Many elements used in the objective function of a learning algorithm (such as the RBF kernel of Support Vector Machines or the l1 and l2 regularizers of linear models) assume that all features are centered around zero and have variance in the same order. If a feature has a variance that is orders of magnitude larger than others, it might dominate the objective function and make the estimator unable to learn from other features correctly as expected\". [1]"
   ]
  },
  {
   "cell_type": "code",
   "execution_count": 5,
   "metadata": {},
   "outputs": [],
   "source": [
    "from sklearn import preprocessing\n",
    "scaler=preprocessing.RobustScaler().fit(Dimensionless_Attributes)\n",
    "Dimensionless_Attributes_Scaled=scaler.transform(Dimensionless_Attributes)"
   ]
  },
  {
   "cell_type": "markdown",
   "metadata": {},
   "source": [
    "### 3.2. Support Vector Regressor"
   ]
  },
  {
   "cell_type": "code",
   "execution_count": 6,
   "metadata": {},
   "outputs": [
    {
     "data": {
      "text/plain": [
       "SVR(C=100, cache_size=200, coef0=0.0, degree=3, epsilon=0.1, gamma='auto',\n",
       "  kernel='rbf', max_iter=-1, shrinking=True, tol=0.001, verbose=False)"
      ]
     },
     "execution_count": 6,
     "metadata": {},
     "output_type": "execute_result"
    }
   ],
   "source": [
    "from sklearn.svm import SVR\n",
    "svr_rbf_reg = SVR(kernel=\"rbf\",C=100,epsilon=0.1)\n",
    "svr_rbf_reg"
   ]
  },
  {
   "cell_type": "markdown",
   "metadata": {},
   "source": [
    "### 3.2. Training the Model\n",
    "The problem of Drift Velocity has been addressed. The initial experiment data has been clean and modified in order to have features that are related with the Froud Number. Also, we have shuffled the instances. The training set is used in this stage to fit the model parameters. However, we will test it using the test set. In the following code, we perform the training procedure, we obtain a measurement of its perfomance (custom function: average relative error) and the time required to be fitted and to predict."
   ]
  },
  {
   "cell_type": "code",
   "execution_count": 7,
   "metadata": {
    "scrolled": true
   },
   "outputs": [
    {
     "name": "stdout",
     "output_type": "stream",
     "text": [
      "SVR  average_relative_error:  0.13795733771883864\n",
      "SVR  Time:  0.0009546279907226562\n"
     ]
    }
   ],
   "source": [
    "def relative_error(y_true, y_pred):\n",
    "    rel_error=np.sum(np.divide(np.abs(y_true-y_pred),np.mean(y_true)))/len(y_true)\n",
    "    return rel_error\n",
    "\n",
    "start = time.time()\n",
    "svr_rbf_reg.fit(Dimensionless_Attributes_Scaled,Dimensionless_Labels)\n",
    "y_pred=svr_rbf_reg.predict(Dimensionless_Attributes_Scaled)\n",
    "print(svr_rbf_reg.__class__.__name__,' average_relative_error: ',relative_error(Dimensionless_Labels,y_pred))\n",
    "end = time.time()\n",
    "print(svr_rbf_reg.__class__.__name__,' Time: ',end - start)"
   ]
  },
  {
   "cell_type": "markdown",
   "metadata": {},
   "source": [
    "### 3.3. Tunnig the Model"
   ]
  },
  {
   "cell_type": "code",
   "execution_count": 8,
   "metadata": {},
   "outputs": [
    {
     "name": "stdout",
     "output_type": "stream",
     "text": [
      "36.12571477890015\n",
      "0.07410791557219269 {'C': 5, 'epsilon': 0.0001, 'kernel': 'rbf'}\n",
      "19.847892199393883 {'C': 5, 'epsilon': 0.0001, 'kernel': 'sigmoid'}\n",
      "0.07376710734408777 {'C': 5, 'epsilon': 0.0005, 'kernel': 'rbf'}\n",
      "19.847917287433972 {'C': 5, 'epsilon': 0.0005, 'kernel': 'sigmoid'}\n",
      "0.07327449898407688 {'C': 5, 'epsilon': 0.001, 'kernel': 'rbf'}\n",
      "19.860615188949627 {'C': 5, 'epsilon': 0.001, 'kernel': 'sigmoid'}\n",
      "0.06774433250302292 {'C': 5, 'epsilon': 0.005, 'kernel': 'rbf'}\n",
      "19.880830538210542 {'C': 5, 'epsilon': 0.005, 'kernel': 'sigmoid'}\n",
      "0.06458947244104075 {'C': 5, 'epsilon': 0.008, 'kernel': 'rbf'}\n",
      "19.85914852026755 {'C': 5, 'epsilon': 0.008, 'kernel': 'sigmoid'}\n",
      "0.06442086106024562 {'C': 5, 'epsilon': 0.01, 'kernel': 'rbf'}\n",
      "19.86167038688722 {'C': 5, 'epsilon': 0.01, 'kernel': 'sigmoid'}\n",
      "0.07185134380958424 {'C': 5, 'epsilon': 0.02, 'kernel': 'rbf'}\n",
      "19.900713291546108 {'C': 5, 'epsilon': 0.02, 'kernel': 'sigmoid'}\n",
      "0.10026307081639034 {'C': 5, 'epsilon': 0.05, 'kernel': 'rbf'}\n",
      "19.46653229061085 {'C': 5, 'epsilon': 0.05, 'kernel': 'sigmoid'}\n",
      "0.15381151242458305 {'C': 5, 'epsilon': 0.1, 'kernel': 'rbf'}\n",
      "22.73814972947649 {'C': 5, 'epsilon': 0.1, 'kernel': 'sigmoid'}\n",
      "0.2460851319441635 {'C': 5, 'epsilon': 0.2, 'kernel': 'rbf'}\n",
      "0.24009098363001002 {'C': 5, 'epsilon': 0.2, 'kernel': 'sigmoid'}\n",
      "0.07224582652316774 {'C': 6, 'epsilon': 0.0001, 'kernel': 'rbf'}\n",
      "23.830956807860126 {'C': 6, 'epsilon': 0.0001, 'kernel': 'sigmoid'}\n",
      "0.072023037772248 {'C': 6, 'epsilon': 0.0005, 'kernel': 'rbf'}\n",
      "23.830473922570004 {'C': 6, 'epsilon': 0.0005, 'kernel': 'sigmoid'}\n",
      "0.07175577541401779 {'C': 6, 'epsilon': 0.001, 'kernel': 'rbf'}\n",
      "23.82099330662761 {'C': 6, 'epsilon': 0.001, 'kernel': 'sigmoid'}\n",
      "0.06680708926902222 {'C': 6, 'epsilon': 0.005, 'kernel': 'rbf'}\n",
      "23.851310277918692 {'C': 6, 'epsilon': 0.005, 'kernel': 'sigmoid'}\n",
      "0.06425521002259665 {'C': 6, 'epsilon': 0.008, 'kernel': 'rbf'}\n",
      "23.836454590984737 {'C': 6, 'epsilon': 0.008, 'kernel': 'sigmoid'}\n",
      "0.06282040340648196 {'C': 6, 'epsilon': 0.01, 'kernel': 'rbf'}\n",
      "23.834809396017356 {'C': 6, 'epsilon': 0.01, 'kernel': 'sigmoid'}\n",
      "0.07152035985388318 {'C': 6, 'epsilon': 0.02, 'kernel': 'rbf'}\n",
      "23.902364617060563 {'C': 6, 'epsilon': 0.02, 'kernel': 'sigmoid'}\n",
      "0.09991206802561343 {'C': 6, 'epsilon': 0.05, 'kernel': 'rbf'}\n",
      "23.728715335646452 {'C': 6, 'epsilon': 0.05, 'kernel': 'sigmoid'}\n",
      "0.15174166472477404 {'C': 6, 'epsilon': 0.1, 'kernel': 'rbf'}\n",
      "24.29972833646094 {'C': 6, 'epsilon': 0.1, 'kernel': 'sigmoid'}\n",
      "0.2460851319441635 {'C': 6, 'epsilon': 0.2, 'kernel': 'rbf'}\n",
      "0.24009098363001002 {'C': 6, 'epsilon': 0.2, 'kernel': 'sigmoid'}\n",
      "0.07078031126830676 {'C': 7, 'epsilon': 0.0001, 'kernel': 'rbf'}\n",
      "27.784259441204675 {'C': 7, 'epsilon': 0.0001, 'kernel': 'sigmoid'}\n",
      "0.06974933649010036 {'C': 7, 'epsilon': 0.0005, 'kernel': 'rbf'}\n",
      "27.752544967393497 {'C': 7, 'epsilon': 0.0005, 'kernel': 'sigmoid'}\n",
      "0.06937699961448988 {'C': 7, 'epsilon': 0.001, 'kernel': 'rbf'}\n",
      "27.80844952363435 {'C': 7, 'epsilon': 0.001, 'kernel': 'sigmoid'}\n",
      "0.06471985682088155 {'C': 7, 'epsilon': 0.005, 'kernel': 'rbf'}\n",
      "27.80710748275759 {'C': 7, 'epsilon': 0.005, 'kernel': 'sigmoid'}\n",
      "0.06335943102183149 {'C': 7, 'epsilon': 0.008, 'kernel': 'rbf'}\n",
      "27.764206064732726 {'C': 7, 'epsilon': 0.008, 'kernel': 'sigmoid'}\n",
      "0.062016286152773485 {'C': 7, 'epsilon': 0.01, 'kernel': 'rbf'}\n",
      "27.73753185547455 {'C': 7, 'epsilon': 0.01, 'kernel': 'sigmoid'}\n",
      "0.07167147319040955 {'C': 7, 'epsilon': 0.02, 'kernel': 'rbf'}\n",
      "27.789758367423836 {'C': 7, 'epsilon': 0.02, 'kernel': 'sigmoid'}\n",
      "0.0997166977691339 {'C': 7, 'epsilon': 0.05, 'kernel': 'rbf'}\n",
      "27.847945930214465 {'C': 7, 'epsilon': 0.05, 'kernel': 'sigmoid'}\n",
      "0.1517475082363162 {'C': 7, 'epsilon': 0.1, 'kernel': 'rbf'}\n",
      "27.266098405520882 {'C': 7, 'epsilon': 0.1, 'kernel': 'sigmoid'}\n",
      "0.2460851319441635 {'C': 7, 'epsilon': 0.2, 'kernel': 'rbf'}\n",
      "0.24009098363001002 {'C': 7, 'epsilon': 0.2, 'kernel': 'sigmoid'}\n",
      "0.06827391393674305 {'C': 8, 'epsilon': 0.0001, 'kernel': 'rbf'}\n",
      "31.701335874175626 {'C': 8, 'epsilon': 0.0001, 'kernel': 'sigmoid'}\n",
      "0.06745963951427425 {'C': 8, 'epsilon': 0.0005, 'kernel': 'rbf'}\n",
      "31.701789287198665 {'C': 8, 'epsilon': 0.0005, 'kernel': 'sigmoid'}\n",
      "0.06693288376034137 {'C': 8, 'epsilon': 0.001, 'kernel': 'rbf'}\n",
      "31.737163403253735 {'C': 8, 'epsilon': 0.001, 'kernel': 'sigmoid'}\n",
      "0.06368226881337168 {'C': 8, 'epsilon': 0.005, 'kernel': 'rbf'}\n",
      "31.670054410969172 {'C': 8, 'epsilon': 0.005, 'kernel': 'sigmoid'}\n",
      "0.0626012183496096 {'C': 8, 'epsilon': 0.008, 'kernel': 'rbf'}\n",
      "31.613905795015626 {'C': 8, 'epsilon': 0.008, 'kernel': 'sigmoid'}\n",
      "0.061251611868973065 {'C': 8, 'epsilon': 0.01, 'kernel': 'rbf'}\n",
      "31.616095834358998 {'C': 8, 'epsilon': 0.01, 'kernel': 'sigmoid'}\n",
      "0.07176239248008315 {'C': 8, 'epsilon': 0.02, 'kernel': 'rbf'}\n",
      "31.83423488799435 {'C': 8, 'epsilon': 0.02, 'kernel': 'sigmoid'}\n",
      "0.10021251975713295 {'C': 8, 'epsilon': 0.05, 'kernel': 'rbf'}\n",
      "31.830352005328837 {'C': 8, 'epsilon': 0.05, 'kernel': 'sigmoid'}\n",
      "0.14948046342927238 {'C': 8, 'epsilon': 0.1, 'kernel': 'rbf'}\n",
      "31.252244919253005 {'C': 8, 'epsilon': 0.1, 'kernel': 'sigmoid'}\n",
      "0.2460851319441635 {'C': 8, 'epsilon': 0.2, 'kernel': 'rbf'}\n",
      "0.24009098363001002 {'C': 8, 'epsilon': 0.2, 'kernel': 'sigmoid'}\n",
      "0.06564931746208508 {'C': 9, 'epsilon': 0.0001, 'kernel': 'rbf'}\n",
      "35.7671680286479 {'C': 9, 'epsilon': 0.0001, 'kernel': 'sigmoid'}\n",
      "0.06530653591477291 {'C': 9, 'epsilon': 0.0005, 'kernel': 'rbf'}\n",
      "35.77533508673703 {'C': 9, 'epsilon': 0.0005, 'kernel': 'sigmoid'}\n",
      "0.0652252033217037 {'C': 9, 'epsilon': 0.001, 'kernel': 'rbf'}\n",
      "35.74724615779953 {'C': 9, 'epsilon': 0.001, 'kernel': 'sigmoid'}\n",
      "0.06294269767558655 {'C': 9, 'epsilon': 0.005, 'kernel': 'rbf'}\n",
      "35.754123251670535 {'C': 9, 'epsilon': 0.005, 'kernel': 'sigmoid'}\n",
      "0.0620134774600882 {'C': 9, 'epsilon': 0.008, 'kernel': 'rbf'}\n",
      "35.75556924773167 {'C': 9, 'epsilon': 0.008, 'kernel': 'sigmoid'}\n",
      "0.06141420061922759 {'C': 9, 'epsilon': 0.01, 'kernel': 'rbf'}\n",
      "35.794556485671684 {'C': 9, 'epsilon': 0.01, 'kernel': 'sigmoid'}\n",
      "0.07180050465408404 {'C': 9, 'epsilon': 0.02, 'kernel': 'rbf'}\n",
      "35.66731880982311 {'C': 9, 'epsilon': 0.02, 'kernel': 'sigmoid'}\n",
      "0.09932213515146439 {'C': 9, 'epsilon': 0.05, 'kernel': 'rbf'}\n",
      "35.69090814281565 {'C': 9, 'epsilon': 0.05, 'kernel': 'sigmoid'}\n",
      "0.14935099507490066 {'C': 9, 'epsilon': 0.1, 'kernel': 'rbf'}\n",
      "35.74342348222217 {'C': 9, 'epsilon': 0.1, 'kernel': 'sigmoid'}\n",
      "0.2460851319441635 {'C': 9, 'epsilon': 0.2, 'kernel': 'rbf'}\n",
      "0.24009098363001002 {'C': 9, 'epsilon': 0.2, 'kernel': 'sigmoid'}\n",
      "0.063693922718047 {'C': 10, 'epsilon': 0.0001, 'kernel': 'rbf'}\n",
      "39.75726219617916 {'C': 10, 'epsilon': 0.0001, 'kernel': 'sigmoid'}\n",
      "0.063760940185749 {'C': 10, 'epsilon': 0.0005, 'kernel': 'rbf'}\n",
      "39.763297270388236 {'C': 10, 'epsilon': 0.0005, 'kernel': 'sigmoid'}\n",
      "0.0638419159186733 {'C': 10, 'epsilon': 0.001, 'kernel': 'rbf'}\n",
      "39.737953602955606 {'C': 10, 'epsilon': 0.001, 'kernel': 'sigmoid'}\n",
      "0.062401524485749316 {'C': 10, 'epsilon': 0.005, 'kernel': 'rbf'}\n",
      "39.74163416400315 {'C': 10, 'epsilon': 0.005, 'kernel': 'sigmoid'}\n",
      "0.06228270162127374 {'C': 10, 'epsilon': 0.008, 'kernel': 'rbf'}\n",
      "39.71606463128675 {'C': 10, 'epsilon': 0.008, 'kernel': 'sigmoid'}\n",
      "0.06197812984059679 {'C': 10, 'epsilon': 0.01, 'kernel': 'rbf'}\n",
      "39.84400993381057 {'C': 10, 'epsilon': 0.01, 'kernel': 'sigmoid'}\n",
      "0.07121034578600512 {'C': 10, 'epsilon': 0.02, 'kernel': 'rbf'}\n",
      "39.69634689867357 {'C': 10, 'epsilon': 0.02, 'kernel': 'sigmoid'}\n",
      "0.10022542316017463 {'C': 10, 'epsilon': 0.05, 'kernel': 'rbf'}\n",
      "39.44211834895748 {'C': 10, 'epsilon': 0.05, 'kernel': 'sigmoid'}\n",
      "0.14935099507490066 {'C': 10, 'epsilon': 0.1, 'kernel': 'rbf'}\n",
      "39.639333641731845 {'C': 10, 'epsilon': 0.1, 'kernel': 'sigmoid'}\n",
      "0.2460851319441635 {'C': 10, 'epsilon': 0.2, 'kernel': 'rbf'}\n",
      "0.24009098363001002 {'C': 10, 'epsilon': 0.2, 'kernel': 'sigmoid'}\n"
     ]
    }
   ],
   "source": [
    "from sklearn.metrics import make_scorer\n",
    "score_rel_error=make_scorer(relative_error, greater_is_better=False)\n",
    "\n",
    "from sklearn.model_selection import GridSearchCV\n",
    "param_grid=[{'kernel':['rbf','sigmoid'],'C':[5,6,7,8,9,10],\n",
    "            'epsilon':[0.0001,0.0005,0.001,0.005,0.008,0.01,0.02,0.05,0.1,0.2]}]\n",
    "svr_reg=SVR()\n",
    "grid_search=GridSearchCV(svr_reg,param_grid,cv=100,scoring=score_rel_error)\n",
    "start = time.time()\n",
    "grid_search.fit(Dimensionless_Attributes_Scaled,Dimensionless_Labels)\n",
    "end = time.time()\n",
    "print(end - start)\n",
    "cvres=grid_search.cv_results_\n",
    "for mean_score,params in zip(cvres[\"mean_test_score\"],cvres[\"params\"]):\n",
    "    print((-mean_score),params)"
   ]
  },
  {
   "cell_type": "code",
   "execution_count": 9,
   "metadata": {},
   "outputs": [
    {
     "data": {
      "text/plain": [
       "SVR(C=8, cache_size=200, coef0=0.0, degree=3, epsilon=0.01, gamma='auto',\n",
       "  kernel='rbf', max_iter=-1, shrinking=True, tol=0.001, verbose=False)"
      ]
     },
     "execution_count": 9,
     "metadata": {},
     "output_type": "execute_result"
    }
   ],
   "source": [
    "grid_search.best_estimator_"
   ]
  },
  {
   "cell_type": "markdown",
   "metadata": {},
   "source": [
    "### 3.3.1. Support Vectors, Dual Coefficient & Intercept"
   ]
  },
  {
   "cell_type": "code",
   "execution_count": 10,
   "metadata": {},
   "outputs": [
    {
     "data": {
      "text/plain": [
       "array([[ 0.00000000e+00,  0.00000000e+00,  0.00000000e+00,\n",
       "         0.00000000e+00,  0.00000000e+00,  0.00000000e+00,\n",
       "         2.86462543e-02, -8.24529902e-01],\n",
       "       [-8.01017491e-01,  5.15746160e-01, -7.23101839e-01,\n",
       "        -6.42524000e-01,  7.23101839e-01,  8.50033963e-01,\n",
       "        -6.54464019e-02,  5.85390151e-01],\n",
       "       [-8.01017491e-01,  5.15746160e-01, -7.23101839e-01,\n",
       "        -6.42524000e-01,  7.23101839e-01,  8.50033963e-01,\n",
       "         7.04105086e+00,  5.62143037e-01],\n",
       "       [-1.32384453e+00,  5.86484893e-01, -8.56725658e-01,\n",
       "        -6.84699803e-01,  8.56725658e-01,  1.05535179e+00,\n",
       "         7.04105086e+00,  5.62143037e-01],\n",
       "       [ 2.02704508e-01, -5.25096398e-01,  2.82446398e-01,\n",
       "         3.65136355e-01, -2.82446398e-01, -1.50591644e-01,\n",
       "        -2.09089040e+00, -2.10608855e-01],\n",
       "       [-3.41251112e-01,  3.12062094e-01, -3.84754452e-01,\n",
       "        -4.04730254e-01,  3.84754452e-01,  3.91424952e-01,\n",
       "         1.43501385e-02, -6.45261320e-01],\n",
       "       [-1.52835294e-01,  1.67485552e-01, -1.86395987e-01,\n",
       "        -2.10817809e-01,  1.86395987e-01,  1.69561088e-01,\n",
       "         0.00000000e+00, -4.37856963e-01],\n",
       "       [-1.27049562e+00,  5.85770352e-01, -8.55334364e-01,\n",
       "        -6.84654994e-01,  8.55334364e-01,  1.05314893e+00,\n",
       "         0.00000000e+00, -4.37856963e-01],\n",
       "       [-5.59522533e-01,  4.29336740e-01, -5.71150439e-01,\n",
       "        -5.52929264e-01,  5.71150439e-01,  6.32630996e-01,\n",
       "         2.86462543e-02, -8.24529902e-01],\n",
       "       [ 2.04566641e-01, -5.66013748e-01,  2.85227290e-01,\n",
       "         3.68982915e-01, -2.85227290e-01, -1.50758130e-01,\n",
       "         4.50023897e+00,  9.09275110e-01],\n",
       "       [ 1.98982509e-01, -4.84253840e-01,  2.76898161e-01,\n",
       "         3.57476000e-01, -2.76898161e-01, -1.49966037e-01,\n",
       "        -2.09089040e+00, -2.10608855e-01],\n",
       "       [ 2.04799461e-01, -5.86484893e-01,  2.85575219e-01,\n",
       "         3.69464505e-01, -2.85575219e-01, -1.50764541e-01,\n",
       "         3.59542781e-03, -3.89552771e-01],\n",
       "       [ 1.81575924e-01, -3.82800827e-01,  2.51130633e-01,\n",
       "         3.22145352e-01, -2.51130633e-01, -1.44449156e-01,\n",
       "         7.00488007e+00,  1.30182468e+00],\n",
       "       [-1.32384453e+00,  5.86484893e-01, -8.56725658e-01,\n",
       "        -6.84699803e-01,  8.56725658e-01,  1.05535179e+00,\n",
       "         2.86462543e-02, -8.24529902e-01],\n",
       "       [-5.59522533e-01,  4.29336740e-01, -5.71150439e-01,\n",
       "        -5.52929264e-01,  5.71150439e-01,  6.32630996e-01,\n",
       "        -1.08090197e-02, -1.85591270e-01],\n",
       "       [ 0.00000000e+00,  0.00000000e+00,  0.00000000e+00,\n",
       "         0.00000000e+00,  0.00000000e+00,  0.00000000e+00,\n",
       "         7.04105086e+00,  5.62143037e-01],\n",
       "       [ 1.12610948e-01, -1.85305599e-01,  1.51951400e-01,\n",
       "         1.90013552e-01, -1.51951400e-01, -1.02509327e-01,\n",
       "        -6.54464019e-02,  5.85390151e-01],\n",
       "       [ 1.12610948e-01, -1.85305599e-01,  1.51951400e-01,\n",
       "         1.90013552e-01, -1.51951400e-01, -1.02509327e-01,\n",
       "         1.43501385e-02, -6.45261320e-01],\n",
       "       [-1.05839828e+00,  5.68664847e-01, -8.22281072e-01,\n",
       "        -6.79180058e-01,  8.22281072e-01,  1.00121184e+00,\n",
       "         2.86462543e-02, -8.24529902e-01],\n",
       "       [ 2.04799461e-01, -5.86484893e-01,  2.85575219e-01,\n",
       "         3.69464505e-01, -2.85575219e-01, -1.50764541e-01,\n",
       "        -2.16442885e-02,  2.19493065e-01],\n",
       "       [ 1.93405181e-01, -4.43535836e-01,  2.68609610e-01,\n",
       "         3.46067033e-01, -2.68609610e-01, -1.48581447e-01,\n",
       "        -2.09089040e+00, -2.10608855e-01],\n",
       "       [ 2.04799461e-01, -5.86484893e-01,  2.85575219e-01,\n",
       "         3.69464505e-01, -2.85575219e-01, -1.50764541e-01,\n",
       "        -5.07669486e-02,  5.02134216e-01],\n",
       "       [ 1.81575924e-01, -3.82800827e-01,  2.51130633e-01,\n",
       "         3.22145352e-01, -2.51130633e-01, -1.44449156e-01,\n",
       "         1.43501385e-02, -6.45261320e-01],\n",
       "       [ 0.00000000e+00,  0.00000000e+00,  0.00000000e+00,\n",
       "         0.00000000e+00,  0.00000000e+00,  0.00000000e+00,\n",
       "         1.43501385e-02, -6.45261320e-01],\n",
       "       [ 2.03344531e-01, -5.35320670e-01,  2.83401820e-01,\n",
       "         3.66457376e-01, -2.83401820e-01, -1.50664443e-01,\n",
       "         4.50023897e+00,  9.09275110e-01],\n",
       "       [-1.32384453e+00,  5.86484893e-01, -8.56725658e-01,\n",
       "        -6.84699803e-01,  8.56725658e-01,  1.05535179e+00,\n",
       "         0.00000000e+00, -4.37856963e-01],\n",
       "       [ 1.98982509e-01, -4.84253840e-01,  2.76898161e-01,\n",
       "         3.57476000e-01, -2.76898161e-01, -1.49966037e-01,\n",
       "         4.50023897e+00,  9.09275110e-01],\n",
       "       [-1.32384453e+00,  5.86484893e-01, -8.56725658e-01,\n",
       "        -6.84699803e-01,  8.56725658e-01,  1.05535179e+00,\n",
       "        -3.98190516e-02,  2.63311046e-01],\n",
       "       [ 2.04799461e-01, -5.86484893e-01,  2.85575219e-01,\n",
       "         3.69464505e-01, -2.85575219e-01, -1.50764541e-01,\n",
       "         7.04105086e+00,  5.62143037e-01],\n",
       "       [ 2.04799461e-01, -5.86484893e-01,  2.85575219e-01,\n",
       "         3.69464505e-01, -2.85575219e-01, -1.50764541e-01,\n",
       "        -1.80411625e-02, -3.17772375e-03],\n",
       "       [ 2.02704508e-01, -5.25096398e-01,  2.82446398e-01,\n",
       "         3.65136355e-01, -2.82446398e-01, -1.50591644e-01,\n",
       "        -2.13380262e+00,  1.27888118e-01],\n",
       "       [ 1.12610948e-01, -1.85305599e-01,  1.51951400e-01,\n",
       "         1.90013552e-01, -1.51951400e-01, -1.02509327e-01,\n",
       "        -3.98190516e-02,  2.63311046e-01],\n",
       "       [ 0.00000000e+00,  0.00000000e+00,  0.00000000e+00,\n",
       "         0.00000000e+00,  0.00000000e+00,  0.00000000e+00,\n",
       "         7.02303893e+00,  1.01683834e+00],\n",
       "       [ 2.04799461e-01, -5.86484893e-01,  2.85575219e-01,\n",
       "         3.69464505e-01, -2.85575219e-01, -1.50764541e-01,\n",
       "         7.18212802e-03, -4.76469392e-01],\n",
       "       [-1.27049562e+00,  5.85770352e-01, -8.55334364e-01,\n",
       "        -6.84654994e-01,  8.55334364e-01,  1.05314893e+00,\n",
       "         2.86462543e-02, -8.24529902e-01],\n",
       "       [ 2.04799461e-01, -5.86484893e-01,  2.85575219e-01,\n",
       "         3.69464505e-01, -2.85575219e-01, -1.50764541e-01,\n",
       "        -2.09089040e+00, -2.10608855e-01],\n",
       "       [-3.41251112e-01,  3.12062094e-01, -3.84754452e-01,\n",
       "        -4.04730254e-01,  3.84754452e-01,  3.91424952e-01,\n",
       "         7.04105086e+00,  5.62143037e-01],\n",
       "       [-1.52835294e-01,  1.67485552e-01, -1.86395987e-01,\n",
       "        -2.10817809e-01,  1.86395987e-01,  1.69561088e-01,\n",
       "         1.43501385e-02, -6.45261320e-01],\n",
       "       [ 1.81575924e-01, -3.82800827e-01,  2.51130633e-01,\n",
       "         3.22145352e-01, -2.51130633e-01, -1.44449156e-01,\n",
       "         0.00000000e+00, -4.37856963e-01],\n",
       "       [ 1.81575924e-01, -3.82800827e-01,  2.51130633e-01,\n",
       "         3.22145352e-01, -2.51130633e-01, -1.44449156e-01,\n",
       "         7.04105086e+00,  5.62143037e-01],\n",
       "       [ 1.98982509e-01, -4.84253840e-01,  2.76898161e-01,\n",
       "         3.57476000e-01, -2.76898161e-01, -1.49966037e-01,\n",
       "        -2.13380262e+00,  1.30016727e-01],\n",
       "       [-1.32384453e+00,  5.86484893e-01, -8.56725658e-01,\n",
       "        -6.84699803e-01,  8.56725658e-01,  1.05535179e+00,\n",
       "         7.02303893e+00,  1.01683834e+00],\n",
       "       [-5.59522533e-01,  4.29336740e-01, -5.71150439e-01,\n",
       "        -5.52929264e-01,  5.71150439e-01,  6.32630996e-01,\n",
       "         1.43501385e-02, -6.45261320e-01],\n",
       "       [-3.41251112e-01,  3.12062094e-01, -3.84754452e-01,\n",
       "        -4.04730254e-01,  3.84754452e-01,  3.91424952e-01,\n",
       "         2.86462543e-02, -8.24529902e-01],\n",
       "       [ 1.91721700e-01, -4.33381614e-01,  2.66113740e-01,\n",
       "         3.42639744e-01, -2.66113740e-01, -1.48082397e-01,\n",
       "         2.66007075e-01, -6.17999189e-01],\n",
       "       [ 2.04566641e-01, -5.66013748e-01,  2.85227290e-01,\n",
       "         3.68982915e-01, -2.85227290e-01, -1.50758130e-01,\n",
       "         3.80606509e+00, -1.48395527e-01],\n",
       "       [-1.05839828e+00,  5.68664847e-01, -8.22281072e-01,\n",
       "        -6.79180058e-01,  8.22281072e-01,  1.00121184e+00,\n",
       "         0.00000000e+00, -4.37856963e-01],\n",
       "       [ 1.12610948e-01, -1.85305599e-01,  1.51951400e-01,\n",
       "         1.90013552e-01, -1.51951400e-01, -1.02509327e-01,\n",
       "         2.86462543e-02, -8.24529902e-01],\n",
       "       [ 1.81575924e-01, -3.82800827e-01,  2.51130633e-01,\n",
       "         3.22145352e-01, -2.51130633e-01, -1.44449156e-01,\n",
       "         2.86462543e-02, -8.24529902e-01],\n",
       "       [-8.01017491e-01,  5.15746160e-01, -7.23101839e-01,\n",
       "        -6.42524000e-01,  7.23101839e-01,  8.50033963e-01,\n",
       "         7.02303893e+00,  1.01683834e+00],\n",
       "       [-1.52835294e-01,  1.67485552e-01, -1.86395987e-01,\n",
       "        -2.10817809e-01,  1.86395987e-01,  1.69561088e-01,\n",
       "         2.86462543e-02, -8.24529902e-01],\n",
       "       [ 2.04799461e-01, -5.86484893e-01,  2.85575219e-01,\n",
       "         3.69464505e-01, -2.85575219e-01, -1.50764541e-01,\n",
       "        -3.98269891e-02,  3.28190592e-01],\n",
       "       [-1.05839828e+00,  5.68664847e-01, -8.22281072e-01,\n",
       "        -6.79180058e-01,  8.22281072e-01,  1.00121184e+00,\n",
       "        -1.08090197e-02, -1.85591270e-01],\n",
       "       [-5.59522533e-01,  4.29336740e-01, -5.71150439e-01,\n",
       "        -5.52929264e-01,  5.71150439e-01,  6.32630996e-01,\n",
       "        -6.54464019e-02,  5.85390151e-01],\n",
       "       [ 2.04566641e-01, -5.66013748e-01,  2.85227290e-01,\n",
       "         3.68982915e-01, -2.85227290e-01, -1.50758130e-01,\n",
       "         9.60180948e-01,  4.39671447e-01],\n",
       "       [ 1.81575924e-01, -3.82800827e-01,  2.51130633e-01,\n",
       "         3.22145352e-01, -2.51130633e-01, -1.44449156e-01,\n",
       "        -2.13380262e+00,  1.30472429e-01],\n",
       "       [ 2.04566641e-01, -5.66013748e-01,  2.85227290e-01,\n",
       "         3.68982915e-01, -2.85227290e-01, -1.50758130e-01,\n",
       "         2.66007075e-01, -6.17999189e-01],\n",
       "       [ 2.04799461e-01, -5.86484893e-01,  2.85575219e-01,\n",
       "         3.69464505e-01, -2.85575219e-01, -1.50764541e-01,\n",
       "        -1.07962559e-02, -7.99919994e-02],\n",
       "       [-1.32384453e+00,  5.86484893e-01, -8.56725658e-01,\n",
       "        -6.84699803e-01,  8.56725658e-01,  1.05535179e+00,\n",
       "         1.43501385e-02, -6.45261320e-01],\n",
       "       [ 2.04799461e-01, -5.86484893e-01,  2.85575219e-01,\n",
       "         3.69464505e-01, -2.85575219e-01, -1.50764541e-01,\n",
       "        -3.60113783e-03, -2.56585015e-01],\n",
       "       [ 1.91721700e-01, -4.33381614e-01,  2.66113740e-01,\n",
       "         3.42639744e-01, -2.66113740e-01, -1.48082397e-01,\n",
       "         3.80606509e+00, -1.48395527e-01],\n",
       "       [ 1.98982509e-01, -4.84253840e-01,  2.76898161e-01,\n",
       "         3.57476000e-01, -2.76898161e-01, -1.49966037e-01,\n",
       "         2.66007075e-01, -6.17999189e-01],\n",
       "       [-3.41251112e-01,  3.12062094e-01, -3.84754452e-01,\n",
       "        -4.04730254e-01,  3.84754452e-01,  3.91424952e-01,\n",
       "        -6.54464019e-02,  5.85390151e-01],\n",
       "       [ 0.00000000e+00,  0.00000000e+00,  0.00000000e+00,\n",
       "         0.00000000e+00,  0.00000000e+00,  0.00000000e+00,\n",
       "        -3.98190516e-02,  2.63311046e-01],\n",
       "       [-1.32384453e+00,  5.86484893e-01, -8.56725658e-01,\n",
       "        -6.84699803e-01,  8.56725658e-01,  1.05535179e+00,\n",
       "        -1.08090197e-02, -1.85591270e-01],\n",
       "       [ 1.81575924e-01, -3.82800827e-01,  2.51130633e-01,\n",
       "         3.22145352e-01, -2.51130633e-01, -1.44449156e-01,\n",
       "        -2.16525576e-02,  0.00000000e+00],\n",
       "       [ 2.03344531e-01, -5.35320670e-01,  2.83401820e-01,\n",
       "         3.66457376e-01, -2.83401820e-01, -1.50664443e-01,\n",
       "         2.66007075e-01, -6.17999189e-01],\n",
       "       [-8.01017491e-01,  5.15746160e-01, -7.23101839e-01,\n",
       "        -6.42524000e-01,  7.23101839e-01,  8.50033963e-01,\n",
       "         0.00000000e+00, -4.37856963e-01],\n",
       "       [-8.01017491e-01,  5.15746160e-01, -7.23101839e-01,\n",
       "        -6.42524000e-01,  7.23101839e-01,  8.50033963e-01,\n",
       "        -1.08090197e-02, -1.85591270e-01],\n",
       "       [ 2.04799461e-01, -5.86484893e-01,  2.85575219e-01,\n",
       "         3.69464505e-01, -2.85575219e-01, -1.50764541e-01,\n",
       "        -4.71280024e-02,  4.16034209e-01],\n",
       "       [ 2.04566641e-01, -5.66013748e-01,  2.85227290e-01,\n",
       "         3.68982915e-01, -2.85227290e-01, -1.50758130e-01,\n",
       "        -2.09089040e+00, -2.10608855e-01],\n",
       "       [ 2.04799461e-01, -5.86484893e-01,  2.85575219e-01,\n",
       "         3.69464505e-01, -2.85575219e-01, -1.50764541e-01,\n",
       "        -2.13380262e+00,  1.30624297e-01],\n",
       "       [ 1.81575924e-01, -3.82800827e-01,  2.51130633e-01,\n",
       "         3.22145352e-01, -2.51130633e-01, -1.44449156e-01,\n",
       "         7.03387287e+00,  7.97758303e-01]])"
      ]
     },
     "execution_count": 10,
     "metadata": {},
     "output_type": "execute_result"
    }
   ],
   "source": [
    "svr=grid_search.best_estimator_\n",
    "svr.fit(Dimensionless_Attributes_Scaled,Dimensionless_Labels)\n",
    "svr.support_vectors_"
   ]
  },
  {
   "cell_type": "code",
   "execution_count": 11,
   "metadata": {},
   "outputs": [
    {
     "data": {
      "text/plain": [
       "array([[-8.        ,  1.92421541,  8.        , -5.43067045,  8.        ,\n",
       "         8.        ,  0.75837865,  8.        , -0.21875866, -8.        ,\n",
       "         8.        , -1.25571676, -3.57216227, -8.        , -8.        ,\n",
       "         0.53274498, -8.        ,  8.        , -1.00003778, -8.        ,\n",
       "         0.44491539,  8.        ,  8.        ,  3.54009887,  8.        ,\n",
       "         8.        ,  0.51469818, -1.3126408 ,  1.66107794, -2.96284527,\n",
       "         8.        , -0.98895365,  3.21277263, -8.        , -8.        ,\n",
       "        -8.        , -4.12262767,  8.        ,  8.        , -8.        ,\n",
       "         1.6162013 ,  3.46086358,  8.        , -8.        ,  8.        ,\n",
       "        -8.        ,  5.22664343, -8.        , -0.71584474, -3.85101055,\n",
       "        -8.        ,  5.2447307 , -8.        ,  1.76667   , -0.88679346,\n",
       "        -1.52194852, -8.        , -8.        ,  7.8714708 , -8.        ,\n",
       "         7.58399762,  8.        ,  1.47120001, -2.17639395, -5.78926695,\n",
       "         3.59869708,  1.37629492,  8.        , -8.        ,  8.        ,\n",
       "        -8.        , -8.        ,  8.        ]])"
      ]
     },
     "execution_count": 11,
     "metadata": {},
     "output_type": "execute_result"
    }
   ],
   "source": [
    "svr.dual_coef_ "
   ]
  },
  {
   "cell_type": "code",
   "execution_count": 12,
   "metadata": {},
   "outputs": [
    {
     "data": {
      "text/plain": [
       "array([0.18901934])"
      ]
     },
     "execution_count": 12,
     "metadata": {},
     "output_type": "execute_result"
    }
   ],
   "source": [
    "svr.intercept_"
   ]
  },
  {
   "cell_type": "markdown",
   "metadata": {},
   "source": [
    "### 3.3.2. Pipeline\n",
    "\"Transformers are usually combined with classifiers, regressors or other estimators to build a composite estimator. The most common tool is a Pipeline. Pipeline is often used in combination with FeatureUnion which concatenates the output of transformers into a composite feature space.\" [2]\n",
    "In our application, we are going to form a regressor which first receives the fluids properties and pipe geometry for each observation, then scales the experimental results and finally, performs the prediction."
   ]
  },
  {
   "cell_type": "code",
   "execution_count": 13,
   "metadata": {},
   "outputs": [],
   "source": [
    "def drift_vel_calc(initial_data):\n",
    "    def input_transformer(initial_data):\n",
    "        import numpy as np\n",
    "        import pandas as pd\n",
    "        inputdf=pd.DataFrame()\n",
    "        inputdf['Cos(Angle)']=np.cos(initial_data['theta [rad]'])\n",
    "        inputdf['Sin(Angle)']=np.sin(initial_data['theta [rad]'])\n",
    "        inputdf['Buoyancy Reynolds R']=np.sqrt(initial_data['Diameter [m]']**3*initial_data['g [m/s2]']*(initial_data['rhoL [kg/m3]']-initial_data['rhoG [kg/m3]'])*initial_data['rhoL [kg/m3]'])/initial_data['muL [Pa.s]']\n",
    "        inputdf['Eotvos Number Eo']=(initial_data['rhoL [kg/m3]']-initial_data['rhoG [kg/m3]'])*initial_data['g [m/s2]']*initial_data['Diameter [m]']**2/initial_data['sigma [N/m]']\n",
    "        inputdf['Cos(Angle)^2']=inputdf['Cos(Angle)']**2\n",
    "        inputdf['Cos(Angle)^3']=inputdf['Cos(Angle)']**3\n",
    "        inputdf['Sin(Angle)^2']=inputdf['Sin(Angle)']**2\n",
    "        inputdf['Sin(Angle)^3']=inputdf['Sin(Angle)']**3\n",
    "        inputdf['Ln(Eo)']=np.log(inputdf['Eotvos Number Eo'])\n",
    "        inputdf['Ln(R)']=np.log(inputdf['Buoyancy Reynolds R'])\n",
    "        inputdf=inputdf.drop('Eotvos Number Eo',axis=1)\n",
    "        inputdf=inputdf.drop('Buoyancy Reynolds R',axis=1)\n",
    "        return inputdf\n",
    "    from sklearn.pipeline import make_pipeline\n",
    "    from sklearn.preprocessing import FunctionTransformer\n",
    "    svr_estimator=make_pipeline(FunctionTransformer(input_transformer,validate=False),scaler,svr)\n",
    "    Fr_pipe=svr_estimator.predict(initial_data)\n",
    "    V_d_pipe=Fr_pipe*(np.cos(initial_data['theta [rad]'])+np.sin(initial_data['theta [rad]']))*np.power(initial_data['g [m/s2]']*initial_data['Diameter [m]']*(1-initial_data['rhoG [kg/m3]']/initial_data['rhoL [kg/m3]']),0.5)\n",
    "    return V_d_pipe\n",
    "\n",
    "from sklearn.preprocessing import FunctionTransformer\n",
    "drift_vel_estimator=FunctionTransformer(drift_vel_calc,validate=False)"
   ]
  },
  {
   "cell_type": "markdown",
   "metadata": {},
   "source": [
    "### 3.4. Saving the Model\n",
    "The model is available to download from the following link:\n",
    "https://github.com/VictorPuglieseManotas/Research/blob/master/drift_velocity_regressor.joblib\n",
    "\n",
    "The file must be saved in the working directory."
   ]
  },
  {
   "cell_type": "code",
   "execution_count": 14,
   "metadata": {},
   "outputs": [
    {
     "data": {
      "text/plain": [
       "['drift_velocity_estimator.joblib']"
      ]
     },
     "execution_count": 14,
     "metadata": {},
     "output_type": "execute_result"
    }
   ],
   "source": [
    "from sklearn.externals import joblib\n",
    "joblib.dump(drift_vel_estimator,'drift_velocity_estimator.joblib')"
   ]
  },
  {
   "cell_type": "markdown",
   "metadata": {},
   "source": [
    "### 3.5. Loading Model\n",
    "To load the estimator in the user can use the following code:"
   ]
  },
  {
   "cell_type": "code",
   "execution_count": 15,
   "metadata": {},
   "outputs": [],
   "source": [
    "drift_vel_estimator_loaded=joblib.load('drift_velocity_estimator.joblib')"
   ]
  },
  {
   "cell_type": "markdown",
   "metadata": {},
   "source": [
    "### 3.6. Model Evaluation\n",
    "For evaluation purpose, we are going to use the experimental data gather by Dr. Eghorieta, who got drift velocity of Taylor bubble in high viscosity oil for inclination angles from 0° to 10°. Also, we are going to present the prediction performance of Livinus et. al. model [3]\n",
    "\n",
    "First, we check the performance using the Train Set."
   ]
  },
  {
   "cell_type": "code",
   "execution_count": 16,
   "metadata": {},
   "outputs": [
    {
     "data": {
      "text/plain": [
       "Text(0.5,1,'Performance with Train Set')"
      ]
     },
     "execution_count": 16,
     "metadata": {},
     "output_type": "execute_result"
    },
    {
     "data": {
      "image/png": "[encoded data removed]",
      "text/plain": [
       "<Figure size 432x288 with 1 Axes>"
      ]
     },
     "metadata": {},
     "output_type": "display_data"
    }
   ],
   "source": [
    "Dimensionless_Attributes=Dimensionless_Attributes_for_eval\n",
    "\n",
    "Fr_l=np.power(10,-(0.0000007928*np.power(-np.log10(np.asarray(Dimensionless_Attributes['Buoyancy Reynolds R']/Dimensionless_Attributes['Eotvos Number Eo'])),7.443)+0.3276))\n",
    "Fr_Livinus=Fr_l*np.asarray(Dimensionless_Attributes['Cos(Angle)']+Dimensionless_Attributes['Sin(Angle)'])\n",
    "\n",
    "Fr_svr=svr.predict(Dimensionless_Attributes_Scaled)\n",
    "\n",
    "plt.scatter(Dimensionless_Labels,Fr_Livinus,c='c')\n",
    "plt.scatter(Dimensionless_Labels,Fr_svr,c='b')\n",
    "plt.scatter(Dimensionless_Labels,Dimensionless_Labels,c='r')\n",
    "plt.xlabel(\"Froud Number Experiments\")\n",
    "plt.ylabel(\"Froud Number\")\n",
    "plt.legend((\"Predicted by Livinus\",\"Predicted by SVR\",\"Target\"),loc='bottom right')\n",
    "plt.title(\"Performance with Train Set\")"
   ]
  },
  {
   "cell_type": "code",
   "execution_count": 17,
   "metadata": {},
   "outputs": [
    {
     "data": {
      "text/plain": [
       "Text(0.5,1,'Drift Velocity Prediction - Train Set')"
      ]
     },
     "execution_count": 17,
     "metadata": {},
     "output_type": "execute_result"
    },
    {
     "data": {
      "image/png": "[encoded data removed]",
      "text/plain": [
       "<Figure size 432x288 with 1 Axes>"
      ]
     },
     "metadata": {},
     "output_type": "display_data"
    }
   ],
   "source": [
    "V_d_Livinus=Fr_Livinus*np.power(9.80665*D*(1-rho_G/rho_L),0.5)\n",
    "V_d_svr=Fr_svr*np.power(9.80665*D*(1-rho_G/rho_L),0.5)\n",
    "\n",
    "plt.scatter(V_d_real,V_d_Livinus,c='c')\n",
    "plt.scatter(V_d_real,V_d_svr,c='b')\n",
    "plt.scatter(V_d_real,V_d_real,c='r')\n",
    "plt.xlabel(\"Drift Velocity Experiments [m/s]\")\n",
    "plt.ylabel(\"Drift Velocity\")\n",
    "plt.legend((\"Predicted by Livinus\",\"Predicted by SVR\",\"Target\"),loc='bottom right')\n",
    "plt.title(\"Drift Velocity Prediction - Train Set\")"
   ]
  },
  {
   "cell_type": "markdown",
   "metadata": {},
   "source": [
    "Now, we evaluate the performance using the Test Set."
   ]
  },
  {
   "cell_type": "code",
   "execution_count": 18,
   "metadata": {},
   "outputs": [
    {
     "data": {
      "text/plain": [
       "Text(0.5,1,'Performance with Test Set')"
      ]
     },
     "execution_count": 18,
     "metadata": {},
     "output_type": "execute_result"
    },
    {
     "data": {
      "image/png": "[encoded data removed]",
      "text/plain": [
       "<Figure size 432x288 with 1 Axes>"
      ]
     },
     "metadata": {},
     "output_type": "display_data"
    }
   ],
   "source": [
    "Test_Set=pd.read_excel(r\"C:\\Users\\victo\\Test_Set_Drift_Velocity_Analysis_O.xlsx\")\n",
    "\n",
    "Fr_real=np.asarray(Test_Set['Froud Number Fr'])\n",
    "V_d_real=np.asarray(Test_Set['Drift Velocity [m/s]'])\n",
    "\n",
    "Fr_l=np.power(10,-(0.0000007928*np.power(-np.log10(np.asarray(Test_Set['Buoyancy Reynolds R']/Test_Set['Eotvos Number Eo'])),7.443)+0.3276))\n",
    "Fr_Livinus=Fr_l*np.asarray(Test_Set['Cos(Angle)']+Test_Set['Sin(Angle)'])\n",
    "\n",
    "Test_Set=Test_Set.drop(Test_Set.columns[[0,3,4,5,6,7,8,9,10,11,14,15]], axis=1)\n",
    "Test_Set['Cos(Angle)^2']=Test_Set['Cos(Angle)']**2\n",
    "Test_Set['Cos(Angle)^3']=Test_Set['Cos(Angle)']**3\n",
    "Test_Set['Sin(Angle)^2']=Test_Set['Sin(Angle)']**2\n",
    "Test_Set['Sin(Angle)^3']=Test_Set['Sin(Angle)']**3\n",
    "Test_Set['Ln(Eo)']=np.log(Test_Set['Eotvos Number Eo'])\n",
    "Test_Set['Ln(R)']=np.log(Test_Set['Buoyancy Reynolds R'])\n",
    "Test_Set=Test_Set.drop('Eotvos Number Eo',axis=1)\n",
    "Test_Set=Test_Set.drop('Buoyancy Reynolds R',axis=1)\n",
    "\n",
    "Fr_svr_Test=svr.predict(scaler.transform(Test_Set))\n",
    "\n",
    "plt.scatter(Fr_real,Fr_Livinus,c='c')\n",
    "plt.scatter(Fr_real,Fr_svr_Test,c='b')\n",
    "plt.scatter(Fr_real,Fr_real,c='r')\n",
    "plt.xlabel(\"Froud Number Experiments\")\n",
    "plt.ylabel(\"Froud Number\")\n",
    "plt.legend((\"Predicted by Livinus\",\"Predicted by SVR\",\"Target\"),loc='bottom right')\n",
    "plt.title(\"Performance with Test Set\")"
   ]
  },
  {
   "cell_type": "markdown",
   "metadata": {},
   "source": [
    "For Livinus et.al. model, the drift velocity can therefore be calculated from the following equation, using the predicted Froud Number:\n",
    "v_d=Fr[gD(1-rho_g/rho_l)]^0.5\n"
   ]
  },
  {
   "cell_type": "code",
   "execution_count": 19,
   "metadata": {},
   "outputs": [
    {
     "data": {
      "text/plain": [
       "Text(0.5,1,'Drift Velocity Prediction - Test Set')"
      ]
     },
     "execution_count": 19,
     "metadata": {},
     "output_type": "execute_result"
    },
    {
     "data": {
      "image/png": "[encoded data removed]",
      "text/plain": [
       "<Figure size 432x288 with 1 Axes>"
      ]
     },
     "metadata": {},
     "output_type": "display_data"
    }
   ],
   "source": [
    "Test_Set=pd.read_excel(r\"C:\\Users\\victo\\Test_Set_Drift_Velocity_Analysis_O.xlsx\")\n",
    "\n",
    "D=np.asarray(Test_Set['Diameter [m]'])\n",
    "rho_L=np.asarray(Test_Set['rhoL [kg/m3]'])\n",
    "rho_G=np.asarray(Test_Set['rhoG [kg/m3]'])\n",
    "\n",
    "V_d_Livinus=Fr_Livinus*np.power(9.80665*D*(1-rho_G/rho_L),0.5)\n",
    "\n",
    "\n",
    "Test_Set['theta [rad]']=np.pi*Test_Set['Inclination [°]']/180\n",
    "Test_Set=Test_Set.drop(Test_Set.columns[[0,1,2,3,8,10,11,12,13,14,15]], axis=1)\n",
    "Test_Set['g [m/s2]']=9.80665*np.ones(len(Test_Set))\n",
    "\n",
    "V_d_svr=drift_vel_estimator_loaded.transform(Test_Set)\n",
    "\n",
    "plt.scatter(V_d_real,V_d_Livinus,c='c')\n",
    "plt.scatter(V_d_real,V_d_svr,c='b')\n",
    "plt.scatter(V_d_real,V_d_real,c='r')\n",
    "plt.xlabel(\"Drift Velocity Experiments [m/s]\")\n",
    "plt.ylabel(\"Drift Velocity\")\n",
    "plt.legend((\"Predicted by Livinus\",\"Predicted by SVR\",\"Target\"),loc='bottom right')\n",
    "plt.title(\"Drift Velocity Prediction - Test Set\")"
   ]
  },
  {
   "cell_type": "markdown",
   "metadata": {},
   "source": [
    "It is important to note that the input for the \"drift_velocity_estimator\" must be a panda DataFrame, as follow:"
   ]
  },
  {
   "cell_type": "code",
   "execution_count": 20,
   "metadata": {},
   "outputs": [
    {
     "data": {
      "text/html": [
       "<div>\n",
       "<style scoped>\n",
       "    .dataframe tbody tr th:only-of-type {\n",
       "        vertical-align: middle;\n",
       "    }\n",
       "\n",
       "    .dataframe tbody tr th {\n",
       "        vertical-align: top;\n",
       "    }\n",
       "\n",
       "    .dataframe thead th {\n",
       "        text-align: right;\n",
       "    }\n",
       "</style>\n",
       "<table border=\"1\" class=\"dataframe\">\n",
       "  <thead>\n",
       "    <tr style=\"text-align: right;\">\n",
       "      <th></th>\n",
       "      <th>rhoL [kg/m3]</th>\n",
       "      <th>rhoG [kg/m3]</th>\n",
       "      <th>muL [Pa.s]</th>\n",
       "      <th>sigma [N/m]</th>\n",
       "      <th>Diameter [m]</th>\n",
       "      <th>theta [rad]</th>\n",
       "      <th>g [m/s2]</th>\n",
       "    </tr>\n",
       "  </thead>\n",
       "  <tbody>\n",
       "    <tr>\n",
       "      <th>0</th>\n",
       "      <td>889.0</td>\n",
       "      <td>1.225</td>\n",
       "      <td>0.14</td>\n",
       "      <td>0.025</td>\n",
       "      <td>0.037592</td>\n",
       "      <td>0.000000</td>\n",
       "      <td>9.80665</td>\n",
       "    </tr>\n",
       "    <tr>\n",
       "      <th>1</th>\n",
       "      <td>889.0</td>\n",
       "      <td>1.225</td>\n",
       "      <td>0.14</td>\n",
       "      <td>0.025</td>\n",
       "      <td>0.037592</td>\n",
       "      <td>0.017453</td>\n",
       "      <td>9.80665</td>\n",
       "    </tr>\n",
       "    <tr>\n",
       "      <th>2</th>\n",
       "      <td>889.0</td>\n",
       "      <td>1.225</td>\n",
       "      <td>0.14</td>\n",
       "      <td>0.025</td>\n",
       "      <td>0.037592</td>\n",
       "      <td>0.052360</td>\n",
       "      <td>9.80665</td>\n",
       "    </tr>\n",
       "    <tr>\n",
       "      <th>3</th>\n",
       "      <td>889.0</td>\n",
       "      <td>1.225</td>\n",
       "      <td>0.14</td>\n",
       "      <td>0.025</td>\n",
       "      <td>0.037592</td>\n",
       "      <td>0.087266</td>\n",
       "      <td>9.80665</td>\n",
       "    </tr>\n",
       "    <tr>\n",
       "      <th>4</th>\n",
       "      <td>889.0</td>\n",
       "      <td>1.225</td>\n",
       "      <td>0.14</td>\n",
       "      <td>0.025</td>\n",
       "      <td>0.037592</td>\n",
       "      <td>0.122173</td>\n",
       "      <td>9.80665</td>\n",
       "    </tr>\n",
       "  </tbody>\n",
       "</table>\n",
       "</div>"
      ],
      "text/plain": [
       "   rhoL [kg/m3]  rhoG [kg/m3]  muL [Pa.s]  sigma [N/m]  Diameter [m]  \\\n",
       "0         889.0         1.225        0.14        0.025      0.037592   \n",
       "1         889.0         1.225        0.14        0.025      0.037592   \n",
       "2         889.0         1.225        0.14        0.025      0.037592   \n",
       "3         889.0         1.225        0.14        0.025      0.037592   \n",
       "4         889.0         1.225        0.14        0.025      0.037592   \n",
       "\n",
       "   theta [rad]  g [m/s2]  \n",
       "0     0.000000   9.80665  \n",
       "1     0.017453   9.80665  \n",
       "2     0.052360   9.80665  \n",
       "3     0.087266   9.80665  \n",
       "4     0.122173   9.80665  "
      ]
     },
     "execution_count": 20,
     "metadata": {},
     "output_type": "execute_result"
    }
   ],
   "source": [
    "Test_Set.head()"
   ]
  },
  {
   "cell_type": "markdown",
   "metadata": {},
   "source": [
    "According the Froud Number prediction from the Suppor Vector Machine Regressor, we can see that a simplified model, using a constant Froud number can perform a good drift velocity prediction."
   ]
  },
  {
   "cell_type": "code",
   "execution_count": 21,
   "metadata": {},
   "outputs": [
    {
     "data": {
      "text/plain": [
       "Text(0.5,1,'Drift Velocity Prediction')"
      ]
     },
     "execution_count": 21,
     "metadata": {},
     "output_type": "execute_result"
    },
    {
     "data": {
      "image/png": "[encoded data removed]",
      "text/plain": [
       "<Figure size 432x288 with 1 Axes>"
      ]
     },
     "metadata": {},
     "output_type": "display_data"
    }
   ],
   "source": [
    "V_d_simplified=0.36219587*(np.cos(Test_Set['theta [rad]'])+np.sin(Test_Set['theta [rad]']))*np.power(Test_Set['g [m/s2]']*Test_Set['Diameter [m]']*(1-Test_Set['rhoG [kg/m3]']/Test_Set['rhoL [kg/m3]'])*np.power(Test_Set['muL [Pa.s]'],-0.00005),0.8)\n",
    "\n",
    "plt.scatter(V_d_real,V_d_simplified,c='y')\n",
    "plt.scatter(V_d_real,V_d_real,c='r')\n",
    "plt.xlabel(\"Drift Velocity Experiments [m/s]\")\n",
    "plt.ylabel(\"Drift Velocity\")\n",
    "plt.legend((\"Simplified Model\",\"Target\"),loc='bottom right')\n",
    "plt.title(\"Drift Velocity Prediction\")"
   ]
  },
  {
   "cell_type": "markdown",
   "metadata": {},
   "source": [
    "Now, we use the mean squared error and the r2 score as metrics to measure the performance of the model."
   ]
  },
  {
   "cell_type": "code",
   "execution_count": 22,
   "metadata": {},
   "outputs": [
    {
     "data": {
      "text/plain": [
       "0.013802881994733791"
      ]
     },
     "execution_count": 22,
     "metadata": {},
     "output_type": "execute_result"
    }
   ],
   "source": [
    "from sklearn.metrics import mean_squared_error\n",
    "\n",
    "mean_squared_error(V_d_real,V_d_Livinus)"
   ]
  },
  {
   "cell_type": "code",
   "execution_count": 23,
   "metadata": {},
   "outputs": [
    {
     "data": {
      "text/plain": [
       "0.0036117782054024042"
      ]
     },
     "execution_count": 23,
     "metadata": {},
     "output_type": "execute_result"
    }
   ],
   "source": [
    "mean_squared_error(V_d_real,V_d_svr)"
   ]
  },
  {
   "cell_type": "code",
   "execution_count": 24,
   "metadata": {},
   "outputs": [
    {
     "data": {
      "text/plain": [
       "0.0026076783451488158"
      ]
     },
     "execution_count": 24,
     "metadata": {},
     "output_type": "execute_result"
    }
   ],
   "source": [
    "mean_squared_error(V_d_real,V_d_simplified)"
   ]
  },
  {
   "cell_type": "code",
   "execution_count": 25,
   "metadata": {},
   "outputs": [
    {
     "data": {
      "text/plain": [
       "0.31083583405972315"
      ]
     },
     "execution_count": 25,
     "metadata": {},
     "output_type": "execute_result"
    }
   ],
   "source": [
    "relative_error(V_d_real,V_d_Livinus)"
   ]
  },
  {
   "cell_type": "code",
   "execution_count": 26,
   "metadata": {},
   "outputs": [
    {
     "data": {
      "text/plain": [
       "0.13742808510138457"
      ]
     },
     "execution_count": 26,
     "metadata": {},
     "output_type": "execute_result"
    }
   ],
   "source": [
    "relative_error(V_d_real,V_d_svr)"
   ]
  },
  {
   "cell_type": "code",
   "execution_count": 27,
   "metadata": {},
   "outputs": [
    {
     "data": {
      "text/plain": [
       "0.12118619296449928"
      ]
     },
     "execution_count": 27,
     "metadata": {},
     "output_type": "execute_result"
    }
   ],
   "source": [
    "relative_error(V_d_real,V_d_simplified)"
   ]
  },
  {
   "cell_type": "markdown",
   "metadata": {},
   "source": [
    "## 4. References\n",
    "[1] http://scikit-learn.org/stable/modules/preprocessing.html\n",
    "\n",
    "[2] http://scikit-learn.org/stable/modules/compose.html#combining-estimators\n",
    "\n",
    "[3] Livinus, Aniefiok, Patrick Verdin, Liyun Lao, Jan Nossen, Morten Langsholt, and Hans-Gunnar Sleipnaes. \"Simplified generalised drift velocity correlation for elongated bubbles in liquid in pipes.\" Journal of Petroleum Science and Engineering. Vol. 160, 2018: 106-118.\n"
   ]
  }
 ],
 "metadata": {
  "kernelspec": {
   "display_name": "Python 3",
   "language": "python",
   "name": "python3"
  },
  "language_info": {
   "codemirror_mode": {
    "name": "ipython",
    "version": 3
   },
   "file_extension": ".py",
   "mimetype": "text/x-python",
   "name": "python",
   "nbconvert_exporter": "python",
   "pygments_lexer": "ipython3",
   "version": "3.6.5"
  }
 },
 "nbformat": 4,
 "nbformat_minor": 2
}
