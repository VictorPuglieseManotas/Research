{
 "cells": [
  {
   "cell_type": "markdown",
   "metadata": {},
   "source": [
    "Victor Pugliese             Github link:https://github.com/VictorPuglieseManotas e-mail: victor.pugliese@ttu.edu\n",
    "Dr. Raymond Eghorieta                                                            e-mail: raymond.eghorieta@ttu.edu\n",
    "Dr. Ekarit Panacharoensawad Github link:https://github.com/epmmko                e-mail: ekarit.panacharoensawad@ttu.edu"
   ]
  },
  {
   "cell_type": "markdown",
   "metadata": {},
   "source": [
    "# Drift Velocity Analysis"
   ]
  },
  {
   "cell_type": "markdown",
   "metadata": {},
   "source": [
    "## 1. Introduction"
   ]
  },
  {
   "cell_type": "markdown",
   "metadata": {},
   "source": [
    "Dimensionles gruoups have been applied by many researchers to estimate the rise velocity of a single bubble moving in liquid in pipe under the influence of gravitational, inertial, viscous and interfacial forces. These are: Reynolds Number, Eotvos number, Viscosyty Number, Bouyancy Reynolds Number and Froud Number.\n",
    "The objetive of this analysis is to find a model to relate the Froud Number with the rest of dimensionless group. Then, we could use Davies and Taylor (1950) clousure relationship combined with Bendiksen (1984), to calculate the drift velocity."
   ]
  },
  {
   "cell_type": "code",
   "execution_count": 1,
   "metadata": {},
   "outputs": [],
   "source": [
    "#Libraries used\n",
    "%matplotlib inline                 \n",
    "import os                          \n",
    "import numpy as np                 \n",
    "import pandas as pd                \n",
    "import matplotlib.pyplot as plt    \n",
    "import time\n",
    "import warnings\n",
    "warnings.filterwarnings('ignore')  #Never print matching warnings"
   ]
  },
  {
   "cell_type": "markdown",
   "metadata": {},
   "source": [
    "## 2. Data Preparation\n",
    "### 2.1. Load Data\n",
    "The information is taken from the excel file in VictorPuglieseManotas's repository named Research. In this way, any person could download the raw data: https://github.com/VictorPuglieseManotas/Research/blob/master/Drift_Velocity_Analysis.xlsx. This file is saved in a local directory."
   ]
  },
  {
   "cell_type": "code",
   "execution_count": 2,
   "metadata": {},
   "outputs": [
    {
     "data": {
      "text/html": [
       "<div>\n",
       "<style scoped>\n",
       "    .dataframe tbody tr th:only-of-type {\n",
       "        vertical-align: middle;\n",
       "    }\n",
       "\n",
       "    .dataframe tbody tr th {\n",
       "        vertical-align: top;\n",
       "    }\n",
       "\n",
       "    .dataframe thead th {\n",
       "        text-align: right;\n",
       "    }\n",
       "</style>\n",
       "<table border=\"1\" class=\"dataframe\">\n",
       "  <thead>\n",
       "    <tr style=\"text-align: right;\">\n",
       "      <th></th>\n",
       "      <th>Inclination [°]</th>\n",
       "      <th>Cos(Angle)</th>\n",
       "      <th>Sin(Angle)</th>\n",
       "      <th>Temperature [C]</th>\n",
       "      <th>rhoL [kg/m3]</th>\n",
       "      <th>rhoG [kg/m3]</th>\n",
       "      <th>muL [Pa.s]</th>\n",
       "      <th>sigma [N/m]</th>\n",
       "      <th>Liquid Type</th>\n",
       "      <th>Diameter [m]</th>\n",
       "      <th>Drift Velocity [m/s]</th>\n",
       "      <th>Reynolds Number Re</th>\n",
       "      <th>Buoyancy Reynolds R</th>\n",
       "      <th>Eotvos Number Eo</th>\n",
       "      <th>Viscosity Number Nmu</th>\n",
       "      <th>Froud Number Fr</th>\n",
       "    </tr>\n",
       "  </thead>\n",
       "  <tbody>\n",
       "    <tr>\n",
       "      <th>70</th>\n",
       "      <td>50.0</td>\n",
       "      <td>0.642788</td>\n",
       "      <td>0.766044</td>\n",
       "      <td>22.500000</td>\n",
       "      <td>887.000000</td>\n",
       "      <td>1.194509</td>\n",
       "      <td>0.645000</td>\n",
       "      <td>0.02950</td>\n",
       "      <td>Oil</td>\n",
       "      <td>0.0508</td>\n",
       "      <td>0.257000</td>\n",
       "      <td>0.024178</td>\n",
       "      <td>49.275063</td>\n",
       "      <td>759.914011</td>\n",
       "      <td>0.020308</td>\n",
       "      <td>0.364362</td>\n",
       "    </tr>\n",
       "    <tr>\n",
       "      <th>12</th>\n",
       "      <td>0.0</td>\n",
       "      <td>1.000000</td>\n",
       "      <td>0.000000</td>\n",
       "      <td>21.400000</td>\n",
       "      <td>886.000000</td>\n",
       "      <td>1.198972</td>\n",
       "      <td>0.574000</td>\n",
       "      <td>0.02950</td>\n",
       "      <td>Oil</td>\n",
       "      <td>0.1524</td>\n",
       "      <td>0.420000</td>\n",
       "      <td>0.133700</td>\n",
       "      <td>287.385972</td>\n",
       "      <td>6831.470731</td>\n",
       "      <td>0.003482</td>\n",
       "      <td>0.343788</td>\n",
       "    </tr>\n",
       "    <tr>\n",
       "      <th>73</th>\n",
       "      <td>80.0</td>\n",
       "      <td>0.173648</td>\n",
       "      <td>0.984808</td>\n",
       "      <td>22.500000</td>\n",
       "      <td>887.000000</td>\n",
       "      <td>1.194509</td>\n",
       "      <td>0.645000</td>\n",
       "      <td>0.02950</td>\n",
       "      <td>Oil</td>\n",
       "      <td>0.0508</td>\n",
       "      <td>0.215000</td>\n",
       "      <td>0.020227</td>\n",
       "      <td>49.275063</td>\n",
       "      <td>759.914011</td>\n",
       "      <td>0.020308</td>\n",
       "      <td>0.304817</td>\n",
       "    </tr>\n",
       "    <tr>\n",
       "      <th>21</th>\n",
       "      <td>1.0</td>\n",
       "      <td>0.999848</td>\n",
       "      <td>0.017452</td>\n",
       "      <td>32.327778</td>\n",
       "      <td>857.781985</td>\n",
       "      <td>1.156061</td>\n",
       "      <td>0.149355</td>\n",
       "      <td>0.03122</td>\n",
       "      <td>Oil</td>\n",
       "      <td>0.0381</td>\n",
       "      <td>0.196043</td>\n",
       "      <td>0.057815</td>\n",
       "      <td>133.663555</td>\n",
       "      <td>390.597034</td>\n",
       "      <td>0.007487</td>\n",
       "      <td>0.320939</td>\n",
       "    </tr>\n",
       "    <tr>\n",
       "      <th>121</th>\n",
       "      <td>2.5</td>\n",
       "      <td>0.999048</td>\n",
       "      <td>0.043619</td>\n",
       "      <td>21.100000</td>\n",
       "      <td>870.000000</td>\n",
       "      <td>1.200195</td>\n",
       "      <td>0.160000</td>\n",
       "      <td>0.02700</td>\n",
       "      <td>NaN</td>\n",
       "      <td>0.0570</td>\n",
       "      <td>0.297410</td>\n",
       "      <td>0.127163</td>\n",
       "      <td>231.564576</td>\n",
       "      <td>1025.241878</td>\n",
       "      <td>0.004321</td>\n",
       "      <td>0.398068</td>\n",
       "    </tr>\n",
       "  </tbody>\n",
       "</table>\n",
       "</div>"
      ],
      "text/plain": [
       "     Inclination [°]  Cos(Angle)  Sin(Angle)  Temperature [C]  rhoL [kg/m3]  \\\n",
       "70              50.0    0.642788    0.766044        22.500000    887.000000   \n",
       "12               0.0    1.000000    0.000000        21.400000    886.000000   \n",
       "73              80.0    0.173648    0.984808        22.500000    887.000000   \n",
       "21               1.0    0.999848    0.017452        32.327778    857.781985   \n",
       "121              2.5    0.999048    0.043619        21.100000    870.000000   \n",
       "\n",
       "     rhoG [kg/m3]  muL [Pa.s]  sigma [N/m] Liquid Type  Diameter [m]  \\\n",
       "70       1.194509    0.645000      0.02950         Oil        0.0508   \n",
       "12       1.198972    0.574000      0.02950         Oil        0.1524   \n",
       "73       1.194509    0.645000      0.02950         Oil        0.0508   \n",
       "21       1.156061    0.149355      0.03122         Oil        0.0381   \n",
       "121      1.200195    0.160000      0.02700         NaN        0.0570   \n",
       "\n",
       "     Drift Velocity [m/s]  Reynolds Number Re  Buoyancy Reynolds R  \\\n",
       "70               0.257000            0.024178            49.275063   \n",
       "12               0.420000            0.133700           287.385972   \n",
       "73               0.215000            0.020227            49.275063   \n",
       "21               0.196043            0.057815           133.663555   \n",
       "121              0.297410            0.127163           231.564576   \n",
       "\n",
       "     Eotvos Number Eo  Viscosity Number Nmu  Froud Number Fr  \n",
       "70         759.914011              0.020308         0.364362  \n",
       "12        6831.470731              0.003482         0.343788  \n",
       "73         759.914011              0.020308         0.304817  \n",
       "21         390.597034              0.007487         0.320939  \n",
       "121       1025.241878              0.004321         0.398068  "
      ]
     },
     "execution_count": 2,
     "metadata": {},
     "output_type": "execute_result"
    }
   ],
   "source": [
    "Experimental_Data=pd.read_excel(r\"C:\\Users\\victo\\Train_Set_Drift_Velocity_Analysis_O.xlsx\")\n",
    "Experimental_Data=Experimental_Data.iloc[np.random.permutation(len(Experimental_Data))]\n",
    "Experimental_Data.head()                                                                  "
   ]
  },
  {
   "cell_type": "markdown",
   "metadata": {},
   "source": [
    "Now, we only will use the dimensionless group and the unit vectors:"
   ]
  },
  {
   "cell_type": "code",
   "execution_count": 3,
   "metadata": {},
   "outputs": [
    {
     "data": {
      "text/html": [
       "<div>\n",
       "<style scoped>\n",
       "    .dataframe tbody tr th:only-of-type {\n",
       "        vertical-align: middle;\n",
       "    }\n",
       "\n",
       "    .dataframe tbody tr th {\n",
       "        vertical-align: top;\n",
       "    }\n",
       "\n",
       "    .dataframe thead th {\n",
       "        text-align: right;\n",
       "    }\n",
       "</style>\n",
       "<table border=\"1\" class=\"dataframe\">\n",
       "  <thead>\n",
       "    <tr style=\"text-align: right;\">\n",
       "      <th></th>\n",
       "      <th>Cos(Angle)</th>\n",
       "      <th>Sin(Angle)</th>\n",
       "      <th>Buoyancy Reynolds R</th>\n",
       "      <th>Eotvos Number Eo</th>\n",
       "      <th>Froud Number Fr</th>\n",
       "    </tr>\n",
       "  </thead>\n",
       "  <tbody>\n",
       "    <tr>\n",
       "      <th>70</th>\n",
       "      <td>0.642788</td>\n",
       "      <td>0.766044</td>\n",
       "      <td>49.275063</td>\n",
       "      <td>759.914011</td>\n",
       "      <td>0.364362</td>\n",
       "    </tr>\n",
       "    <tr>\n",
       "      <th>12</th>\n",
       "      <td>1.000000</td>\n",
       "      <td>0.000000</td>\n",
       "      <td>287.385972</td>\n",
       "      <td>6831.470731</td>\n",
       "      <td>0.343788</td>\n",
       "    </tr>\n",
       "    <tr>\n",
       "      <th>73</th>\n",
       "      <td>0.173648</td>\n",
       "      <td>0.984808</td>\n",
       "      <td>49.275063</td>\n",
       "      <td>759.914011</td>\n",
       "      <td>0.304817</td>\n",
       "    </tr>\n",
       "    <tr>\n",
       "      <th>21</th>\n",
       "      <td>0.999848</td>\n",
       "      <td>0.017452</td>\n",
       "      <td>133.663555</td>\n",
       "      <td>390.597034</td>\n",
       "      <td>0.320939</td>\n",
       "    </tr>\n",
       "    <tr>\n",
       "      <th>121</th>\n",
       "      <td>0.999048</td>\n",
       "      <td>0.043619</td>\n",
       "      <td>231.564576</td>\n",
       "      <td>1025.241878</td>\n",
       "      <td>0.398068</td>\n",
       "    </tr>\n",
       "  </tbody>\n",
       "</table>\n",
       "</div>"
      ],
      "text/plain": [
       "     Cos(Angle)  Sin(Angle)  Buoyancy Reynolds R  Eotvos Number Eo  \\\n",
       "70     0.642788    0.766044            49.275063        759.914011   \n",
       "12     1.000000    0.000000           287.385972       6831.470731   \n",
       "73     0.173648    0.984808            49.275063        759.914011   \n",
       "21     0.999848    0.017452           133.663555        390.597034   \n",
       "121    0.999048    0.043619           231.564576       1025.241878   \n",
       "\n",
       "     Froud Number Fr  \n",
       "70          0.364362  \n",
       "12          0.343788  \n",
       "73          0.304817  \n",
       "21          0.320939  \n",
       "121         0.398068  "
      ]
     },
     "execution_count": 3,
     "metadata": {},
     "output_type": "execute_result"
    }
   ],
   "source": [
    "Experimental_Data=Experimental_Data.drop(Experimental_Data.columns[[0,3,4,5,6,7,8,9,10,11,14]], axis=1)\n",
    "Experimental_Data.head()"
   ]
  },
  {
   "cell_type": "markdown",
   "metadata": {},
   "source": [
    "### 2.2. Creating the Train and Test set\n",
    "The train set will be the experimental data gathered from other researchers. On the other hand, the Test set will be the experimental data obtained by the authors of this document in the Petroleum Engineering Labs in Texas Tech University.\n",
    "\n",
    "Analizing the data set, we suggest a polinomial relationship between the sinoidal functions and the Froud number. Similarly, we suggest a logaritmic relationship between the Eotvos number, Buoyancy Reynolds number and Froud Number."
   ]
  },
  {
   "cell_type": "code",
   "execution_count": 5,
   "metadata": {},
   "outputs": [
    {
     "data": {
      "text/html": [
       "<div>\n",
       "<style scoped>\n",
       "    .dataframe tbody tr th:only-of-type {\n",
       "        vertical-align: middle;\n",
       "    }\n",
       "\n",
       "    .dataframe tbody tr th {\n",
       "        vertical-align: top;\n",
       "    }\n",
       "\n",
       "    .dataframe thead th {\n",
       "        text-align: right;\n",
       "    }\n",
       "</style>\n",
       "<table border=\"1\" class=\"dataframe\">\n",
       "  <thead>\n",
       "    <tr style=\"text-align: right;\">\n",
       "      <th></th>\n",
       "      <th>Cos(Angle)</th>\n",
       "      <th>Sin(Angle)</th>\n",
       "      <th>Cos(Angle)^2</th>\n",
       "      <th>Cos(Angle)^3</th>\n",
       "      <th>Sin(Angle)^2</th>\n",
       "      <th>Sin(Angle)^3</th>\n",
       "      <th>Ln(Eo)</th>\n",
       "      <th>Ln(R)</th>\n",
       "    </tr>\n",
       "  </thead>\n",
       "  <tbody>\n",
       "    <tr>\n",
       "      <th>70</th>\n",
       "      <td>0.642788</td>\n",
       "      <td>0.766044</td>\n",
       "      <td>0.413176</td>\n",
       "      <td>0.265584</td>\n",
       "      <td>0.586824</td>\n",
       "      <td>0.449533</td>\n",
       "      <td>6.633205</td>\n",
       "      <td>3.897418</td>\n",
       "    </tr>\n",
       "    <tr>\n",
       "      <th>12</th>\n",
       "      <td>1.000000</td>\n",
       "      <td>0.000000</td>\n",
       "      <td>1.000000</td>\n",
       "      <td>1.000000</td>\n",
       "      <td>0.000000</td>\n",
       "      <td>0.000000</td>\n",
       "      <td>8.829295</td>\n",
       "      <td>5.660826</td>\n",
       "    </tr>\n",
       "    <tr>\n",
       "      <th>73</th>\n",
       "      <td>0.173648</td>\n",
       "      <td>0.984808</td>\n",
       "      <td>0.030154</td>\n",
       "      <td>0.005236</td>\n",
       "      <td>0.969846</td>\n",
       "      <td>0.955112</td>\n",
       "      <td>6.633205</td>\n",
       "      <td>3.897418</td>\n",
       "    </tr>\n",
       "    <tr>\n",
       "      <th>21</th>\n",
       "      <td>0.999848</td>\n",
       "      <td>0.017452</td>\n",
       "      <td>0.999695</td>\n",
       "      <td>0.999543</td>\n",
       "      <td>0.000305</td>\n",
       "      <td>0.000005</td>\n",
       "      <td>5.967676</td>\n",
       "      <td>4.895326</td>\n",
       "    </tr>\n",
       "    <tr>\n",
       "      <th>121</th>\n",
       "      <td>0.999048</td>\n",
       "      <td>0.043619</td>\n",
       "      <td>0.998097</td>\n",
       "      <td>0.997147</td>\n",
       "      <td>0.001903</td>\n",
       "      <td>0.000083</td>\n",
       "      <td>6.932684</td>\n",
       "      <td>5.444859</td>\n",
       "    </tr>\n",
       "  </tbody>\n",
       "</table>\n",
       "</div>"
      ],
      "text/plain": [
       "     Cos(Angle)  Sin(Angle)  Cos(Angle)^2  Cos(Angle)^3  Sin(Angle)^2  \\\n",
       "70     0.642788    0.766044      0.413176      0.265584      0.586824   \n",
       "12     1.000000    0.000000      1.000000      1.000000      0.000000   \n",
       "73     0.173648    0.984808      0.030154      0.005236      0.969846   \n",
       "21     0.999848    0.017452      0.999695      0.999543      0.000305   \n",
       "121    0.999048    0.043619      0.998097      0.997147      0.001903   \n",
       "\n",
       "     Sin(Angle)^3    Ln(Eo)     Ln(R)  \n",
       "70       0.449533  6.633205  3.897418  \n",
       "12       0.000000  8.829295  5.660826  \n",
       "73       0.955112  6.633205  3.897418  \n",
       "21       0.000005  5.967676  4.895326  \n",
       "121      0.000083  6.932684  5.444859  "
      ]
     },
     "execution_count": 5,
     "metadata": {},
     "output_type": "execute_result"
    }
   ],
   "source": [
    "Dimensionless_Labels=Experimental_Data['Froud Number Fr']\n",
    "Dimensionless_Attributes=Experimental_Data.drop('Froud Number Fr',axis=1)\n",
    "Dimensionless_Attributes['Cos(Angle)^2']=Dimensionless_Attributes['Cos(Angle)']**2\n",
    "Dimensionless_Attributes['Cos(Angle)^3']=Dimensionless_Attributes['Cos(Angle)']**3\n",
    "Dimensionless_Attributes['Sin(Angle)^2']=Dimensionless_Attributes['Sin(Angle)']**2\n",
    "Dimensionless_Attributes['Sin(Angle)^3']=Dimensionless_Attributes['Sin(Angle)']**3\n",
    "Dimensionless_Attributes['Ln(Eo)']=np.log(Dimensionless_Attributes['Eotvos Number Eo'])\n",
    "Dimensionless_Attributes['Ln(R)']=np.log(Dimensionless_Attributes['Buoyancy Reynolds R'])\n",
    "Dimensionless_Attributes=Dimensionless_Attributes.drop('Eotvos Number Eo',axis=1)\n",
    "Dimensionless_Attributes=Dimensionless_Attributes.drop('Buoyancy Reynolds R',axis=1)\n",
    "Dimensionless_Attributes.head()"
   ]
  },
  {
   "cell_type": "markdown",
   "metadata": {},
   "source": [
    "## 3. Machine Learning Model\n",
    "### 3.1. Preprocessing\n",
    "\"Many elements used in the objective function of a learning algorithm (such as the RBF kernel of Support Vector Machines or the l1 and l2 regularizers of linear models) assume that all features are centered around zero and have variance in the same order. If a feature has a variance that is orders of magnitude larger than others, it might dominate the objective function and make the estimator unable to learn from other features correctly as expected\". [1]"
   ]
  },
  {
   "cell_type": "code",
   "execution_count": 6,
   "metadata": {},
   "outputs": [],
   "source": [
    "from sklearn import preprocessing\n",
    "scaler=preprocessing.RobustScaler().fit(Dimensionless_Attributes)\n",
    "Dimensionless_Attributes_Scaled=scaler.transform(Dimensionless_Attributes)"
   ]
  },
  {
   "cell_type": "markdown",
   "metadata": {},
   "source": [
    "### 3.2. Support Vector Regressor"
   ]
  },
  {
   "cell_type": "code",
   "execution_count": 7,
   "metadata": {},
   "outputs": [
    {
     "data": {
      "text/plain": [
       "SVR(C=100, cache_size=200, coef0=0.0, degree=3, epsilon=0.1, gamma='auto',\n",
       "  kernel='rbf', max_iter=-1, shrinking=True, tol=0.001, verbose=False)"
      ]
     },
     "execution_count": 7,
     "metadata": {},
     "output_type": "execute_result"
    }
   ],
   "source": [
    "from sklearn.svm import SVR\n",
    "svr_rbf_reg = SVR(kernel=\"rbf\",C=100,epsilon=0.1)\n",
    "svr_rbf_reg"
   ]
  },
  {
   "cell_type": "markdown",
   "metadata": {},
   "source": [
    "### 3.2. Training the Model\n",
    "The problem of Drift Velocity has been addressed. The initial experiment data has been clean and modified in order to have features that are related with the Froud Number. Also, we have shuffled the instances. The training set is used in this stage to fit the model parameters. However, we will test it using the test set. In the following code, we perform the training procedure, we obtain a measurement of its perfomance (custom function: average relative error) and the time required to be fitted and to predict."
   ]
  },
  {
   "cell_type": "code",
   "execution_count": 8,
   "metadata": {
    "scrolled": true
   },
   "outputs": [
    {
     "name": "stdout",
     "output_type": "stream",
     "text": [
      "SVR  average_relative_error:  0.13803821291533735\n",
      "SVR  Time:  0.001996755599975586\n"
     ]
    }
   ],
   "source": [
    "def relative_error(y_true, y_pred):\n",
    "    rel_error=np.sum(np.divide(np.abs(y_true-y_pred),np.mean(y_true)))/len(y_true)\n",
    "    return rel_error\n",
    "\n",
    "start = time.time()\n",
    "svr_rbf_reg.fit(Dimensionless_Attributes_Scaled,Dimensionless_Labels)\n",
    "y_pred=svr_rbf_reg.predict(Dimensionless_Attributes_Scaled)\n",
    "print(svr_rbf_reg.__class__.__name__,' average_relative_error: ',relative_error(Dimensionless_Labels,y_pred))\n",
    "end = time.time()\n",
    "print(svr_rbf_reg.__class__.__name__,' Time: ',end - start)"
   ]
  },
  {
   "cell_type": "markdown",
   "metadata": {},
   "source": [
    "### 3.3. Tunnig the Model"
   ]
  },
  {
   "cell_type": "code",
   "execution_count": 10,
   "metadata": {},
   "outputs": [
    {
     "name": "stdout",
     "output_type": "stream",
     "text": [
      "36.64895439147949\n",
      "0.06973689269075235 {'C': 5, 'epsilon': 0.0001, 'kernel': 'rbf'}\n",
      "17.575781102307534 {'C': 5, 'epsilon': 0.0001, 'kernel': 'sigmoid'}\n",
      "0.06941128630595217 {'C': 5, 'epsilon': 0.0005, 'kernel': 'rbf'}\n",
      "17.556585596545837 {'C': 5, 'epsilon': 0.0005, 'kernel': 'sigmoid'}\n",
      "0.06903878753865518 {'C': 5, 'epsilon': 0.001, 'kernel': 'rbf'}\n",
      "17.581101625668705 {'C': 5, 'epsilon': 0.001, 'kernel': 'sigmoid'}\n",
      "0.06368223525654398 {'C': 5, 'epsilon': 0.005, 'kernel': 'rbf'}\n",
      "17.61848088272657 {'C': 5, 'epsilon': 0.005, 'kernel': 'sigmoid'}\n",
      "0.060135400413846817 {'C': 5, 'epsilon': 0.008, 'kernel': 'rbf'}\n",
      "17.54867542958402 {'C': 5, 'epsilon': 0.008, 'kernel': 'sigmoid'}\n",
      "0.059782269322745295 {'C': 5, 'epsilon': 0.01, 'kernel': 'rbf'}\n",
      "17.54633384330497 {'C': 5, 'epsilon': 0.01, 'kernel': 'sigmoid'}\n",
      "0.06822531259113934 {'C': 5, 'epsilon': 0.02, 'kernel': 'rbf'}\n",
      "17.729939108889674 {'C': 5, 'epsilon': 0.02, 'kernel': 'sigmoid'}\n",
      "0.09766458420440606 {'C': 5, 'epsilon': 0.05, 'kernel': 'rbf'}\n",
      "17.363710517487338 {'C': 5, 'epsilon': 0.05, 'kernel': 'sigmoid'}\n",
      "0.15300971998264512 {'C': 5, 'epsilon': 0.1, 'kernel': 'rbf'}\n",
      "18.962749451179544 {'C': 5, 'epsilon': 0.1, 'kernel': 'sigmoid'}\n",
      "0.24324275600597262 {'C': 5, 'epsilon': 0.2, 'kernel': 'rbf'}\n",
      "0.2369799245722857 {'C': 5, 'epsilon': 0.2, 'kernel': 'sigmoid'}\n",
      "0.06807241533627532 {'C': 6, 'epsilon': 0.0001, 'kernel': 'rbf'}\n",
      "21.08474415594852 {'C': 6, 'epsilon': 0.0001, 'kernel': 'sigmoid'}\n",
      "0.0677603821269344 {'C': 6, 'epsilon': 0.0005, 'kernel': 'rbf'}\n",
      "21.07199911955794 {'C': 6, 'epsilon': 0.0005, 'kernel': 'sigmoid'}\n",
      "0.067140333141121 {'C': 6, 'epsilon': 0.001, 'kernel': 'rbf'}\n",
      "21.1020306486427 {'C': 6, 'epsilon': 0.001, 'kernel': 'sigmoid'}\n",
      "0.06265280322752038 {'C': 6, 'epsilon': 0.005, 'kernel': 'rbf'}\n",
      "21.095459128177747 {'C': 6, 'epsilon': 0.005, 'kernel': 'sigmoid'}\n",
      "0.05984620954482546 {'C': 6, 'epsilon': 0.008, 'kernel': 'rbf'}\n",
      "21.07343397698919 {'C': 6, 'epsilon': 0.008, 'kernel': 'sigmoid'}\n",
      "0.058316420036455076 {'C': 6, 'epsilon': 0.01, 'kernel': 'rbf'}\n",
      "21.054770014437686 {'C': 6, 'epsilon': 0.01, 'kernel': 'sigmoid'}\n",
      "0.06774477557978303 {'C': 6, 'epsilon': 0.02, 'kernel': 'rbf'}\n",
      "21.240166533515385 {'C': 6, 'epsilon': 0.02, 'kernel': 'sigmoid'}\n",
      "0.09761981179140547 {'C': 6, 'epsilon': 0.05, 'kernel': 'rbf'}\n",
      "21.104243509703174 {'C': 6, 'epsilon': 0.05, 'kernel': 'sigmoid'}\n",
      "0.1507354125297882 {'C': 6, 'epsilon': 0.1, 'kernel': 'rbf'}\n",
      "21.839391911248484 {'C': 6, 'epsilon': 0.1, 'kernel': 'sigmoid'}\n",
      "0.24324275600597262 {'C': 6, 'epsilon': 0.2, 'kernel': 'rbf'}\n",
      "0.2369799245722857 {'C': 6, 'epsilon': 0.2, 'kernel': 'sigmoid'}\n",
      "0.06636224128499024 {'C': 7, 'epsilon': 0.0001, 'kernel': 'rbf'}\n",
      "24.626699367883557 {'C': 7, 'epsilon': 0.0001, 'kernel': 'sigmoid'}\n",
      "0.06558394588625228 {'C': 7, 'epsilon': 0.0005, 'kernel': 'rbf'}\n",
      "24.644515183014438 {'C': 7, 'epsilon': 0.0005, 'kernel': 'sigmoid'}\n",
      "0.06508235445304665 {'C': 7, 'epsilon': 0.001, 'kernel': 'rbf'}\n",
      "24.668915369954398 {'C': 7, 'epsilon': 0.001, 'kernel': 'sigmoid'}\n",
      "0.06078583011549832 {'C': 7, 'epsilon': 0.005, 'kernel': 'rbf'}\n",
      "24.659490099574185 {'C': 7, 'epsilon': 0.005, 'kernel': 'sigmoid'}\n",
      "0.05887975270486984 {'C': 7, 'epsilon': 0.008, 'kernel': 'rbf'}\n",
      "24.632523310924007 {'C': 7, 'epsilon': 0.008, 'kernel': 'sigmoid'}\n",
      "0.05745414558356059 {'C': 7, 'epsilon': 0.01, 'kernel': 'rbf'}\n",
      "24.577776776991133 {'C': 7, 'epsilon': 0.01, 'kernel': 'sigmoid'}\n",
      "0.06792867789419377 {'C': 7, 'epsilon': 0.02, 'kernel': 'rbf'}\n",
      "24.713208283571078 {'C': 7, 'epsilon': 0.02, 'kernel': 'sigmoid'}\n",
      "0.09754578205238247 {'C': 7, 'epsilon': 0.05, 'kernel': 'rbf'}\n",
      "24.691335833393488 {'C': 7, 'epsilon': 0.05, 'kernel': 'sigmoid'}\n",
      "0.15078247224825247 {'C': 7, 'epsilon': 0.1, 'kernel': 'rbf'}\n",
      "24.3009817394033 {'C': 7, 'epsilon': 0.1, 'kernel': 'sigmoid'}\n",
      "0.24324275600597262 {'C': 7, 'epsilon': 0.2, 'kernel': 'rbf'}\n",
      "0.2369799245722857 {'C': 7, 'epsilon': 0.2, 'kernel': 'sigmoid'}\n",
      "0.06355397991614734 {'C': 8, 'epsilon': 0.0001, 'kernel': 'rbf'}\n",
      "28.132960206921002 {'C': 8, 'epsilon': 0.0001, 'kernel': 'sigmoid'}\n",
      "0.06269156906078571 {'C': 8, 'epsilon': 0.0005, 'kernel': 'rbf'}\n",
      "28.133757237695097 {'C': 8, 'epsilon': 0.0005, 'kernel': 'sigmoid'}\n",
      "0.062541596420688 {'C': 8, 'epsilon': 0.001, 'kernel': 'rbf'}\n",
      "28.099946975055975 {'C': 8, 'epsilon': 0.001, 'kernel': 'sigmoid'}\n",
      "0.059681332276075735 {'C': 8, 'epsilon': 0.005, 'kernel': 'rbf'}\n",
      "28.13133689850811 {'C': 8, 'epsilon': 0.005, 'kernel': 'sigmoid'}\n",
      "0.05811536236991524 {'C': 8, 'epsilon': 0.008, 'kernel': 'rbf'}\n",
      "28.14100046738491 {'C': 8, 'epsilon': 0.008, 'kernel': 'sigmoid'}\n",
      "0.056815026453011806 {'C': 8, 'epsilon': 0.01, 'kernel': 'rbf'}\n",
      "28.115649488274947 {'C': 8, 'epsilon': 0.01, 'kernel': 'sigmoid'}\n",
      "0.06813471045354746 {'C': 8, 'epsilon': 0.02, 'kernel': 'rbf'}\n",
      "28.320915256561747 {'C': 8, 'epsilon': 0.02, 'kernel': 'sigmoid'}\n",
      "0.09785317561680418 {'C': 8, 'epsilon': 0.05, 'kernel': 'rbf'}\n",
      "28.262877514772814 {'C': 8, 'epsilon': 0.05, 'kernel': 'sigmoid'}\n",
      "0.14862106986215268 {'C': 8, 'epsilon': 0.1, 'kernel': 'rbf'}\n",
      "27.82082481589444 {'C': 8, 'epsilon': 0.1, 'kernel': 'sigmoid'}\n",
      "0.24324275600597262 {'C': 8, 'epsilon': 0.2, 'kernel': 'rbf'}\n",
      "0.2369799245722857 {'C': 8, 'epsilon': 0.2, 'kernel': 'sigmoid'}\n",
      "0.06105235448412527 {'C': 9, 'epsilon': 0.0001, 'kernel': 'rbf'}\n",
      "31.71432177818527 {'C': 9, 'epsilon': 0.0001, 'kernel': 'sigmoid'}\n",
      "0.0607205414533709 {'C': 9, 'epsilon': 0.0005, 'kernel': 'rbf'}\n",
      "31.757656614105965 {'C': 9, 'epsilon': 0.0005, 'kernel': 'sigmoid'}\n",
      "0.060691883986380944 {'C': 9, 'epsilon': 0.001, 'kernel': 'rbf'}\n",
      "31.73385969410933 {'C': 9, 'epsilon': 0.001, 'kernel': 'sigmoid'}\n",
      "0.05887013847442942 {'C': 9, 'epsilon': 0.005, 'kernel': 'rbf'}\n",
      "31.701159790912044 {'C': 9, 'epsilon': 0.005, 'kernel': 'sigmoid'}\n",
      "0.0574329832912821 {'C': 9, 'epsilon': 0.008, 'kernel': 'rbf'}\n",
      "31.782089106701967 {'C': 9, 'epsilon': 0.008, 'kernel': 'sigmoid'}\n",
      "0.05689294002640364 {'C': 9, 'epsilon': 0.01, 'kernel': 'rbf'}\n",
      "31.902016663263698 {'C': 9, 'epsilon': 0.01, 'kernel': 'sigmoid'}\n",
      "0.06798198263767193 {'C': 9, 'epsilon': 0.02, 'kernel': 'rbf'}\n",
      "31.87493348092661 {'C': 9, 'epsilon': 0.02, 'kernel': 'sigmoid'}\n",
      "0.09702034088736465 {'C': 9, 'epsilon': 0.05, 'kernel': 'rbf'}\n",
      "31.81926731383251 {'C': 9, 'epsilon': 0.05, 'kernel': 'sigmoid'}\n",
      "0.14858416499737934 {'C': 9, 'epsilon': 0.1, 'kernel': 'rbf'}\n",
      "31.641096822705286 {'C': 9, 'epsilon': 0.1, 'kernel': 'sigmoid'}\n",
      "0.24324275600597262 {'C': 9, 'epsilon': 0.2, 'kernel': 'rbf'}\n",
      "0.2369799245722857 {'C': 9, 'epsilon': 0.2, 'kernel': 'sigmoid'}\n",
      "0.05875705689283495 {'C': 10, 'epsilon': 0.0001, 'kernel': 'rbf'}\n",
      "35.17276572584094 {'C': 10, 'epsilon': 0.0001, 'kernel': 'sigmoid'}\n",
      "0.05897569960550579 {'C': 10, 'epsilon': 0.0005, 'kernel': 'rbf'}\n",
      "35.17309839796214 {'C': 10, 'epsilon': 0.0005, 'kernel': 'sigmoid'}\n",
      "0.05931290084213138 {'C': 10, 'epsilon': 0.001, 'kernel': 'rbf'}\n",
      "35.172977613386664 {'C': 10, 'epsilon': 0.001, 'kernel': 'sigmoid'}\n",
      "0.0581921383447732 {'C': 10, 'epsilon': 0.005, 'kernel': 'rbf'}\n",
      "35.22153113730016 {'C': 10, 'epsilon': 0.005, 'kernel': 'sigmoid'}\n",
      "0.057378293488734966 {'C': 10, 'epsilon': 0.008, 'kernel': 'rbf'}\n",
      "35.23279650284201 {'C': 10, 'epsilon': 0.008, 'kernel': 'sigmoid'}\n",
      "0.05723830664348086 {'C': 10, 'epsilon': 0.01, 'kernel': 'rbf'}\n",
      "35.4296981480464 {'C': 10, 'epsilon': 0.01, 'kernel': 'sigmoid'}\n",
      "0.06750487336351117 {'C': 10, 'epsilon': 0.02, 'kernel': 'rbf'}\n",
      "35.27104771081904 {'C': 10, 'epsilon': 0.02, 'kernel': 'sigmoid'}\n",
      "0.09767709309117886 {'C': 10, 'epsilon': 0.05, 'kernel': 'rbf'}\n",
      "35.17587022364442 {'C': 10, 'epsilon': 0.05, 'kernel': 'sigmoid'}\n",
      "0.14858416499737934 {'C': 10, 'epsilon': 0.1, 'kernel': 'rbf'}\n",
      "35.17742230320835 {'C': 10, 'epsilon': 0.1, 'kernel': 'sigmoid'}\n",
      "0.24324275600597262 {'C': 10, 'epsilon': 0.2, 'kernel': 'rbf'}\n",
      "0.2369799245722857 {'C': 10, 'epsilon': 0.2, 'kernel': 'sigmoid'}\n"
     ]
    }
   ],
   "source": [
    "from sklearn.metrics import make_scorer\n",
    "score_rel_error=make_scorer(relative_error, greater_is_better=False)\n",
    "\n",
    "from sklearn.model_selection import GridSearchCV\n",
    "param_grid=[{'kernel':['rbf','sigmoid'],'C':[5,6,7,8,9,10],\n",
    "            'epsilon':[0.0001,0.0005,0.001,0.005,0.008,0.01,0.02,0.05,0.1,0.2]}]\n",
    "svr_reg=SVR()\n",
    "grid_search=GridSearchCV(svr_reg,param_grid,cv=100,scoring=score_rel_error)\n",
    "start = time.time()\n",
    "grid_search.fit(Dimensionless_Attributes_Scaled,Dimensionless_Labels)\n",
    "end = time.time()\n",
    "print(end - start)\n",
    "cvres=grid_search.cv_results_\n",
    "for mean_score,params in zip(cvres[\"mean_test_score\"],cvres[\"params\"]):\n",
    "    print((-mean_score),params)"
   ]
  },
  {
   "cell_type": "code",
   "execution_count": 11,
   "metadata": {},
   "outputs": [
    {
     "data": {
      "text/plain": [
       "SVR(C=8, cache_size=200, coef0=0.0, degree=3, epsilon=0.01, gamma='auto',\n",
       "  kernel='rbf', max_iter=-1, shrinking=True, tol=0.001, verbose=False)"
      ]
     },
     "execution_count": 11,
     "metadata": {},
     "output_type": "execute_result"
    }
   ],
   "source": [
    "grid_search.best_estimator_"
   ]
  },
  {
   "cell_type": "markdown",
   "metadata": {},
   "source": [
    "### 3.3.1. Support Vectors, Dual Coefficient & Intercept"
   ]
  },
  {
   "cell_type": "code",
   "execution_count": 12,
   "metadata": {},
   "outputs": [
    {
     "data": {
      "text/plain": [
       "array([[ 2.04799461e-01, -5.86484893e-01,  2.85575219e-01,\n",
       "         3.69464505e-01, -2.85575219e-01, -1.50764541e-01,\n",
       "         7.04105086e+00,  5.62143037e-01],\n",
       "       [-1.05839828e+00,  5.68664847e-01, -8.22281072e-01,\n",
       "        -6.79180058e-01,  8.22281072e-01,  1.00121184e+00,\n",
       "         0.00000000e+00, -4.37856963e-01],\n",
       "       [ 2.04566641e-01, -5.66013748e-01,  2.85227290e-01,\n",
       "         3.68982915e-01, -2.85227290e-01, -1.50758130e-01,\n",
       "         3.80606509e+00, -1.48395527e-01],\n",
       "       [-8.01017491e-01,  5.15746160e-01, -7.23101839e-01,\n",
       "        -6.42524000e-01,  7.23101839e-01,  8.50033963e-01,\n",
       "        -6.54464019e-02,  5.85390151e-01],\n",
       "       [ 2.04799461e-01, -5.86484893e-01,  2.85575219e-01,\n",
       "         3.69464505e-01, -2.85575219e-01, -1.50764541e-01,\n",
       "         3.59542781e-03, -3.89552771e-01],\n",
       "       [ 1.12610948e-01, -1.85305599e-01,  1.51951400e-01,\n",
       "         1.90013552e-01, -1.51951400e-01, -1.02509327e-01,\n",
       "        -6.54464019e-02,  5.85390151e-01],\n",
       "       [-8.01017491e-01,  5.15746160e-01, -7.23101839e-01,\n",
       "        -6.42524000e-01,  7.23101839e-01,  8.50033963e-01,\n",
       "         7.02303893e+00,  1.01683834e+00],\n",
       "       [ 1.91721700e-01, -4.33381614e-01,  2.66113740e-01,\n",
       "         3.42639744e-01, -2.66113740e-01, -1.48082397e-01,\n",
       "         3.80606509e+00, -1.48395527e-01],\n",
       "       [ 2.04566641e-01, -5.66013748e-01,  2.85227290e-01,\n",
       "         3.68982915e-01, -2.85227290e-01, -1.50758130e-01,\n",
       "         4.50023897e+00,  9.09275110e-01],\n",
       "       [-5.59522533e-01,  4.29336740e-01, -5.71150439e-01,\n",
       "        -5.52929264e-01,  5.71150439e-01,  6.32630996e-01,\n",
       "        -1.08090197e-02, -1.85591270e-01],\n",
       "       [ 1.81575924e-01, -3.82800827e-01,  2.51130633e-01,\n",
       "         3.22145352e-01, -2.51130633e-01, -1.44449156e-01,\n",
       "        -2.16525576e-02,  0.00000000e+00],\n",
       "       [-5.59522533e-01,  4.29336740e-01, -5.71150439e-01,\n",
       "        -5.52929264e-01,  5.71150439e-01,  6.32630996e-01,\n",
       "         1.43501385e-02, -6.45261320e-01],\n",
       "       [ 2.04799461e-01, -5.86484893e-01,  2.85575219e-01,\n",
       "         3.69464505e-01, -2.85575219e-01, -1.50764541e-01,\n",
       "        -2.09089040e+00, -2.10608855e-01],\n",
       "       [ 1.12610948e-01, -1.85305599e-01,  1.51951400e-01,\n",
       "         1.90013552e-01, -1.51951400e-01, -1.02509327e-01,\n",
       "         1.43501385e-02, -6.45261320e-01],\n",
       "       [-3.41251112e-01,  3.12062094e-01, -3.84754452e-01,\n",
       "        -4.04730254e-01,  3.84754452e-01,  3.91424952e-01,\n",
       "         1.43501385e-02, -6.45261320e-01],\n",
       "       [ 2.04566641e-01, -5.66013748e-01,  2.85227290e-01,\n",
       "         3.68982915e-01, -2.85227290e-01, -1.50758130e-01,\n",
       "        -2.09089040e+00, -2.10608855e-01],\n",
       "       [ 1.93405181e-01, -4.43535836e-01,  2.68609610e-01,\n",
       "         3.46067033e-01, -2.68609610e-01, -1.48581447e-01,\n",
       "        -2.09089040e+00, -2.10608855e-01],\n",
       "       [ 0.00000000e+00,  0.00000000e+00,  0.00000000e+00,\n",
       "         0.00000000e+00,  0.00000000e+00,  0.00000000e+00,\n",
       "         7.04105086e+00,  5.62143037e-01],\n",
       "       [ 1.81575924e-01, -3.82800827e-01,  2.51130633e-01,\n",
       "         3.22145352e-01, -2.51130633e-01, -1.44449156e-01,\n",
       "         0.00000000e+00, -4.37856963e-01],\n",
       "       [-1.32384453e+00,  5.86484893e-01, -8.56725658e-01,\n",
       "        -6.84699803e-01,  8.56725658e-01,  1.05535179e+00,\n",
       "        -1.08090197e-02, -1.85591270e-01],\n",
       "       [ 1.81575924e-01, -3.82800827e-01,  2.51130633e-01,\n",
       "         3.22145352e-01, -2.51130633e-01, -1.44449156e-01,\n",
       "         7.00488007e+00,  1.30182468e+00],\n",
       "       [ 2.04799461e-01, -5.86484893e-01,  2.85575219e-01,\n",
       "         3.69464505e-01, -2.85575219e-01, -1.50764541e-01,\n",
       "        -1.07962559e-02, -7.99919994e-02],\n",
       "       [ 1.98982509e-01, -4.84253840e-01,  2.76898161e-01,\n",
       "         3.57476000e-01, -2.76898161e-01, -1.49966037e-01,\n",
       "        -2.09089040e+00, -2.10608855e-01],\n",
       "       [ 2.03344531e-01, -5.35320670e-01,  2.83401820e-01,\n",
       "         3.66457376e-01, -2.83401820e-01, -1.50664443e-01,\n",
       "         4.50023897e+00,  9.09275110e-01],\n",
       "       [ 2.03344531e-01, -5.35320670e-01,  2.83401820e-01,\n",
       "         3.66457376e-01, -2.83401820e-01, -1.50664443e-01,\n",
       "         2.66007075e-01, -6.17999189e-01],\n",
       "       [ 2.04799461e-01, -5.86484893e-01,  2.85575219e-01,\n",
       "         3.69464505e-01, -2.85575219e-01, -1.50764541e-01,\n",
       "        -5.07669486e-02,  5.02134216e-01],\n",
       "       [ 2.04566641e-01, -5.66013748e-01,  2.85227290e-01,\n",
       "         3.68982915e-01, -2.85227290e-01, -1.50758130e-01,\n",
       "         2.66007075e-01, -6.17999189e-01],\n",
       "       [ 2.04799461e-01, -5.86484893e-01,  2.85575219e-01,\n",
       "         3.69464505e-01, -2.85575219e-01, -1.50764541e-01,\n",
       "        -4.71280024e-02,  4.16034209e-01],\n",
       "       [ 2.04799461e-01, -5.86484893e-01,  2.85575219e-01,\n",
       "         3.69464505e-01, -2.85575219e-01, -1.50764541e-01,\n",
       "        -2.13380262e+00,  1.30624297e-01],\n",
       "       [-8.01017491e-01,  5.15746160e-01, -7.23101839e-01,\n",
       "        -6.42524000e-01,  7.23101839e-01,  8.50033963e-01,\n",
       "        -1.08090197e-02, -1.85591270e-01],\n",
       "       [ 2.04799461e-01, -5.86484893e-01,  2.85575219e-01,\n",
       "         3.69464505e-01, -2.85575219e-01, -1.50764541e-01,\n",
       "        -3.98269891e-02,  3.28190592e-01],\n",
       "       [-1.05839828e+00,  5.68664847e-01, -8.22281072e-01,\n",
       "        -6.79180058e-01,  8.22281072e-01,  1.00121184e+00,\n",
       "         2.86462543e-02, -8.24529902e-01],\n",
       "       [ 1.81575924e-01, -3.82800827e-01,  2.51130633e-01,\n",
       "         3.22145352e-01, -2.51130633e-01, -1.44449156e-01,\n",
       "         7.04105086e+00,  5.62143037e-01],\n",
       "       [ 1.98982509e-01, -4.84253840e-01,  2.76898161e-01,\n",
       "         3.57476000e-01, -2.76898161e-01, -1.49966037e-01,\n",
       "        -2.13380262e+00,  1.30016727e-01],\n",
       "       [-1.32384453e+00,  5.86484893e-01, -8.56725658e-01,\n",
       "        -6.84699803e-01,  8.56725658e-01,  1.05535179e+00,\n",
       "         1.43501385e-02, -6.45261320e-01],\n",
       "       [-1.52835294e-01,  1.67485552e-01, -1.86395987e-01,\n",
       "        -2.10817809e-01,  1.86395987e-01,  1.69561088e-01,\n",
       "         0.00000000e+00, -4.37856963e-01],\n",
       "       [-1.05839828e+00,  5.68664847e-01, -8.22281072e-01,\n",
       "        -6.79180058e-01,  8.22281072e-01,  1.00121184e+00,\n",
       "        -1.08090197e-02, -1.85591270e-01],\n",
       "       [ 2.04799461e-01, -5.86484893e-01,  2.85575219e-01,\n",
       "         3.69464505e-01, -2.85575219e-01, -1.50764541e-01,\n",
       "        -3.60113783e-03, -2.56585015e-01],\n",
       "       [-3.41251112e-01,  3.12062094e-01, -3.84754452e-01,\n",
       "        -4.04730254e-01,  3.84754452e-01,  3.91424952e-01,\n",
       "         2.86462543e-02, -8.24529902e-01],\n",
       "       [ 0.00000000e+00,  0.00000000e+00,  0.00000000e+00,\n",
       "         0.00000000e+00,  0.00000000e+00,  0.00000000e+00,\n",
       "         2.86462543e-02, -8.24529902e-01],\n",
       "       [ 2.04566641e-01, -5.66013748e-01,  2.85227290e-01,\n",
       "         3.68982915e-01, -2.85227290e-01, -1.50758130e-01,\n",
       "         9.60180948e-01,  4.39671447e-01],\n",
       "       [-5.59522533e-01,  4.29336740e-01, -5.71150439e-01,\n",
       "        -5.52929264e-01,  5.71150439e-01,  6.32630996e-01,\n",
       "         2.86462543e-02, -8.24529902e-01],\n",
       "       [ 1.98982509e-01, -4.84253840e-01,  2.76898161e-01,\n",
       "         3.57476000e-01, -2.76898161e-01, -1.49966037e-01,\n",
       "         4.50023897e+00,  9.09275110e-01],\n",
       "       [ 0.00000000e+00,  0.00000000e+00,  0.00000000e+00,\n",
       "         0.00000000e+00,  0.00000000e+00,  0.00000000e+00,\n",
       "        -3.98190516e-02,  2.63311046e-01],\n",
       "       [-1.32384453e+00,  5.86484893e-01, -8.56725658e-01,\n",
       "        -6.84699803e-01,  8.56725658e-01,  1.05535179e+00,\n",
       "         2.86462543e-02, -8.24529902e-01],\n",
       "       [-1.32384453e+00,  5.86484893e-01, -8.56725658e-01,\n",
       "        -6.84699803e-01,  8.56725658e-01,  1.05535179e+00,\n",
       "         7.02303893e+00,  1.01683834e+00],\n",
       "       [-1.32384453e+00,  5.86484893e-01, -8.56725658e-01,\n",
       "        -6.84699803e-01,  8.56725658e-01,  1.05535179e+00,\n",
       "        -3.98190516e-02,  2.63311046e-01],\n",
       "       [ 1.91721700e-01, -4.33381614e-01,  2.66113740e-01,\n",
       "         3.42639744e-01, -2.66113740e-01, -1.48082397e-01,\n",
       "         2.66007075e-01, -6.17999189e-01],\n",
       "       [-8.01017491e-01,  5.15746160e-01, -7.23101839e-01,\n",
       "        -6.42524000e-01,  7.23101839e-01,  8.50033963e-01,\n",
       "         0.00000000e+00, -4.37856963e-01],\n",
       "       [-1.52835294e-01,  1.67485552e-01, -1.86395987e-01,\n",
       "        -2.10817809e-01,  1.86395987e-01,  1.69561088e-01,\n",
       "         2.86462543e-02, -8.24529902e-01],\n",
       "       [-1.27049562e+00,  5.85770352e-01, -8.55334364e-01,\n",
       "        -6.84654994e-01,  8.55334364e-01,  1.05314893e+00,\n",
       "         0.00000000e+00, -4.37856963e-01],\n",
       "       [-1.52835294e-01,  1.67485552e-01, -1.86395987e-01,\n",
       "        -2.10817809e-01,  1.86395987e-01,  1.69561088e-01,\n",
       "         1.43501385e-02, -6.45261320e-01],\n",
       "       [-5.59522533e-01,  4.29336740e-01, -5.71150439e-01,\n",
       "        -5.52929264e-01,  5.71150439e-01,  6.32630996e-01,\n",
       "        -6.54464019e-02,  5.85390151e-01],\n",
       "       [-1.27049562e+00,  5.85770352e-01, -8.55334364e-01,\n",
       "        -6.84654994e-01,  8.55334364e-01,  1.05314893e+00,\n",
       "         2.86462543e-02, -8.24529902e-01],\n",
       "       [ 1.12610948e-01, -1.85305599e-01,  1.51951400e-01,\n",
       "         1.90013552e-01, -1.51951400e-01, -1.02509327e-01,\n",
       "        -3.98190516e-02,  2.63311046e-01],\n",
       "       [ 1.12610948e-01, -1.85305599e-01,  1.51951400e-01,\n",
       "         1.90013552e-01, -1.51951400e-01, -1.02509327e-01,\n",
       "         2.86462543e-02, -8.24529902e-01],\n",
       "       [ 0.00000000e+00,  0.00000000e+00,  0.00000000e+00,\n",
       "         0.00000000e+00,  0.00000000e+00,  0.00000000e+00,\n",
       "         7.02303893e+00,  1.01683834e+00],\n",
       "       [ 1.81575924e-01, -3.82800827e-01,  2.51130633e-01,\n",
       "         3.22145352e-01, -2.51130633e-01, -1.44449156e-01,\n",
       "         2.86462543e-02, -8.24529902e-01],\n",
       "       [-3.41251112e-01,  3.12062094e-01, -3.84754452e-01,\n",
       "        -4.04730254e-01,  3.84754452e-01,  3.91424952e-01,\n",
       "        -6.54464019e-02,  5.85390151e-01],\n",
       "       [-8.01017491e-01,  5.15746160e-01, -7.23101839e-01,\n",
       "        -6.42524000e-01,  7.23101839e-01,  8.50033963e-01,\n",
       "         7.04105086e+00,  5.62143037e-01],\n",
       "       [-3.41251112e-01,  3.12062094e-01, -3.84754452e-01,\n",
       "        -4.04730254e-01,  3.84754452e-01,  3.91424952e-01,\n",
       "         7.04105086e+00,  5.62143037e-01],\n",
       "       [ 0.00000000e+00,  0.00000000e+00,  0.00000000e+00,\n",
       "         0.00000000e+00,  0.00000000e+00,  0.00000000e+00,\n",
       "         1.43501385e-02, -6.45261320e-01],\n",
       "       [ 2.04799461e-01, -5.86484893e-01,  2.85575219e-01,\n",
       "         3.69464505e-01, -2.85575219e-01, -1.50764541e-01,\n",
       "         7.18212802e-03, -4.76469392e-01],\n",
       "       [ 1.98982509e-01, -4.84253840e-01,  2.76898161e-01,\n",
       "         3.57476000e-01, -2.76898161e-01, -1.49966037e-01,\n",
       "         2.66007075e-01, -6.17999189e-01],\n",
       "       [-1.32384453e+00,  5.86484893e-01, -8.56725658e-01,\n",
       "        -6.84699803e-01,  8.56725658e-01,  1.05535179e+00,\n",
       "         7.04105086e+00,  5.62143037e-01],\n",
       "       [ 1.81575924e-01, -3.82800827e-01,  2.51130633e-01,\n",
       "         3.22145352e-01, -2.51130633e-01, -1.44449156e-01,\n",
       "         1.43501385e-02, -6.45261320e-01],\n",
       "       [ 1.81575924e-01, -3.82800827e-01,  2.51130633e-01,\n",
       "         3.22145352e-01, -2.51130633e-01, -1.44449156e-01,\n",
       "         7.03387287e+00,  7.97758303e-01],\n",
       "       [ 2.04799461e-01, -5.86484893e-01,  2.85575219e-01,\n",
       "         3.69464505e-01, -2.85575219e-01, -1.50764541e-01,\n",
       "        -1.80411625e-02, -3.17772375e-03],\n",
       "       [ 2.04799461e-01, -5.86484893e-01,  2.85575219e-01,\n",
       "         3.69464505e-01, -2.85575219e-01, -1.50764541e-01,\n",
       "        -2.16442885e-02,  2.19493065e-01],\n",
       "       [-1.32384453e+00,  5.86484893e-01, -8.56725658e-01,\n",
       "        -6.84699803e-01,  8.56725658e-01,  1.05535179e+00,\n",
       "         0.00000000e+00, -4.37856963e-01],\n",
       "       [ 2.02704508e-01, -5.25096398e-01,  2.82446398e-01,\n",
       "         3.65136355e-01, -2.82446398e-01, -1.50591644e-01,\n",
       "        -2.13380262e+00,  1.27888118e-01],\n",
       "       [ 2.02704508e-01, -5.25096398e-01,  2.82446398e-01,\n",
       "         3.65136355e-01, -2.82446398e-01, -1.50591644e-01,\n",
       "        -2.09089040e+00, -2.10608855e-01],\n",
       "       [ 1.81575924e-01, -3.82800827e-01,  2.51130633e-01,\n",
       "         3.22145352e-01, -2.51130633e-01, -1.44449156e-01,\n",
       "        -2.13380262e+00,  1.30472429e-01]])"
      ]
     },
     "execution_count": 12,
     "metadata": {},
     "output_type": "execute_result"
    }
   ],
   "source": [
    "svr=grid_search.best_estimator_\n",
    "svr.fit(Dimensionless_Attributes_Scaled,Dimensionless_Labels)\n",
    "svr.support_vectors_"
   ]
  },
  {
   "cell_type": "code",
   "execution_count": 13,
   "metadata": {},
   "outputs": [
    {
     "data": {
      "text/plain": [
       "array([[ 1.62666464,  5.50794978, -8.        ,  2.14454223, -1.12388378,\n",
       "        -8.        , -3.8103554 ,  7.58330987, -8.        , -8.        ,\n",
       "         3.8908792 ,  8.        , -8.        ,  8.        ,  8.        ,\n",
       "        -8.        ,  0.41857542,  0.61903143,  8.        , -6.12902373,\n",
       "        -3.5371953 , -8.        ,  8.        ,  8.        ,  1.31017276,\n",
       "         8.        , -8.        ,  8.        , -8.        , -8.        ,\n",
       "         5.33161748, -1.1469901 , -8.        ,  1.62105018,  8.        ,\n",
       "         0.87482252, -8.        , -8.        , -8.        , -8.        ,\n",
       "        -0.87221655, -0.25249829,  0.51433483, -2.47184997, -8.        ,\n",
       "         3.43766134, -1.19429806,  8.        ,  8.        , -8.        ,\n",
       "         8.        ,  8.        ,  1.12483025, -8.        , -1.0356804 ,\n",
       "        -8.        ,  3.14304476, -0.70827465,  1.9961256 ,  8.        ,\n",
       "        -4.16259921,  3.49109381, -8.        ,  8.        , -5.42538792,\n",
       "         8.        ,  8.        , -3.26226184, -8.        ,  8.        ,\n",
       "         8.        ,  8.        , -1.50319089]])"
      ]
     },
     "execution_count": 13,
     "metadata": {},
     "output_type": "execute_result"
    }
   ],
   "source": [
    "svr.dual_coef_ "
   ]
  },
  {
   "cell_type": "code",
   "execution_count": 14,
   "metadata": {},
   "outputs": [
    {
     "data": {
      "text/plain": [
       "array([0.18947187])"
      ]
     },
     "execution_count": 14,
     "metadata": {},
     "output_type": "execute_result"
    }
   ],
   "source": [
    "svr.intercept_"
   ]
  },
  {
   "cell_type": "markdown",
   "metadata": {},
   "source": [
    "### 3.3.2. Pipeline\n",
    "\"Transformers are usually combined with classifiers, regressors or other estimators to build a composite estimator. The most common tool is a Pipeline. Pipeline is often used in combination with FeatureUnion which concatenates the output of transformers into a composite feature space.\" [2]\n",
    "In our application, we are going to form a regressor which first receives the fluids properties and pipe geometry for each observation, then scales the experimental results and finally, performs the prediction."
   ]
  },
  {
   "cell_type": "code",
   "execution_count": 15,
   "metadata": {},
   "outputs": [],
   "source": [
    "def drift_vel_calc(initial_data):\n",
    "    def input_transformer(initial_data):\n",
    "        import numpy as np\n",
    "        import pandas as pd\n",
    "        inputdf=pd.DataFrame()\n",
    "        inputdf['Cos(Angle)']=np.cos(initial_data['theta [rad]'])\n",
    "        inputdf['Sin(Angle)']=np.sin(initial_data['theta [rad]'])\n",
    "        inputdf['Buoyancy Reynolds R']=np.sqrt(initial_data['Diameter [m]']**3*initial_data['g [m/s2]']*(initial_data['rhoL [kg/m3]']-initial_data['rhoG [kg/m3]'])*initial_data['rhoL [kg/m3]'])/initial_data['muL [Pa.s]']\n",
    "        inputdf['Eotvos Number Eo']=(initial_data['rhoL [kg/m3]']-initial_data['rhoG [kg/m3]'])*initial_data['g [m/s2]']*initial_data['Diameter [m]']**2/initial_data['sigma [N/m]']\n",
    "        inputdf['Cos(Angle)^2']=inputdf['Cos(Angle)']**2\n",
    "        inputdf['Cos(Angle)^3']=inputdf['Cos(Angle)']**3\n",
    "        inputdf['Sin(Angle)^2']=inputdf['Sin(Angle)']**2\n",
    "        inputdf['Sin(Angle)^3']=inputdf['Sin(Angle)']**3\n",
    "        inputdf['Ln(Eo)']=np.log(inputdf['Eotvos Number Eo'])\n",
    "        inputdf['Ln(R)']=np.log(inputdf['Buoyancy Reynolds R'])\n",
    "        inputdf=inputdf.drop('Eotvos Number Eo',axis=1)\n",
    "        inputdf=inputdf.drop('Buoyancy Reynolds R',axis=1)\n",
    "        return inputdf\n",
    "    from sklearn.pipeline import make_pipeline\n",
    "    from sklearn.preprocessing import FunctionTransformer\n",
    "    svr_estimator=make_pipeline(FunctionTransformer(input_transformer,validate=False),scaler,svr)\n",
    "    Fr_pipe=svr_estimator.predict(initial_data)\n",
    "    V_d_pipe=Fr_pipe*(np.cos(initial_data['theta [rad]'])+np.sin(initial_data['theta [rad]']))*np.power(initial_data['g [m/s2]']*initial_data['Diameter [m]']*(1-initial_data['rhoG [kg/m3]']/initial_data['rhoL [kg/m3]']),0.5)\n",
    "    return V_d_pipe\n",
    "\n",
    "from sklearn.preprocessing import FunctionTransformer\n",
    "drift_vel_estimator=FunctionTransformer(drift_vel_calc,validate=False)"
   ]
  },
  {
   "cell_type": "markdown",
   "metadata": {},
   "source": [
    "### 3.4. Saving the Model\n",
    "The model is available to download from the following link:\n",
    "https://github.com/VictorPuglieseManotas/Research/blob/master/drift_velocity_regressor.joblib\n",
    "\n",
    "The file must be saved in the working directory."
   ]
  },
  {
   "cell_type": "code",
   "execution_count": 16,
   "metadata": {},
   "outputs": [
    {
     "data": {
      "text/plain": [
       "['drift_velocity_estimator.joblib']"
      ]
     },
     "execution_count": 16,
     "metadata": {},
     "output_type": "execute_result"
    }
   ],
   "source": [
    "from sklearn.externals import joblib\n",
    "joblib.dump(drift_vel_estimator,'drift_velocity_estimator.joblib')"
   ]
  },
  {
   "cell_type": "markdown",
   "metadata": {},
   "source": [
    "### 3.5. Loading Model\n",
    "To load the estimator in the user can use the following code:"
   ]
  },
  {
   "cell_type": "code",
   "execution_count": 17,
   "metadata": {},
   "outputs": [],
   "source": [
    "drift_vel_estimator_loaded=joblib.load('drift_velocity_estimator.joblib')"
   ]
  },
  {
   "cell_type": "markdown",
   "metadata": {},
   "source": [
    "### 3.6. Model Evaluation\n",
    "For evaluation purpose, we are going to use the experimental data gather by Dr. Eghorieta, who got drift velocity of Taylor bubble in high viscosity oil for inclination angles from 0° to 10°. Also, we are going to present the prediction performance of Livinus et. al. model [3]\n",
    "\n",
    "First, we check the performance using the Train Set."
   ]
  },
  {
   "cell_type": "code",
   "execution_count": 18,
   "metadata": {},
   "outputs": [
    {
     "data": {
      "text/plain": [
       "Text(0.5,1,'Performance with Train Set')"
      ]
     },
     "execution_count": 18,
     "metadata": {},
     "output_type": "execute_result"
    },
    {
     "data": {
      "image/png": "[encoded data removed]",
      "text/plain": [
       "<Figure size 432x288 with 1 Axes>"
      ]
     },
     "metadata": {},
     "output_type": "display_data"
    }
   ],
   "source": [
    "Experimental_Data=pd.read_excel(r\"C:\\Users\\victo\\Train_Set_Drift_Velocity_Analysis_O.xlsx\")\n",
    "Experimental_Data=Experimental_Data.drop(Experimental_Data.columns[[0,3,4,5,6,7,8,9,10,11,14]], axis=1)\n",
    "Dimensionless_Attributes=Experimental_Data.drop('Froud Number Fr',axis=1)\n",
    "\n",
    "Fr_l=np.power(10,-(0.0000007928*np.power(-np.log10(np.asarray(Dimensionless_Attributes['Buoyancy Reynolds R']/Dimensionless_Attributes['Eotvos Number Eo'])),7.443)+0.3276))\n",
    "Fr_Livinus=Fr_l*np.asarray(Dimensionless_Attributes['Cos(Angle)']+Dimensionless_Attributes['Sin(Angle)'])\n",
    "\n",
    "Fr_svr=svr.predict(Dimensionless_Attributes_Scaled)\n",
    "\n",
    "plt.scatter(Dimensionless_Labels,Fr_Livinus,c='c')\n",
    "plt.scatter(Dimensionless_Labels,Fr_svr,c='b')\n",
    "plt.scatter(Dimensionless_Labels,Dimensionless_Labels,c='r')\n",
    "plt.xlabel(\"Froud Number Experiments\")\n",
    "plt.ylabel(\"Froud Number\")\n",
    "plt.legend((\"Predicted by Livinus\",\"Predicted by SVR\",\"Target\"),loc='bottom right')\n",
    "plt.title(\"Performance with Train Set\")"
   ]
  },
  {
   "cell_type": "markdown",
   "metadata": {},
   "source": [
    "Now, we evaluate the performance using the Test Set."
   ]
  },
  {
   "cell_type": "code",
   "execution_count": 20,
   "metadata": {},
   "outputs": [
    {
     "data": {
      "text/plain": [
       "Text(0.5,1,'Performance with Test Set')"
      ]
     },
     "execution_count": 20,
     "metadata": {},
     "output_type": "execute_result"
    },
    {
     "data": {
      "image/png": "[encoded data removed]",
      "text/plain": [
       "<Figure size 432x288 with 1 Axes>"
      ]
     },
     "metadata": {},
     "output_type": "display_data"
    }
   ],
   "source": [
    "Test_Set=pd.read_excel(r\"C:\\Users\\victo\\Test_Set_Drift_Velocity_Analysis_O.xlsx\")\n",
    "\n",
    "Fr_real=np.asarray(Test_Set['Froud Number Fr'])\n",
    "V_d_real=np.asarray(Test_Set['Drift Velocity [m/s]'])\n",
    "\n",
    "Fr_l=np.power(10,-(0.0000007928*np.power(-np.log10(np.asarray(Test_Set['Buoyancy Reynolds R']/Test_Set['Eotvos Number Eo'])),7.443)+0.3276))\n",
    "Fr_Livinus=Fr_l*np.asarray(Test_Set['Cos(Angle)']+Test_Set['Sin(Angle)'])\n",
    "\n",
    "Test_Set=Test_Set.drop(Test_Set.columns[[0,3,4,5,6,7,8,9,10,11,14,15]], axis=1)\n",
    "Test_Set['Cos(Angle)^2']=Test_Set['Cos(Angle)']**2\n",
    "Test_Set['Cos(Angle)^3']=Test_Set['Cos(Angle)']**3\n",
    "Test_Set['Sin(Angle)^2']=Test_Set['Sin(Angle)']**2\n",
    "Test_Set['Sin(Angle)^3']=Test_Set['Sin(Angle)']**3\n",
    "Test_Set['Ln(Eo)']=np.log(Test_Set['Eotvos Number Eo'])\n",
    "Test_Set['Ln(R)']=np.log(Test_Set['Buoyancy Reynolds R'])\n",
    "Test_Set=Test_Set.drop('Eotvos Number Eo',axis=1)\n",
    "Test_Set=Test_Set.drop('Buoyancy Reynolds R',axis=1)\n",
    "\n",
    "Fr_svr_Test=svr.predict(scaler.transform(Test_Set))\n",
    "\n",
    "\n",
    "plt.scatter(Fr_real,Fr_Livinus,c='c')\n",
    "plt.scatter(Fr_real,Fr_svr_Test,c='b')\n",
    "plt.scatter(Fr_real,Fr_real,c='r')\n",
    "plt.xlabel(\"Froud Number Experiments\")\n",
    "plt.ylabel(\"Froud Number\")\n",
    "plt.legend((\"Predicted by Livinus\",\"Predicted by SVR\",\"Target\"),loc='bottom right')\n",
    "plt.title(\"Performance with Test Set\")"
   ]
  },
  {
   "cell_type": "markdown",
   "metadata": {},
   "source": [
    "For Livinus et.al. model, the drift velocity can therefore be calculated from the following equation, using the predicted Froud Number:\n",
    "v_d=Fr[gD(1-rho_g/rho_l)]^0.5\n"
   ]
  },
  {
   "cell_type": "code",
   "execution_count": 21,
   "metadata": {},
   "outputs": [
    {
     "data": {
      "text/plain": [
       "Text(0.5,1,'Drift Velocity Prediction')"
      ]
     },
     "execution_count": 21,
     "metadata": {},
     "output_type": "execute_result"
    },
    {
     "data": {
      "image/png": "[encoded data removed]",
      "text/plain": [
       "<Figure size 432x288 with 1 Axes>"
      ]
     },
     "metadata": {},
     "output_type": "display_data"
    }
   ],
   "source": [
    "Test_Set=pd.read_excel(r\"C:\\Users\\victo\\Test_Set_Drift_Velocity_Analysis_O.xlsx\")\n",
    "\n",
    "D=np.asarray(Test_Set['Diameter [m]'])\n",
    "rho_L=np.asarray(Test_Set['rhoL [kg/m3]'])\n",
    "rho_G=np.asarray(Test_Set['rhoG [kg/m3]'])\n",
    "\n",
    "V_d_Livinus=Fr_Livinus*np.power(9.80665*D*(1-rho_G/rho_L),0.5)\n",
    "\n",
    "\n",
    "Test_Set['theta [rad]']=np.pi*Test_Set['Inclination [°]']/180\n",
    "Test_Set=Test_Set.drop(Test_Set.columns[[0,1,2,3,8,10,11,12,13,14,15]], axis=1)\n",
    "Test_Set['g [m/s2]']=9.80665*np.ones(len(Test_Set))\n",
    "\n",
    "V_d_svr=drift_vel_estimator_loaded.transform(Test_Set)\n",
    "\n",
    "plt.scatter(V_d_real,V_d_Livinus,c='c')\n",
    "plt.scatter(V_d_real,V_d_svr,c='b')\n",
    "plt.scatter(V_d_real,V_d_real,c='r')\n",
    "plt.xlabel(\"Drift Velocity Experiments [m/s]\")\n",
    "plt.ylabel(\"Drift Velocity\")\n",
    "plt.legend((\"Predicted by Livinus\",\"Predicted by SVR\",\"Target\"),loc='bottom right')\n",
    "plt.title(\"Drift Velocity Prediction\")"
   ]
  },
  {
   "cell_type": "markdown",
   "metadata": {},
   "source": [
    "It is important to note that the input for the \"drift_velocity_estimator\" must be a panda DataFrame, as follow:"
   ]
  },
  {
   "cell_type": "code",
   "execution_count": 37,
   "metadata": {},
   "outputs": [
    {
     "data": {
      "text/html": [
       "<div>\n",
       "<style scoped>\n",
       "    .dataframe tbody tr th:only-of-type {\n",
       "        vertical-align: middle;\n",
       "    }\n",
       "\n",
       "    .dataframe tbody tr th {\n",
       "        vertical-align: top;\n",
       "    }\n",
       "\n",
       "    .dataframe thead th {\n",
       "        text-align: right;\n",
       "    }\n",
       "</style>\n",
       "<table border=\"1\" class=\"dataframe\">\n",
       "  <thead>\n",
       "    <tr style=\"text-align: right;\">\n",
       "      <th></th>\n",
       "      <th>rhoL [kg/m3]</th>\n",
       "      <th>rhoG [kg/m3]</th>\n",
       "      <th>muL [Pa.s]</th>\n",
       "      <th>sigma [N/m]</th>\n",
       "      <th>Diameter [m]</th>\n",
       "      <th>theta [rad]</th>\n",
       "      <th>g [m/s2]</th>\n",
       "    </tr>\n",
       "  </thead>\n",
       "  <tbody>\n",
       "    <tr>\n",
       "      <th>0</th>\n",
       "      <td>889.0</td>\n",
       "      <td>1.225</td>\n",
       "      <td>0.14</td>\n",
       "      <td>0.025</td>\n",
       "      <td>0.037592</td>\n",
       "      <td>0.000000</td>\n",
       "      <td>9.80665</td>\n",
       "    </tr>\n",
       "    <tr>\n",
       "      <th>1</th>\n",
       "      <td>889.0</td>\n",
       "      <td>1.225</td>\n",
       "      <td>0.14</td>\n",
       "      <td>0.025</td>\n",
       "      <td>0.037592</td>\n",
       "      <td>0.017453</td>\n",
       "      <td>9.80665</td>\n",
       "    </tr>\n",
       "    <tr>\n",
       "      <th>2</th>\n",
       "      <td>889.0</td>\n",
       "      <td>1.225</td>\n",
       "      <td>0.14</td>\n",
       "      <td>0.025</td>\n",
       "      <td>0.037592</td>\n",
       "      <td>0.052360</td>\n",
       "      <td>9.80665</td>\n",
       "    </tr>\n",
       "    <tr>\n",
       "      <th>3</th>\n",
       "      <td>889.0</td>\n",
       "      <td>1.225</td>\n",
       "      <td>0.14</td>\n",
       "      <td>0.025</td>\n",
       "      <td>0.037592</td>\n",
       "      <td>0.087266</td>\n",
       "      <td>9.80665</td>\n",
       "    </tr>\n",
       "    <tr>\n",
       "      <th>4</th>\n",
       "      <td>889.0</td>\n",
       "      <td>1.225</td>\n",
       "      <td>0.14</td>\n",
       "      <td>0.025</td>\n",
       "      <td>0.037592</td>\n",
       "      <td>0.122173</td>\n",
       "      <td>9.80665</td>\n",
       "    </tr>\n",
       "  </tbody>\n",
       "</table>\n",
       "</div>"
      ],
      "text/plain": [
       "   rhoL [kg/m3]  rhoG [kg/m3]  muL [Pa.s]  sigma [N/m]  Diameter [m]  \\\n",
       "0         889.0         1.225        0.14        0.025      0.037592   \n",
       "1         889.0         1.225        0.14        0.025      0.037592   \n",
       "2         889.0         1.225        0.14        0.025      0.037592   \n",
       "3         889.0         1.225        0.14        0.025      0.037592   \n",
       "4         889.0         1.225        0.14        0.025      0.037592   \n",
       "\n",
       "   theta [rad]  g [m/s2]  \n",
       "0     0.000000   9.80665  \n",
       "1     0.017453   9.80665  \n",
       "2     0.052360   9.80665  \n",
       "3     0.087266   9.80665  \n",
       "4     0.122173   9.80665  "
      ]
     },
     "execution_count": 37,
     "metadata": {},
     "output_type": "execute_result"
    }
   ],
   "source": [
    "Test_Set.head()"
   ]
  },
  {
   "cell_type": "markdown",
   "metadata": {},
   "source": [
    "According the Froud Number prediction from the Suppor Vector Machine Regressor, we can see that a simplified model, using a constant Froud number can perform a good drift velocity prediction."
   ]
  },
  {
   "cell_type": "code",
   "execution_count": 30,
   "metadata": {},
   "outputs": [
    {
     "data": {
      "text/plain": [
       "Text(0.5,1,'Drift Velocity Prediction')"
      ]
     },
     "execution_count": 30,
     "metadata": {},
     "output_type": "execute_result"
    },
    {
     "data": {
      "image/png": "[encoded data removed]",
      "text/plain": [
       "<Figure size 432x288 with 1 Axes>"
      ]
     },
     "metadata": {},
     "output_type": "display_data"
    }
   ],
   "source": [
    "V_d_simplified=0.36219587*(np.cos(Test_Set['theta [rad]'])+np.sin(Test_Set['theta [rad]']))*np.power(Test_Set['g [m/s2]']*Test_Set['Diameter [m]']*(1-Test_Set['rhoG [kg/m3]']/Test_Set['rhoL [kg/m3]'])*np.power(Test_Set['muL [Pa.s]'],-0.00005),0.8)\n",
    "\n",
    "plt.scatter(V_d_real,V_d_simplified,c='y')\n",
    "plt.scatter(V_d_real,V_d_real,c='r')\n",
    "plt.xlabel(\"Drift Velocity Experiments [m/s]\")\n",
    "plt.ylabel(\"Drift Velocity\")\n",
    "plt.legend((\"Simplified Model\",\"Target\"),loc='bottom right')\n",
    "plt.title(\"Drift Velocity Prediction\")"
   ]
  },
  {
   "cell_type": "markdown",
   "metadata": {},
   "source": [
    "Now, we use the mean squared error and the r2 score as metrics to measure the performance of the model."
   ]
  },
  {
   "cell_type": "code",
   "execution_count": 31,
   "metadata": {},
   "outputs": [
    {
     "data": {
      "text/plain": [
       "0.013802881994733791"
      ]
     },
     "execution_count": 31,
     "metadata": {},
     "output_type": "execute_result"
    }
   ],
   "source": [
    "from sklearn.metrics import mean_squared_error\n",
    "\n",
    "mean_squared_error(V_d_real,V_d_Livinus)"
   ]
  },
  {
   "cell_type": "code",
   "execution_count": 32,
   "metadata": {},
   "outputs": [
    {
     "data": {
      "text/plain": [
       "0.0036138467843598674"
      ]
     },
     "execution_count": 32,
     "metadata": {},
     "output_type": "execute_result"
    }
   ],
   "source": [
    "mean_squared_error(V_d_real,V_d_svr)"
   ]
  },
  {
   "cell_type": "code",
   "execution_count": 33,
   "metadata": {},
   "outputs": [
    {
     "data": {
      "text/plain": [
       "0.0026076783451488158"
      ]
     },
     "execution_count": 33,
     "metadata": {},
     "output_type": "execute_result"
    }
   ],
   "source": [
    "mean_squared_error(V_d_real,V_d_simplified)"
   ]
  },
  {
   "cell_type": "code",
   "execution_count": 34,
   "metadata": {},
   "outputs": [
    {
     "data": {
      "text/plain": [
       "0.31083583405972315"
      ]
     },
     "execution_count": 34,
     "metadata": {},
     "output_type": "execute_result"
    }
   ],
   "source": [
    "relative_error(V_d_real,V_d_Livinus)"
   ]
  },
  {
   "cell_type": "code",
   "execution_count": 35,
   "metadata": {},
   "outputs": [
    {
     "data": {
      "text/plain": [
       "0.13748847930813543"
      ]
     },
     "execution_count": 35,
     "metadata": {},
     "output_type": "execute_result"
    }
   ],
   "source": [
    "relative_error(V_d_real,V_d_svr)"
   ]
  },
  {
   "cell_type": "code",
   "execution_count": 36,
   "metadata": {},
   "outputs": [
    {
     "data": {
      "text/plain": [
       "0.12118619296449928"
      ]
     },
     "execution_count": 36,
     "metadata": {},
     "output_type": "execute_result"
    }
   ],
   "source": [
    "relative_error(V_d_real,V_d_simplified)"
   ]
  },
  {
   "cell_type": "markdown",
   "metadata": {},
   "source": [
    "## 4. References\n",
    "[1] http://scikit-learn.org/stable/modules/preprocessing.html\n",
    "\n",
    "[2] http://scikit-learn.org/stable/modules/compose.html#combining-estimators\n",
    "\n",
    "[3] Livinus, Aniefiok, Patrick Verdin, Liyun Lao, Jan Nossen, Morten Langsholt, and Hans-Gunnar Sleipnaes. \"Simplified generalised drift velocity correlation for elongated bubbles in liquid in pipes.\" Journal of Petroleum Science and Engineering. Vol. 160, 2018: 106-118.\n"
   ]
  }
 ],
 "metadata": {
  "kernelspec": {
   "display_name": "Python 3",
   "language": "python",
   "name": "python3"
  },
  "language_info": {
   "codemirror_mode": {
    "name": "ipython",
    "version": 3
   },
   "file_extension": ".py",
   "mimetype": "text/x-python",
   "name": "python",
   "nbconvert_exporter": "python",
   "pygments_lexer": "ipython3",
   "version": "3.6.5"
  }
 },
 "nbformat": 4,
 "nbformat_minor": 2
}
