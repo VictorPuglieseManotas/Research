{
 "cells": [
  {
   "cell_type": "markdown",
   "metadata": {},
   "source": [
    "Victor Pugliese Github link:https://github.com/VictorPuglieseManotas e-mail: victor.pugliese@ttu.edu\n",
    "\n",
    "Acknowledge: The following work has been performed under the supervision of Dr. Ekarit Panacharoensawad, Assistant Professor, Department of Petroleum Engineering, Texas Tech University. Github link: https://github.com/epmmko e-mail: ekarit.panacharoensawad@ttu.edu\n",
    "\n",
    "The following work has been performed with the collaboration of Dr. Raymond Eghorieta. e-mail: raymond.eghorieta@ttu.edu"
   ]
  },
  {
   "cell_type": "markdown",
   "metadata": {},
   "source": [
    "# Drift Velocity Analysis"
   ]
  },
  {
   "cell_type": "markdown",
   "metadata": {},
   "source": [
    "## 1. Introduction"
   ]
  },
  {
   "cell_type": "markdown",
   "metadata": {},
   "source": [
    "Dimensionles gruoups have been applied by many researchers to estimate the rise velocity of a single bubble moving in liquid in pipe under the influence of gravitational, inertial, viscous and interfacial forces. These are: Reynolds Number, Eotvos number, Viscosyty Number, Bouyancy Reynolds Number and Froud Number.\n",
    "The objetive of this analysis is to find a model to relate the Froud Number with the rest of dimensionless group. Then, we could use Davies and Taylor (1950) clousure relationship to calculate the drift velocity."
   ]
  },
  {
   "cell_type": "code",
   "execution_count": 1,
   "metadata": {},
   "outputs": [],
   "source": [
    "#Libraries used\n",
    "%matplotlib inline                 \n",
    "#The output of plotting commands is displayed directly below the code cell that produced it.\n",
    "import os                          #This module provides a portable way of using operating system dependent functionality\n",
    "import numpy as np                 #Adds support for large, multi-dimensional arrays and matrices, with a collection of mathematical functions.\n",
    "import pandas as pd                #Provides data structures and data analysis tools for the Python programming language.\n",
    "import matplotlib                  #Produces publication quality figures in a variety of hardcopy formats and interactive environments across platforms.\n",
    "import matplotlib.pyplot as plt    #It is a collection of command style functions that make matplotlib work like MATLAB\n",
    "import plotly.plotly as py         #A graphing library for making interactive, publication-quality graphs\n",
    "import plotly.figure_factory as ff\n",
    "import time\n",
    "import warnings\n",
    "warnings.filterwarnings('ignore')  #Never print matching warnings\n",
    "from six.moves import urllib"
   ]
  },
  {
   "cell_type": "markdown",
   "metadata": {},
   "source": [
    "## 2. Data Preparation\n",
    "### 2.1. Load Data\n",
    "The information is taken from the excel file in VictorPuglieseManotas's repository named Research. In this way, any person could download the raw data: https://github.com/VictorPuglieseManotas/Research/blob/master/Drift_Velocity_Analysis.xlsx"
   ]
  },
  {
   "cell_type": "code",
   "execution_count": 2,
   "metadata": {},
   "outputs": [
    {
     "data": {
      "text/html": [
       "<div>\n",
       "<style scoped>\n",
       "    .dataframe tbody tr th:only-of-type {\n",
       "        vertical-align: middle;\n",
       "    }\n",
       "\n",
       "    .dataframe tbody tr th {\n",
       "        vertical-align: top;\n",
       "    }\n",
       "\n",
       "    .dataframe thead th {\n",
       "        text-align: right;\n",
       "    }\n",
       "</style>\n",
       "<table border=\"1\" class=\"dataframe\">\n",
       "  <thead>\n",
       "    <tr style=\"text-align: right;\">\n",
       "      <th></th>\n",
       "      <th>Inclination [°]</th>\n",
       "      <th>Cos(Angle)</th>\n",
       "      <th>Sin(Angle)</th>\n",
       "      <th>Temperature [C]</th>\n",
       "      <th>\\rhoL [kg/m3]</th>\n",
       "      <th>\\rhoG [kg/m3]</th>\n",
       "      <th>\\muL [Pa.s]</th>\n",
       "      <th>\\sigma [N/m]</th>\n",
       "      <th>Liquid Type</th>\n",
       "      <th>Diameter [m]</th>\n",
       "      <th>Drift Velocity [m/s]</th>\n",
       "      <th>Reynolds Number Re</th>\n",
       "      <th>Buoyancy Reynolds R</th>\n",
       "      <th>Eotvos Number Eo</th>\n",
       "      <th>Viscosity Number Nmu</th>\n",
       "      <th>Froud Number Fr</th>\n",
       "    </tr>\n",
       "  </thead>\n",
       "  <tbody>\n",
       "    <tr>\n",
       "      <th>0</th>\n",
       "      <td>0.0</td>\n",
       "      <td>1.0</td>\n",
       "      <td>0.0</td>\n",
       "      <td>24.959836</td>\n",
       "      <td>990.895816</td>\n",
       "      <td>1.184648</td>\n",
       "      <td>0.000890</td>\n",
       "      <td>0.07280</td>\n",
       "      <td>Water</td>\n",
       "      <td>0.0381</td>\n",
       "      <td>0.264870</td>\n",
       "      <td>13.433988</td>\n",
       "      <td>25916.409127</td>\n",
       "      <td>193.529742</td>\n",
       "      <td>0.000039</td>\n",
       "      <td>0.433580</td>\n",
       "    </tr>\n",
       "    <tr>\n",
       "      <th>1</th>\n",
       "      <td>0.0</td>\n",
       "      <td>1.0</td>\n",
       "      <td>0.0</td>\n",
       "      <td>21.100000</td>\n",
       "      <td>1000.000000</td>\n",
       "      <td>1.200195</td>\n",
       "      <td>0.001000</td>\n",
       "      <td>0.07280</td>\n",
       "      <td>Water</td>\n",
       "      <td>0.0508</td>\n",
       "      <td>0.350000</td>\n",
       "      <td>21.339473</td>\n",
       "      <td>35833.986900</td>\n",
       "      <td>347.212354</td>\n",
       "      <td>0.000028</td>\n",
       "      <td>0.496177</td>\n",
       "    </tr>\n",
       "    <tr>\n",
       "      <th>2</th>\n",
       "      <td>0.0</td>\n",
       "      <td>1.0</td>\n",
       "      <td>0.0</td>\n",
       "      <td>21.455512</td>\n",
       "      <td>854.350660</td>\n",
       "      <td>1.198746</td>\n",
       "      <td>0.270282</td>\n",
       "      <td>0.03068</td>\n",
       "      <td>Oil</td>\n",
       "      <td>0.0381</td>\n",
       "      <td>0.047329</td>\n",
       "      <td>0.007998</td>\n",
       "      <td>73.563521</td>\n",
       "      <td>395.860019</td>\n",
       "      <td>0.013603</td>\n",
       "      <td>0.077483</td>\n",
       "    </tr>\n",
       "    <tr>\n",
       "      <th>3</th>\n",
       "      <td>0.0</td>\n",
       "      <td>1.0</td>\n",
       "      <td>0.0</td>\n",
       "      <td>32.327778</td>\n",
       "      <td>857.781985</td>\n",
       "      <td>1.156061</td>\n",
       "      <td>0.148676</td>\n",
       "      <td>0.03122</td>\n",
       "      <td>Oil</td>\n",
       "      <td>0.0381</td>\n",
       "      <td>0.091819</td>\n",
       "      <td>0.027202</td>\n",
       "      <td>134.274008</td>\n",
       "      <td>390.597034</td>\n",
       "      <td>0.007452</td>\n",
       "      <td>0.150316</td>\n",
       "    </tr>\n",
       "    <tr>\n",
       "      <th>4</th>\n",
       "      <td>0.0</td>\n",
       "      <td>1.0</td>\n",
       "      <td>0.0</td>\n",
       "      <td>45.000000</td>\n",
       "      <td>873.000000</td>\n",
       "      <td>1.109992</td>\n",
       "      <td>0.121000</td>\n",
       "      <td>0.02950</td>\n",
       "      <td>Oil</td>\n",
       "      <td>0.0508</td>\n",
       "      <td>0.295000</td>\n",
       "      <td>0.137474</td>\n",
       "      <td>258.528549</td>\n",
       "      <td>747.976210</td>\n",
       "      <td>0.003871</td>\n",
       "      <td>0.418221</td>\n",
       "    </tr>\n",
       "  </tbody>\n",
       "</table>\n",
       "</div>"
      ],
      "text/plain": [
       "   Inclination [°]  Cos(Angle)  Sin(Angle)  Temperature [C]  \\rhoL [kg/m3]  \\\n",
       "0              0.0         1.0         0.0        24.959836     990.895816   \n",
       "1              0.0         1.0         0.0        21.100000    1000.000000   \n",
       "2              0.0         1.0         0.0        21.455512     854.350660   \n",
       "3              0.0         1.0         0.0        32.327778     857.781985   \n",
       "4              0.0         1.0         0.0        45.000000     873.000000   \n",
       "\n",
       "   \\rhoG [kg/m3]  \\muL [Pa.s]  \\sigma [N/m] Liquid Type  Diameter [m]  \\\n",
       "0       1.184648     0.000890       0.07280       Water        0.0381   \n",
       "1       1.200195     0.001000       0.07280       Water        0.0508   \n",
       "2       1.198746     0.270282       0.03068         Oil        0.0381   \n",
       "3       1.156061     0.148676       0.03122         Oil        0.0381   \n",
       "4       1.109992     0.121000       0.02950         Oil        0.0508   \n",
       "\n",
       "   Drift Velocity [m/s]  Reynolds Number Re  Buoyancy Reynolds R  \\\n",
       "0              0.264870           13.433988         25916.409127   \n",
       "1              0.350000           21.339473         35833.986900   \n",
       "2              0.047329            0.007998            73.563521   \n",
       "3              0.091819            0.027202           134.274008   \n",
       "4              0.295000            0.137474           258.528549   \n",
       "\n",
       "   Eotvos Number Eo  Viscosity Number Nmu  Froud Number Fr  \n",
       "0        193.529742              0.000039         0.433580  \n",
       "1        347.212354              0.000028         0.496177  \n",
       "2        395.860019              0.013603         0.077483  \n",
       "3        390.597034              0.007452         0.150316  \n",
       "4        747.976210              0.003871         0.418221  "
      ]
     },
     "execution_count": 2,
     "metadata": {},
     "output_type": "execute_result"
    }
   ],
   "source": [
    "Download=\"https://github.com/VictorPuglieseManotas/Research/blob/master/Drift_Velocity_Analysis.xlsx\"\n",
    "urllib.request.urlretrieve(Download)                                            #Copy a network object denoted by a URL to a local file\n",
    "Experimental_Data=pd.read_excel(r\"C:\\Users\\victo\\Drift_Velocity_Analysis.xlsx\") #Read an Excel table into a pandas DataFrame\n",
    "Experimental_Data.head()                                                        #Returns the first 5 rows for the object based on position"
   ]
  },
  {
   "cell_type": "markdown",
   "metadata": {},
   "source": [
    "Now, we only will use the dimensionless group and the unit vectors:"
   ]
  },
  {
   "cell_type": "code",
   "execution_count": 3,
   "metadata": {},
   "outputs": [
    {
     "data": {
      "text/html": [
       "<div>\n",
       "<style scoped>\n",
       "    .dataframe tbody tr th:only-of-type {\n",
       "        vertical-align: middle;\n",
       "    }\n",
       "\n",
       "    .dataframe tbody tr th {\n",
       "        vertical-align: top;\n",
       "    }\n",
       "\n",
       "    .dataframe thead th {\n",
       "        text-align: right;\n",
       "    }\n",
       "</style>\n",
       "<table border=\"1\" class=\"dataframe\">\n",
       "  <thead>\n",
       "    <tr style=\"text-align: right;\">\n",
       "      <th></th>\n",
       "      <th>Cos(Angle)</th>\n",
       "      <th>Sin(Angle)</th>\n",
       "      <th>Buoyancy Reynolds R</th>\n",
       "      <th>Eotvos Number Eo</th>\n",
       "      <th>Froud Number Fr</th>\n",
       "    </tr>\n",
       "  </thead>\n",
       "  <tbody>\n",
       "    <tr>\n",
       "      <th>0</th>\n",
       "      <td>1.0</td>\n",
       "      <td>0.0</td>\n",
       "      <td>25916.409127</td>\n",
       "      <td>193.529742</td>\n",
       "      <td>0.433580</td>\n",
       "    </tr>\n",
       "    <tr>\n",
       "      <th>1</th>\n",
       "      <td>1.0</td>\n",
       "      <td>0.0</td>\n",
       "      <td>35833.986900</td>\n",
       "      <td>347.212354</td>\n",
       "      <td>0.496177</td>\n",
       "    </tr>\n",
       "    <tr>\n",
       "      <th>2</th>\n",
       "      <td>1.0</td>\n",
       "      <td>0.0</td>\n",
       "      <td>73.563521</td>\n",
       "      <td>395.860019</td>\n",
       "      <td>0.077483</td>\n",
       "    </tr>\n",
       "    <tr>\n",
       "      <th>3</th>\n",
       "      <td>1.0</td>\n",
       "      <td>0.0</td>\n",
       "      <td>134.274008</td>\n",
       "      <td>390.597034</td>\n",
       "      <td>0.150316</td>\n",
       "    </tr>\n",
       "    <tr>\n",
       "      <th>4</th>\n",
       "      <td>1.0</td>\n",
       "      <td>0.0</td>\n",
       "      <td>258.528549</td>\n",
       "      <td>747.976210</td>\n",
       "      <td>0.418221</td>\n",
       "    </tr>\n",
       "  </tbody>\n",
       "</table>\n",
       "</div>"
      ],
      "text/plain": [
       "   Cos(Angle)  Sin(Angle)  Buoyancy Reynolds R  Eotvos Number Eo  \\\n",
       "0         1.0         0.0         25916.409127        193.529742   \n",
       "1         1.0         0.0         35833.986900        347.212354   \n",
       "2         1.0         0.0            73.563521        395.860019   \n",
       "3         1.0         0.0           134.274008        390.597034   \n",
       "4         1.0         0.0           258.528549        747.976210   \n",
       "\n",
       "   Froud Number Fr  \n",
       "0         0.433580  \n",
       "1         0.496177  \n",
       "2         0.077483  \n",
       "3         0.150316  \n",
       "4         0.418221  "
      ]
     },
     "execution_count": 3,
     "metadata": {},
     "output_type": "execute_result"
    }
   ],
   "source": [
    "Experimental_Data=Experimental_Data.drop(Experimental_Data.columns[[0,3,4,5,6,7,8,9,10,11,14]], axis=1)\n",
    "Experimental_Data.head()"
   ]
  },
  {
   "cell_type": "markdown",
   "metadata": {},
   "source": [
    "### 2.2. Attribute Combinations"
   ]
  },
  {
   "cell_type": "markdown",
   "metadata": {},
   "source": [
    "### 2.3. Creating the Train and Test set\n",
    "The train set will be the experimental data gathered from other researchers. On the other hand, the Test set will be the experimental data obtained by the authors of this document in the Petroleum Engineering Labs in Texas Tech University."
   ]
  },
  {
   "cell_type": "code",
   "execution_count": 4,
   "metadata": {},
   "outputs": [],
   "source": [
    "Dimensionless_Labels=Experimental_Data['Froud Number Fr']\n",
    "Dimensionless_Attributes=Experimental_Data.drop('Froud Number Fr',axis=1)"
   ]
  },
  {
   "cell_type": "markdown",
   "metadata": {},
   "source": [
    "## 3. Machine Learning Model\n",
    "### 3.1. Regression Models\n",
    "#### 3.1.1. SVM Regressor"
   ]
  },
  {
   "cell_type": "code",
   "execution_count": 5,
   "metadata": {},
   "outputs": [
    {
     "data": {
      "text/plain": [
       "SVR(C=100, cache_size=200, coef0=0.0, degree=3, epsilon=0.1, gamma='auto',\n",
       "  kernel='rbf', max_iter=-1, shrinking=True, tol=0.001, verbose=False)"
      ]
     },
     "execution_count": 5,
     "metadata": {},
     "output_type": "execute_result"
    }
   ],
   "source": [
    "from sklearn.svm import SVR\n",
    "svr_rbf_reg = SVR(kernel=\"rbf\",C=100,epsilon=0.1)\n",
    "svr_rbf_reg"
   ]
  },
  {
   "cell_type": "markdown",
   "metadata": {},
   "source": [
    "#### 3.1.2. Gradient Boosting Regressor"
   ]
  },
  {
   "cell_type": "code",
   "execution_count": 6,
   "metadata": {},
   "outputs": [
    {
     "data": {
      "text/plain": [
       "GradientBoostingRegressor(alpha=0.9, criterion='friedman_mse', init=None,\n",
       "             learning_rate=1.0, loss='ls', max_depth=3, max_features=None,\n",
       "             max_leaf_nodes=None, min_impurity_decrease=0.0,\n",
       "             min_impurity_split=None, min_samples_leaf=1,\n",
       "             min_samples_split=2, min_weight_fraction_leaf=0.0,\n",
       "             n_estimators=5, presort='auto', random_state=None,\n",
       "             subsample=1.0, verbose=0, warm_start=False)"
      ]
     },
     "execution_count": 6,
     "metadata": {},
     "output_type": "execute_result"
    }
   ],
   "source": [
    "from sklearn.ensemble import GradientBoostingRegressor\n",
    "gb_reg = GradientBoostingRegressor(max_depth=3,n_estimators=5,learning_rate=1.0)\n",
    "gb_reg"
   ]
  },
  {
   "cell_type": "markdown",
   "metadata": {},
   "source": [
    "### 3.2. Training the Model\n",
    "The problem of Drift Velocity has been addressed. The initial experiment data has been clean and modified in order to have features that are related with the Froud Number. Also, we have splitted the instances. The training set is used in this stage to fit the model parameters. The model disccused is selected because of his potential good performance. However, we will test it using the test set. In the following code, we perform the training procedure, we obtain a measurement of its perfomance (mean_squared_error) and the time required to be fitted and to predict."
   ]
  },
  {
   "cell_type": "code",
   "execution_count": 7,
   "metadata": {
    "scrolled": true
   },
   "outputs": [
    {
     "name": "stdout",
     "output_type": "stream",
     "text": [
      "SVR  mean_squared_error:  0.0043449314726771195\n",
      "SVR  Time:  0.0019567012786865234\n",
      "GradientBoostingRegressor  mean_squared_error:  0.00039672348694307714\n",
      "GradientBoostingRegressor  Time:  0.001995563507080078\n"
     ]
    }
   ],
   "source": [
    "from sklearn.metrics import mean_squared_error\n",
    "\n",
    "for reg in (svr_rbf_reg,gb_reg):\n",
    "    start = time.time()\n",
    "    reg.fit(Dimensionless_Attributes,Dimensionless_Labels)\n",
    "    y_pred=reg.predict(Dimensionless_Attributes)\n",
    "    print(reg.__class__.__name__,' mean_squared_error: ',mean_squared_error(Dimensionless_Labels,y_pred))\n",
    "    end = time.time()\n",
    "    print(reg.__class__.__name__,' Time: ',end - start)"
   ]
  },
  {
   "cell_type": "markdown",
   "metadata": {},
   "source": [
    "### 3.2.1. Support Vectors, Dual Coefficient & Intercept"
   ]
  },
  {
   "cell_type": "code",
   "execution_count": 8,
   "metadata": {
    "scrolled": true
   },
   "outputs": [
    {
     "data": {
      "text/plain": [
       "array([[1.00000000e+00, 0.00000000e+00, 7.35635211e+01, 3.95860019e+02],\n",
       "       [1.00000000e+00, 0.00000000e+00, 1.34274008e+02, 3.90597034e+02],\n",
       "       [1.00000000e+00, 0.00000000e+00, 9.26176826e+01, 7.57359433e+02],\n",
       "       [1.00000000e+00, 0.00000000e+00, 6.78347457e+01, 7.59060964e+02],\n",
       "       [1.00000000e+00, 0.00000000e+00, 5.36562591e+01, 7.60766662e+02],\n",
       "       [1.00000000e+00, 0.00000000e+00, 4.60316249e+01, 7.61618197e+02],\n",
       "       [9.84807753e-01, 1.73648178e-01, 2.59164091e+04, 1.93529742e+02],\n",
       "       [9.92546152e-01, 1.21869343e-01, 7.35635211e+01, 3.95860019e+02],\n",
       "       [9.84807753e-01, 1.73648178e-01, 7.35635211e+01, 3.95860019e+02],\n",
       "       [9.92546152e-01, 1.21869343e-01, 1.34489853e+02, 3.90597034e+02],\n",
       "       [9.84807753e-01, 1.73648178e-01, 1.34238054e+02, 3.90597034e+02],\n",
       "       [7.66044443e-01, 6.42787610e-01, 3.58339869e+04, 3.47212354e+02],\n",
       "       [7.66044443e-01, 6.42787610e-01, 2.99411928e+02, 7.44559434e+02],\n",
       "       [7.66044443e-01, 6.42787610e-01, 1.69671367e+02, 7.50534635e+02],\n",
       "       [7.66044443e-01, 6.42787610e-01, 1.06648525e+02, 7.54799306e+02],\n",
       "       [9.84807753e-01, 1.73648178e-01, 2.49171409e+01, 7.66734045e+02],\n",
       "       [6.12574227e-17, 1.00000000e+00, 2.49171409e+01, 7.66734045e+02],\n",
       "       [6.42787610e-01, 7.66044443e-01, 2.87385972e+02, 6.83147073e+03],\n",
       "       [6.42787610e-01, 7.66044443e-01, 4.35420408e+02, 6.81619352e+03],\n",
       "       [6.42787610e-01, 7.66044443e-01, 6.40750092e+02, 6.79319989e+03],\n",
       "       [6.42787610e-01, 7.66044443e-01, 1.05911266e+03, 6.75483392e+03],\n",
       "       [9.91444861e-01, 1.30526192e-01, 5.30044864e+02, 3.09276566e+03],\n",
       "       [9.91444861e-01, 1.30526192e-01, 2.31564576e+02, 1.02524188e+03],\n",
       "       [9.99847695e-01, 1.74524064e-02, 8.20933283e+01, 2.49067624e+03],\n",
       "       [9.99847695e-01, 1.74524064e-02, 3.58647126e+01, 8.25651168e+02]])"
      ]
     },
     "execution_count": 8,
     "metadata": {},
     "output_type": "execute_result"
    }
   ],
   "source": [
    "svr_rbf_reg.fit(Dimensionless_Attributes,Dimensionless_Labels)\n",
    "svr_rbf_reg.support_vectors_"
   ]
  },
  {
   "cell_type": "code",
   "execution_count": 9,
   "metadata": {},
   "outputs": [
    {
     "data": {
      "text/plain": [
       "array([[-3.86266952e+00, -2.75374031e+00, -1.74559094e-03,\n",
       "        -3.00892059e-02, -5.09797684e-02, -7.54255060e-02,\n",
       "         4.97882766e-02,  3.63340596e-01,  3.37751054e+00,\n",
       "         4.28321863e-01,  2.27473276e+00,  1.41628523e-01,\n",
       "         5.09797684e-02,  3.35899914e-02,  3.86579385e-03,\n",
       "        -2.63800370e-02, -2.96850609e-02,  1.52051941e-03,\n",
       "         5.15402312e-02,  6.29947330e-02,  9.13959147e-02,\n",
       "         2.66290764e-02,  5.61201018e-04, -2.50367588e-02,\n",
       "        -1.02648032e-01]])"
      ]
     },
     "execution_count": 9,
     "metadata": {},
     "output_type": "execute_result"
    }
   ],
   "source": [
    "svr_rbf_reg.dual_coef_ "
   ]
  },
  {
   "cell_type": "code",
   "execution_count": 10,
   "metadata": {},
   "outputs": [
    {
     "data": {
      "text/plain": [
       "array([0.32571693])"
      ]
     },
     "execution_count": 10,
     "metadata": {},
     "output_type": "execute_result"
    }
   ],
   "source": [
    "svr_rbf_reg.intercept_"
   ]
  },
  {
   "cell_type": "markdown",
   "metadata": {},
   "source": [
    "### 3.3. Model Evaluation"
   ]
  },
  {
   "cell_type": "markdown",
   "metadata": {},
   "source": [
    "### 3.4. Tunning the Model"
   ]
  },
  {
   "cell_type": "code",
   "execution_count": null,
   "metadata": {},
   "outputs": [],
   "source": []
  }
 ],
 "metadata": {
  "kernelspec": {
   "display_name": "Python 3",
   "language": "python",
   "name": "python3"
  },
  "language_info": {
   "codemirror_mode": {
    "name": "ipython",
    "version": 3
   },
   "file_extension": ".py",
   "mimetype": "text/x-python",
   "name": "python",
   "nbconvert_exporter": "python",
   "pygments_lexer": "ipython3",
   "version": "3.6.5"
  }
 },
 "nbformat": 4,
 "nbformat_minor": 2
}
