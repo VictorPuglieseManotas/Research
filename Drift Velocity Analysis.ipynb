{
 "cells": [
  {
   "cell_type": "markdown",
   "metadata": {},
   "source": [
    "Victor Pugliese Github link:https://github.com/VictorPuglieseManotas e-mail: victor.pugliese@ttu.edu\n",
    "\n",
    "Acknowledge: The following work has been performed under the supervision of Dr. Ekarit Panacharoensawad, Assistant Professor, Department of Petroleum Engineering, Texas Tech University. Github link: https://github.com/epmmko e-mail: ekarit.panacharoensawad@ttu.edu\n",
    "\n",
    "The following work has been performed with the collaboration of Dr. Raymond Eghorieta. e-mail: raymond.eghorieta@ttu.edu"
   ]
  },
  {
   "cell_type": "markdown",
   "metadata": {},
   "source": [
    "# Drift Velocity Analysis"
   ]
  },
  {
   "cell_type": "markdown",
   "metadata": {},
   "source": [
    "## 1. Introduction"
   ]
  },
  {
   "cell_type": "markdown",
   "metadata": {},
   "source": [
    "Dimensionles gruoups have been applied by many researchers to estimate the rise velocity of a single bubble moving in liquid in pipe under the influence of gravitational, inertial, viscous and interfacial forces. These are: Reynolds Number, Eotvos number, Viscosyty Number, Bouyancy Reynolds Number and Froud Number.\n",
    "The objetive of this analysis is to find a model to relate the Froud Number with the rest of dimensionless group. Then, we could use Davies and Taylor (1950) clousure relationship to calculate the drift velocity."
   ]
  },
  {
   "cell_type": "code",
   "execution_count": 1,
   "metadata": {},
   "outputs": [],
   "source": [
    "#Libraries used\n",
    "%matplotlib inline                 \n",
    "import os                          \n",
    "import numpy as np                 \n",
    "import pandas as pd                \n",
    "import matplotlib.pyplot as plt    \n",
    "import time\n",
    "import warnings\n",
    "warnings.filterwarnings('ignore')  #Never print matching warnings"
   ]
  },
  {
   "cell_type": "markdown",
   "metadata": {},
   "source": [
    "## 2. Data Preparation\n",
    "### 2.1. Load Data\n",
    "The information is taken from the excel file in VictorPuglieseManotas's repository named Research. In this way, any person could download the raw data: https://github.com/VictorPuglieseManotas/Research/blob/master/Drift_Velocity_Analysis.xlsx"
   ]
  },
  {
   "cell_type": "code",
   "execution_count": 2,
   "metadata": {},
   "outputs": [
    {
     "data": {
      "text/html": [
       "<div>\n",
       "<style scoped>\n",
       "    .dataframe tbody tr th:only-of-type {\n",
       "        vertical-align: middle;\n",
       "    }\n",
       "\n",
       "    .dataframe tbody tr th {\n",
       "        vertical-align: top;\n",
       "    }\n",
       "\n",
       "    .dataframe thead th {\n",
       "        text-align: right;\n",
       "    }\n",
       "</style>\n",
       "<table border=\"1\" class=\"dataframe\">\n",
       "  <thead>\n",
       "    <tr style=\"text-align: right;\">\n",
       "      <th></th>\n",
       "      <th>Inclination [°]</th>\n",
       "      <th>Cos(Angle)</th>\n",
       "      <th>Sin(Angle)</th>\n",
       "      <th>Temperature [C]</th>\n",
       "      <th>\\rhoL [kg/m3]</th>\n",
       "      <th>\\rhoG [kg/m3]</th>\n",
       "      <th>\\muL [Pa.s]</th>\n",
       "      <th>\\sigma [N/m]</th>\n",
       "      <th>Liquid Type</th>\n",
       "      <th>Diameter [m]</th>\n",
       "      <th>Drift Velocity [m/s]</th>\n",
       "      <th>Reynolds Number Re</th>\n",
       "      <th>Buoyancy Reynolds R</th>\n",
       "      <th>Eotvos Number Eo</th>\n",
       "      <th>Viscosity Number Nmu</th>\n",
       "      <th>Froud Number Fr</th>\n",
       "    </tr>\n",
       "  </thead>\n",
       "  <tbody>\n",
       "    <tr>\n",
       "      <th>107</th>\n",
       "      <td>60.0</td>\n",
       "      <td>0.500000</td>\n",
       "      <td>0.866025</td>\n",
       "      <td>10.600000</td>\n",
       "      <td>895.000000</td>\n",
       "      <td>1.244631</td>\n",
       "      <td>1.28700</td>\n",
       "      <td>0.0295</td>\n",
       "      <td>Oil</td>\n",
       "      <td>0.0508</td>\n",
       "      <td>0.17400</td>\n",
       "      <td>0.008548</td>\n",
       "      <td>24.917141</td>\n",
       "      <td>766.734045</td>\n",
       "      <td>0.040161</td>\n",
       "      <td>0.246694</td>\n",
       "    </tr>\n",
       "    <tr>\n",
       "      <th>57</th>\n",
       "      <td>60.0</td>\n",
       "      <td>0.500000</td>\n",
       "      <td>0.866025</td>\n",
       "      <td>40.000000</td>\n",
       "      <td>876.000000</td>\n",
       "      <td>1.127723</td>\n",
       "      <td>0.18500</td>\n",
       "      <td>0.0295</td>\n",
       "      <td>Oil</td>\n",
       "      <td>0.0508</td>\n",
       "      <td>0.30400</td>\n",
       "      <td>0.094139</td>\n",
       "      <td>169.671367</td>\n",
       "      <td>750.534635</td>\n",
       "      <td>0.005898</td>\n",
       "      <td>0.430984</td>\n",
       "    </tr>\n",
       "    <tr>\n",
       "      <th>4</th>\n",
       "      <td>0.0</td>\n",
       "      <td>1.000000</td>\n",
       "      <td>0.000000</td>\n",
       "      <td>45.000000</td>\n",
       "      <td>873.000000</td>\n",
       "      <td>1.109992</td>\n",
       "      <td>0.12100</td>\n",
       "      <td>0.0295</td>\n",
       "      <td>Oil</td>\n",
       "      <td>0.0508</td>\n",
       "      <td>0.29500</td>\n",
       "      <td>0.137474</td>\n",
       "      <td>258.528549</td>\n",
       "      <td>747.976210</td>\n",
       "      <td>0.003871</td>\n",
       "      <td>0.418221</td>\n",
       "    </tr>\n",
       "    <tr>\n",
       "      <th>21</th>\n",
       "      <td>7.0</td>\n",
       "      <td>0.992546</td>\n",
       "      <td>0.121869</td>\n",
       "      <td>24.959836</td>\n",
       "      <td>990.895816</td>\n",
       "      <td>1.184648</td>\n",
       "      <td>0.00089</td>\n",
       "      <td>0.0728</td>\n",
       "      <td>Water</td>\n",
       "      <td>0.0381</td>\n",
       "      <td>0.28025</td>\n",
       "      <td>14.214062</td>\n",
       "      <td>25916.409127</td>\n",
       "      <td>193.529742</td>\n",
       "      <td>0.000039</td>\n",
       "      <td>0.458756</td>\n",
       "    </tr>\n",
       "    <tr>\n",
       "      <th>75</th>\n",
       "      <td>40.0</td>\n",
       "      <td>0.766044</td>\n",
       "      <td>0.642788</td>\n",
       "      <td>27.200000</td>\n",
       "      <td>884.000000</td>\n",
       "      <td>1.175808</td>\n",
       "      <td>0.41200</td>\n",
       "      <td>0.0295</td>\n",
       "      <td>Oil</td>\n",
       "      <td>0.0508</td>\n",
       "      <td>0.28100</td>\n",
       "      <td>0.040739</td>\n",
       "      <td>76.881515</td>\n",
       "      <td>757.356418</td>\n",
       "      <td>0.013016</td>\n",
       "      <td>0.398385</td>\n",
       "    </tr>\n",
       "  </tbody>\n",
       "</table>\n",
       "</div>"
      ],
      "text/plain": [
       "     Inclination [°]  Cos(Angle)  Sin(Angle)  Temperature [C]  \\rhoL [kg/m3]  \\\n",
       "107             60.0    0.500000    0.866025        10.600000     895.000000   \n",
       "57              60.0    0.500000    0.866025        40.000000     876.000000   \n",
       "4                0.0    1.000000    0.000000        45.000000     873.000000   \n",
       "21               7.0    0.992546    0.121869        24.959836     990.895816   \n",
       "75              40.0    0.766044    0.642788        27.200000     884.000000   \n",
       "\n",
       "     \\rhoG [kg/m3]  \\muL [Pa.s]  \\sigma [N/m] Liquid Type  Diameter [m]  \\\n",
       "107       1.244631      1.28700        0.0295         Oil        0.0508   \n",
       "57        1.127723      0.18500        0.0295         Oil        0.0508   \n",
       "4         1.109992      0.12100        0.0295         Oil        0.0508   \n",
       "21        1.184648      0.00089        0.0728       Water        0.0381   \n",
       "75        1.175808      0.41200        0.0295         Oil        0.0508   \n",
       "\n",
       "     Drift Velocity [m/s]  Reynolds Number Re  Buoyancy Reynolds R  \\\n",
       "107               0.17400            0.008548            24.917141   \n",
       "57                0.30400            0.094139           169.671367   \n",
       "4                 0.29500            0.137474           258.528549   \n",
       "21                0.28025           14.214062         25916.409127   \n",
       "75                0.28100            0.040739            76.881515   \n",
       "\n",
       "     Eotvos Number Eo  Viscosity Number Nmu  Froud Number Fr  \n",
       "107        766.734045              0.040161         0.246694  \n",
       "57         750.534635              0.005898         0.430984  \n",
       "4          747.976210              0.003871         0.418221  \n",
       "21         193.529742              0.000039         0.458756  \n",
       "75         757.356418              0.013016         0.398385  "
      ]
     },
     "execution_count": 2,
     "metadata": {},
     "output_type": "execute_result"
    }
   ],
   "source": [
    "Experimental_Data=pd.read_excel(r\"C:\\Users\\victo\\Train_Set_Drift_Velocity_Analysis.xlsx\")\n",
    "Experimental_Data=Experimental_Data.iloc[np.random.permutation(len(Experimental_Data))]\n",
    "Experimental_Data.head()                                                                  "
   ]
  },
  {
   "cell_type": "markdown",
   "metadata": {},
   "source": [
    "Now, we only will use the dimensionless group and the unit vectors:"
   ]
  },
  {
   "cell_type": "code",
   "execution_count": 3,
   "metadata": {},
   "outputs": [
    {
     "data": {
      "text/html": [
       "<div>\n",
       "<style scoped>\n",
       "    .dataframe tbody tr th:only-of-type {\n",
       "        vertical-align: middle;\n",
       "    }\n",
       "\n",
       "    .dataframe tbody tr th {\n",
       "        vertical-align: top;\n",
       "    }\n",
       "\n",
       "    .dataframe thead th {\n",
       "        text-align: right;\n",
       "    }\n",
       "</style>\n",
       "<table border=\"1\" class=\"dataframe\">\n",
       "  <thead>\n",
       "    <tr style=\"text-align: right;\">\n",
       "      <th></th>\n",
       "      <th>Cos(Angle)</th>\n",
       "      <th>Sin(Angle)</th>\n",
       "      <th>Buoyancy Reynolds R</th>\n",
       "      <th>Eotvos Number Eo</th>\n",
       "      <th>Froud Number Fr</th>\n",
       "    </tr>\n",
       "  </thead>\n",
       "  <tbody>\n",
       "    <tr>\n",
       "      <th>107</th>\n",
       "      <td>0.500000</td>\n",
       "      <td>0.866025</td>\n",
       "      <td>24.917141</td>\n",
       "      <td>766.734045</td>\n",
       "      <td>0.246694</td>\n",
       "    </tr>\n",
       "    <tr>\n",
       "      <th>57</th>\n",
       "      <td>0.500000</td>\n",
       "      <td>0.866025</td>\n",
       "      <td>169.671367</td>\n",
       "      <td>750.534635</td>\n",
       "      <td>0.430984</td>\n",
       "    </tr>\n",
       "    <tr>\n",
       "      <th>4</th>\n",
       "      <td>1.000000</td>\n",
       "      <td>0.000000</td>\n",
       "      <td>258.528549</td>\n",
       "      <td>747.976210</td>\n",
       "      <td>0.418221</td>\n",
       "    </tr>\n",
       "    <tr>\n",
       "      <th>21</th>\n",
       "      <td>0.992546</td>\n",
       "      <td>0.121869</td>\n",
       "      <td>25916.409127</td>\n",
       "      <td>193.529742</td>\n",
       "      <td>0.458756</td>\n",
       "    </tr>\n",
       "    <tr>\n",
       "      <th>75</th>\n",
       "      <td>0.766044</td>\n",
       "      <td>0.642788</td>\n",
       "      <td>76.881515</td>\n",
       "      <td>757.356418</td>\n",
       "      <td>0.398385</td>\n",
       "    </tr>\n",
       "  </tbody>\n",
       "</table>\n",
       "</div>"
      ],
      "text/plain": [
       "     Cos(Angle)  Sin(Angle)  Buoyancy Reynolds R  Eotvos Number Eo  \\\n",
       "107    0.500000    0.866025            24.917141        766.734045   \n",
       "57     0.500000    0.866025           169.671367        750.534635   \n",
       "4      1.000000    0.000000           258.528549        747.976210   \n",
       "21     0.992546    0.121869         25916.409127        193.529742   \n",
       "75     0.766044    0.642788            76.881515        757.356418   \n",
       "\n",
       "     Froud Number Fr  \n",
       "107         0.246694  \n",
       "57          0.430984  \n",
       "4           0.418221  \n",
       "21          0.458756  \n",
       "75          0.398385  "
      ]
     },
     "execution_count": 3,
     "metadata": {},
     "output_type": "execute_result"
    }
   ],
   "source": [
    "Experimental_Data=Experimental_Data.drop(Experimental_Data.columns[[0,3,4,5,6,7,8,9,10,11,14]], axis=1)\n",
    "Experimental_Data.head()"
   ]
  },
  {
   "cell_type": "markdown",
   "metadata": {},
   "source": [
    "### 2.2. Creating the Train and Test set\n",
    "The train set will be the experimental data gathered from other researchers. On the other hand, the Test set will be the experimental data obtained by the authors of this document in the Petroleum Engineering Labs in Texas Tech University."
   ]
  },
  {
   "cell_type": "code",
   "execution_count": 4,
   "metadata": {},
   "outputs": [],
   "source": [
    "Dimensionless_Labels=Experimental_Data['Froud Number Fr']\n",
    "Dimensionless_Attributes=Experimental_Data.drop('Froud Number Fr',axis=1)"
   ]
  },
  {
   "cell_type": "markdown",
   "metadata": {},
   "source": [
    "## 3. Machine Learning Model\n",
    "### 3.1. Preprocessing\n",
    "\"Many elements used in the objective function of a learning algorithm (such as the RBF kernel of Support Vector Machines or the l1 and l2 regularizers of linear models) assume that all features are centered around zero and have variance in the same order. If a feature has a variance that is orders of magnitude larger than others, it might dominate the objective function and make the estimator unable to learn from other features correctly as expected\". [1]"
   ]
  },
  {
   "cell_type": "code",
   "execution_count": 5,
   "metadata": {},
   "outputs": [],
   "source": [
    "from sklearn import preprocessing\n",
    "scaler=preprocessing.RobustScaler().fit(Dimensionless_Attributes)\n",
    "Dimensionless_Attributes_Scaled=scaler.transform(Dimensionless_Attributes)"
   ]
  },
  {
   "cell_type": "markdown",
   "metadata": {},
   "source": [
    "### 3.2. Support Vector Regressor"
   ]
  },
  {
   "cell_type": "code",
   "execution_count": 6,
   "metadata": {},
   "outputs": [
    {
     "data": {
      "text/plain": [
       "SVR(C=100, cache_size=200, coef0=0.0, degree=3, epsilon=0.1, gamma='auto',\n",
       "  kernel='rbf', max_iter=-1, shrinking=True, tol=0.001, verbose=False)"
      ]
     },
     "execution_count": 6,
     "metadata": {},
     "output_type": "execute_result"
    }
   ],
   "source": [
    "from sklearn.svm import SVR\n",
    "svr_rbf_reg = SVR(kernel=\"rbf\",C=100,epsilon=0.1)\n",
    "svr_rbf_reg"
   ]
  },
  {
   "cell_type": "markdown",
   "metadata": {},
   "source": [
    "### 3.2. Training the Model\n",
    "The problem of Drift Velocity has been addressed. The initial experiment data has been clean and modified in order to have features that are related with the Froud Number. Also, we have shuffled the instances. The training set is used in this stage to fit the model parameters. However, we will test it using the test set. In the following code, we perform the training procedure, we obtain a measurement of its perfomance (mean_squared_error) and the time required to be fitted and to predict."
   ]
  },
  {
   "cell_type": "code",
   "execution_count": 7,
   "metadata": {
    "scrolled": true
   },
   "outputs": [
    {
     "name": "stdout",
     "output_type": "stream",
     "text": [
      "SVR  mean_squared_error:  0.004121615522211961\n",
      "SVR  Time:  0.0020036697387695312\n"
     ]
    }
   ],
   "source": [
    "from sklearn.metrics import mean_squared_error\n",
    "start = time.time()\n",
    "svr_rbf_reg.fit(Dimensionless_Attributes_Scaled,Dimensionless_Labels)\n",
    "y_pred=svr_rbf_reg.predict(Dimensionless_Attributes_Scaled)\n",
    "print(svr_rbf_reg.__class__.__name__,' mean_squared_error: ',mean_squared_error(Dimensionless_Labels,y_pred))\n",
    "end = time.time()\n",
    "print(svr_rbf_reg.__class__.__name__,' Time: ',end - start)"
   ]
  },
  {
   "cell_type": "markdown",
   "metadata": {},
   "source": [
    "### 3.3. Tunnig the Model"
   ]
  },
  {
   "cell_type": "code",
   "execution_count": 8,
   "metadata": {},
   "outputs": [
    {
     "name": "stdout",
     "output_type": "stream",
     "text": [
      "0.3640930652618408\n",
      "0.06774810311797737 {'C': 0.02, 'epsilon': 0.005, 'kernel': 'rbf'}\n",
      "0.47727571966682153 {'C': 0.02, 'epsilon': 0.005, 'kernel': 'sigmoid'}\n",
      "0.06811481098957381 {'C': 0.02, 'epsilon': 0.01, 'kernel': 'rbf'}\n",
      "0.47767314330904087 {'C': 0.02, 'epsilon': 0.01, 'kernel': 'sigmoid'}\n",
      "0.07123425198962244 {'C': 0.02, 'epsilon': 0.05, 'kernel': 'rbf'}\n",
      "0.4860788045367607 {'C': 0.02, 'epsilon': 0.05, 'kernel': 'sigmoid'}\n",
      "0.07846118922962694 {'C': 0.02, 'epsilon': 0.1, 'kernel': 'rbf'}\n",
      "0.49390062740378876 {'C': 0.02, 'epsilon': 0.1, 'kernel': 'sigmoid'}\n",
      "0.057478440807435686 {'C': 0.05, 'epsilon': 0.005, 'kernel': 'rbf'}\n",
      "1.1566507117250502 {'C': 0.05, 'epsilon': 0.005, 'kernel': 'sigmoid'}\n",
      "0.057516095674169807 {'C': 0.05, 'epsilon': 0.01, 'kernel': 'rbf'}\n",
      "1.1564988508359149 {'C': 0.05, 'epsilon': 0.01, 'kernel': 'sigmoid'}\n",
      "0.05958129498553823 {'C': 0.05, 'epsilon': 0.05, 'kernel': 'rbf'}\n",
      "1.1644900341737174 {'C': 0.05, 'epsilon': 0.05, 'kernel': 'sigmoid'}\n",
      "0.07277588879000876 {'C': 0.05, 'epsilon': 0.1, 'kernel': 'rbf'}\n",
      "1.164679081300377 {'C': 0.05, 'epsilon': 0.1, 'kernel': 'sigmoid'}\n",
      "0.05466226161593361 {'C': 0.07, 'epsilon': 0.005, 'kernel': 'rbf'}\n",
      "1.6276141958510857 {'C': 0.07, 'epsilon': 0.005, 'kernel': 'sigmoid'}\n",
      "0.054617489091159946 {'C': 0.07, 'epsilon': 0.01, 'kernel': 'rbf'}\n",
      "1.6282569664068558 {'C': 0.07, 'epsilon': 0.01, 'kernel': 'sigmoid'}\n",
      "0.05737834477632494 {'C': 0.07, 'epsilon': 0.05, 'kernel': 'rbf'}\n",
      "1.6267360268436932 {'C': 0.07, 'epsilon': 0.05, 'kernel': 'sigmoid'}\n",
      "0.07114745485336016 {'C': 0.07, 'epsilon': 0.1, 'kernel': 'rbf'}\n",
      "1.627888886733258 {'C': 0.07, 'epsilon': 0.1, 'kernel': 'sigmoid'}\n",
      "0.05245867889651046 {'C': 0.1, 'epsilon': 0.005, 'kernel': 'rbf'}\n",
      "2.3289160470192343 {'C': 0.1, 'epsilon': 0.005, 'kernel': 'sigmoid'}\n",
      "0.05188563372505632 {'C': 0.1, 'epsilon': 0.01, 'kernel': 'rbf'}\n",
      "2.3288030401986703 {'C': 0.1, 'epsilon': 0.01, 'kernel': 'sigmoid'}\n",
      "0.05604247961732472 {'C': 0.1, 'epsilon': 0.05, 'kernel': 'rbf'}\n",
      "2.3320437720862293 {'C': 0.1, 'epsilon': 0.05, 'kernel': 'sigmoid'}\n",
      "0.06990910243682874 {'C': 0.1, 'epsilon': 0.1, 'kernel': 'rbf'}\n",
      "2.3396226449984567 {'C': 0.1, 'epsilon': 0.1, 'kernel': 'sigmoid'}\n",
      "0.051448403091429215 {'C': 0.12, 'epsilon': 0.005, 'kernel': 'rbf'}\n",
      "2.7977723948860165 {'C': 0.12, 'epsilon': 0.005, 'kernel': 'sigmoid'}\n",
      "0.050676499605446526 {'C': 0.12, 'epsilon': 0.01, 'kernel': 'rbf'}\n",
      "2.7974503942127282 {'C': 0.12, 'epsilon': 0.01, 'kernel': 'sigmoid'}\n",
      "0.054466106393959254 {'C': 0.12, 'epsilon': 0.05, 'kernel': 'rbf'}\n",
      "2.8016191689109573 {'C': 0.12, 'epsilon': 0.05, 'kernel': 'sigmoid'}\n",
      "0.06875176182964969 {'C': 0.12, 'epsilon': 0.1, 'kernel': 'rbf'}\n",
      "2.809169838946066 {'C': 0.12, 'epsilon': 0.1, 'kernel': 'sigmoid'}\n"
     ]
    }
   ],
   "source": [
    "from sklearn.model_selection import GridSearchCV\n",
    "param_grid=[{'kernel':['rbf','sigmoid'],'C':[0.02,0.05,0.07,0.1,0.12],\n",
    "            'epsilon':[0.005,0.01,0.05,0.1]}]\n",
    "svr_reg=SVR()\n",
    "grid_search=GridSearchCV(svr_reg,param_grid,cv=5,scoring='neg_mean_squared_error')\n",
    "start = time.time()\n",
    "grid_search.fit(Dimensionless_Attributes_Scaled,Dimensionless_Labels)\n",
    "end = time.time()\n",
    "print(end - start)\n",
    "cvres=grid_search.cv_results_\n",
    "for mean_score,params in zip(cvres[\"mean_test_score\"],cvres[\"params\"]):\n",
    "    print(np.sqrt(-mean_score),params)"
   ]
  },
  {
   "cell_type": "code",
   "execution_count": 9,
   "metadata": {},
   "outputs": [
    {
     "data": {
      "text/plain": [
       "SVR(C=0.12, cache_size=200, coef0=0.0, degree=3, epsilon=0.01, gamma='auto',\n",
       "  kernel='rbf', max_iter=-1, shrinking=True, tol=0.001, verbose=False)"
      ]
     },
     "execution_count": 9,
     "metadata": {},
     "output_type": "execute_result"
    }
   ],
   "source": [
    "grid_search.best_estimator_"
   ]
  },
  {
   "cell_type": "markdown",
   "metadata": {},
   "source": [
    "### 3.3.1. Support Vectors, Dual Coefficient & Intercept"
   ]
  },
  {
   "cell_type": "code",
   "execution_count": 10,
   "metadata": {},
   "outputs": [
    {
     "data": {
      "text/plain": [
       "array([[-5.59522533e-01,  4.29336740e-01, -3.01315936e-01,\n",
       "         1.15623622e-01],\n",
       "       [-5.59522533e-01,  4.29336740e-01,  9.71387199e-02,\n",
       "        -8.41428530e-02],\n",
       "       [ 2.04799461e-01, -5.86484893e-01,  3.41729561e-01,\n",
       "        -1.15692626e-01],\n",
       "       [ 1.93405181e-01, -4.43535836e-01,  7.09683516e+01,\n",
       "        -6.95296736e+00],\n",
       "       [-1.52835294e-01,  1.67485552e-01, -1.58277301e-01,\n",
       "        -1.85903481e-05],\n",
       "       [ 1.12610948e-01, -1.85305599e-01, -2.34267619e-01,\n",
       "         3.15209206e-02],\n",
       "       [ 0.00000000e+00,  0.00000000e+00, -1.58277301e-01,\n",
       "        -1.85903481e-05],\n",
       "       [-3.41251112e-01,  3.12062094e-01,  9.71387199e-02,\n",
       "        -8.41428530e-02],\n",
       "       [-8.01017491e-01,  5.15746160e-01,  2.54544049e+00,\n",
       "         7.39591530e+01],\n",
       "       [-1.05839828e+00,  5.68664847e-01,  9.82677621e+01,\n",
       "        -5.05779749e+00],\n",
       "       [-3.41251112e-01,  3.12062094e-01, -7.63397717e-02,\n",
       "        -3.15521622e-02],\n",
       "       [ 0.00000000e+00,  0.00000000e+00, -2.75815060e-01,\n",
       "         7.35576454e-02],\n",
       "       [-5.59522533e-01,  4.29336740e-01, -1.58277301e-01,\n",
       "        -1.85903481e-05],\n",
       "       [-1.32384453e+00,  5.86484893e-01,  9.82677621e+01,\n",
       "        -5.05779749e+00],\n",
       "       [-3.41251112e-01,  3.12062094e-01, -2.75815060e-01,\n",
       "         7.35576454e-02],\n",
       "       [-3.41251112e-01,  3.12062094e-01,  9.82677621e+01,\n",
       "        -5.05779749e+00],\n",
       "       [-8.01017491e-01,  5.15746160e-01,  1.39384360e+00,\n",
       "         7.44322712e+01],\n",
       "       [ 1.98982509e-01, -4.84253840e-01,  1.08911320e+00,\n",
       "         2.87995781e+01],\n",
       "       [-8.01017491e-01,  5.15746160e-01, -2.75815060e-01,\n",
       "         7.35576454e-02],\n",
       "       [-3.41251112e-01,  3.12062094e-01,  1.39384360e+00,\n",
       "         7.44322712e+01],\n",
       "       [-1.32384453e+00,  5.86484893e-01, -3.01315936e-01,\n",
       "         1.15623622e-01],\n",
       "       [-1.05839828e+00,  5.68664847e-01, -2.75815060e-01,\n",
       "         7.35576454e-02],\n",
       "       [ 2.04799461e-01, -5.86484893e-01,  7.09683516e+01,\n",
       "        -6.95296736e+00],\n",
       "       [ 1.81575924e-01, -3.82800827e-01, -3.01315936e-01,\n",
       "         1.15623622e-01],\n",
       "       [ 2.04566641e-01, -5.66013748e-01, -1.67410507e-01,\n",
       "        -4.45788845e+00],\n",
       "       [-1.32384453e+00,  5.86484893e-01, -7.63397717e-02,\n",
       "        -3.15521622e-02],\n",
       "       [-1.27049562e+00,  5.85770352e-01, -7.63397717e-02,\n",
       "        -3.15521622e-02],\n",
       "       [-8.01017491e-01,  5.15746160e-01, -3.01315936e-01,\n",
       "         1.15623622e-01],\n",
       "       [ 2.04566641e-01, -5.66013748e-01, -1.43931114e-01,\n",
       "         2.13747841e+01],\n",
       "       [ 1.91721700e-01, -4.33381614e-01, -1.43931114e-01,\n",
       "         2.13747841e+01],\n",
       "       [ 2.04566641e-01, -5.66013748e-01,  7.09683516e+01,\n",
       "        -6.95296736e+00],\n",
       "       [-1.32384453e+00,  5.86484893e-01,  4.54266331e-01,\n",
       "        -1.57827325e-01],\n",
       "       [ 2.04799461e-01, -5.86484893e-01, -7.79801924e-02,\n",
       "        -2.10618800e-02],\n",
       "       [ 1.98982509e-01, -4.84253840e-01, -1.43931114e-01,\n",
       "         2.13747841e+01],\n",
       "       [ 0.00000000e+00,  0.00000000e+00,  9.71387199e-02,\n",
       "        -8.41428530e-02],\n",
       "       [-1.05839828e+00,  5.68664847e-01, -7.63397717e-02,\n",
       "        -3.15521622e-02],\n",
       "       [ 0.00000000e+00,  0.00000000e+00,  9.82677621e+01,\n",
       "        -5.05779749e+00],\n",
       "       [ 1.98982509e-01, -4.84253840e-01, -2.71181335e-01,\n",
       "         8.42172675e-01],\n",
       "       [ 0.00000000e+00,  0.00000000e+00,  1.39384360e+00,\n",
       "         7.44322712e+01],\n",
       "       [ 1.81575924e-01, -3.82800827e-01, -1.58277301e-01,\n",
       "        -1.85903481e-05],\n",
       "       [-5.59522533e-01,  4.29336740e-01, -7.63397717e-02,\n",
       "        -3.15521622e-02],\n",
       "       [-1.32384453e+00,  5.86484893e-01, -2.75815060e-01,\n",
       "         7.35576454e-02],\n",
       "       [-3.41251112e-01,  3.12062094e-01, -1.58277301e-01,\n",
       "        -1.85903481e-05],\n",
       "       [ 1.81575924e-01, -3.82800827e-01, -2.75815060e-01,\n",
       "         7.35576454e-02],\n",
       "       [ 2.04799461e-01, -5.86484893e-01, -2.43195599e-01,\n",
       "         5.25364422e-02],\n",
       "       [ 1.81575924e-01, -3.82800827e-01,  1.39384360e+00,\n",
       "         7.44322712e+01],\n",
       "       [ 1.98982509e-01, -4.84253840e-01,  2.67507751e-01,\n",
       "         3.30346803e+00],\n",
       "       [ 0.00000000e+00,  0.00000000e+00, -2.34267619e-01,\n",
       "         3.15209206e-02],\n",
       "       [-1.52835294e-01,  1.67485552e-01, -2.34267619e-01,\n",
       "         3.15209206e-02],\n",
       "       [ 1.81575924e-01, -3.82800827e-01, -7.63397717e-02,\n",
       "        -3.15521622e-02],\n",
       "       [-1.32384453e+00,  5.86484893e-01, -1.58277301e-01,\n",
       "        -1.85903481e-05],\n",
       "       [ 1.93405181e-01, -4.43535836e-01,  2.97070170e-04,\n",
       "        -4.52279007e+00],\n",
       "       [-1.27049562e+00,  5.85770352e-01,  9.71387199e-02,\n",
       "        -8.41428530e-02],\n",
       "       [ 2.04566641e-01, -5.66013748e-01,  2.67507751e-01,\n",
       "         3.30346803e+00],\n",
       "       [-1.52835294e-01,  1.67485552e-01, -2.75815060e-01,\n",
       "         7.35576454e-02],\n",
       "       [ 2.04799461e-01, -5.86484893e-01,  1.53749259e-01,\n",
       "        -8.41657665e-02],\n",
       "       [ 1.81575924e-01, -3.82800827e-01,  4.21163338e-01,\n",
       "         7.49042162e+01],\n",
       "       [ 1.91721700e-01, -4.33381614e-01,  2.67507751e-01,\n",
       "         3.30346803e+00],\n",
       "       [ 1.98982509e-01, -4.84253840e-01,  7.09683516e+01,\n",
       "        -6.95296736e+00],\n",
       "       [ 0.00000000e+00,  0.00000000e+00,  4.21163338e-01,\n",
       "         7.49042162e+01],\n",
       "       [-1.52835294e-01,  1.67485552e-01,  9.71387199e-02,\n",
       "        -8.41428530e-02],\n",
       "       [-1.32384453e+00,  5.86484893e-01,  2.54544049e+00,\n",
       "         7.39591530e+01],\n",
       "       [ 2.04799461e-01, -5.86484893e-01,  6.24098480e-02,\n",
       "        -3.15281559e-02],\n",
       "       [-1.27049562e+00,  5.85770352e-01, -1.58277301e-01,\n",
       "        -1.85903481e-05],\n",
       "       [-1.32384453e+00,  5.86484893e-01,  4.21163338e-01,\n",
       "         7.49042162e+01],\n",
       "       [-3.41251112e-01,  3.12062094e-01,  2.54544049e+00,\n",
       "         7.39591530e+01],\n",
       "       [-1.27049562e+00,  5.85770352e-01, -2.75815060e-01,\n",
       "         7.35576454e-02],\n",
       "       [-8.01017491e-01,  5.15746160e-01, -7.63397717e-02,\n",
       "        -3.15521622e-02],\n",
       "       [-1.05839828e+00,  5.68664847e-01,  9.71387199e-02,\n",
       "        -8.41428530e-02],\n",
       "       [-5.59522533e-01,  4.29336740e-01, -2.75815060e-01,\n",
       "         7.35576454e-02],\n",
       "       [-8.01017491e-01,  5.15746160e-01,  4.21163338e-01,\n",
       "         7.49042162e+01],\n",
       "       [ 2.02704508e-01, -5.25096398e-01, -2.07612568e-03,\n",
       "        -4.52279007e+00],\n",
       "       [ 1.12610948e-01, -1.85305599e-01, -3.01315936e-01,\n",
       "         1.15623622e-01],\n",
       "       [-3.41251112e-01,  3.12062094e-01,  8.28647194e-01,\n",
       "         7.47158220e+01],\n",
       "       [ 1.12610948e-01, -1.85305599e-01, -1.58277301e-01,\n",
       "        -1.85903481e-05],\n",
       "       [ 2.03344531e-01, -5.35320670e-01, -2.71181335e-01,\n",
       "         8.42172675e-01],\n",
       "       [-1.32384453e+00,  5.86484893e-01,  9.71387199e-02,\n",
       "        -8.41428530e-02],\n",
       "       [ 2.04566641e-01, -5.66013748e-01,  1.08911320e+00,\n",
       "         2.87995781e+01],\n",
       "       [-5.59522533e-01,  4.29336740e-01,  4.54266331e-01,\n",
       "        -1.57827325e-01],\n",
       "       [ 2.02704508e-01, -5.25096398e-01, -1.67410507e-01,\n",
       "        -4.45788845e+00],\n",
       "       [ 2.04799461e-01, -5.86484893e-01,  9.82677621e+01,\n",
       "        -5.05779749e+00],\n",
       "       [ 2.04799461e-01, -5.86484893e-01, -1.83179700e-01,\n",
       "         2.10013895e-02],\n",
       "       [ 1.12610948e-01, -1.85305599e-01, -7.63397717e-02,\n",
       "        -3.15521622e-02],\n",
       "       [ 2.03344531e-01, -5.35320670e-01, -1.43931114e-01,\n",
       "         2.13747841e+01],\n",
       "       [ 2.04799461e-01, -5.86484893e-01,  4.21163338e-01,\n",
       "         7.49042162e+01],\n",
       "       [ 1.12610948e-01, -1.85305599e-01, -2.75815060e-01,\n",
       "         7.35576454e-02],\n",
       "       [-8.01017491e-01,  5.15746160e-01,  4.54266331e-01,\n",
       "        -1.57827325e-01],\n",
       "       [-1.32384453e+00,  5.86484893e-01,  8.28647194e-01,\n",
       "         7.47158220e+01],\n",
       "       [ 0.00000000e+00,  0.00000000e+00, -3.01315936e-01,\n",
       "         1.15623622e-01],\n",
       "       [-3.41251112e-01,  3.12062094e-01, -3.01315936e-01,\n",
       "         1.15623622e-01],\n",
       "       [ 1.81575924e-01, -3.82800827e-01, -1.67410507e-01,\n",
       "        -4.45788845e+00],\n",
       "       [ 1.81575924e-01, -3.82800827e-01,  9.71387199e-02,\n",
       "        -8.41428530e-02],\n",
       "       [ 2.04799461e-01, -5.86484893e-01, -1.67410507e-01,\n",
       "        -4.45788845e+00],\n",
       "       [-1.52835294e-01,  1.67485552e-01, -7.63397717e-02,\n",
       "        -3.15521622e-02],\n",
       "       [ 2.04566641e-01, -5.66013748e-01, -2.71181335e-01,\n",
       "         8.42172675e-01],\n",
       "       [ 0.00000000e+00,  0.00000000e+00, -7.63397717e-02,\n",
       "        -3.15521622e-02],\n",
       "       [ 2.04799461e-01, -5.86484893e-01,  6.09397870e-02,\n",
       "        -6.31351435e-02],\n",
       "       [ 1.12610948e-01, -1.85305599e-01,  9.71387199e-02,\n",
       "        -8.41428530e-02],\n",
       "       [ 0.00000000e+00,  0.00000000e+00,  2.54544049e+00,\n",
       "         7.39591530e+01],\n",
       "       [-5.59522533e-01,  4.29336740e-01,  9.82677621e+01,\n",
       "        -5.05779749e+00],\n",
       "       [ 1.98982509e-01, -4.84253840e-01, -1.67410507e-01,\n",
       "        -4.45788845e+00],\n",
       "       [-1.52835294e-01,  1.67485552e-01, -3.01315936e-01,\n",
       "         1.15623622e-01],\n",
       "       [ 2.04799461e-01, -5.86484893e-01,  1.39384360e+00,\n",
       "         7.44322712e+01],\n",
       "       [ 1.91721700e-01, -4.33381614e-01,  1.08911320e+00,\n",
       "         2.87995781e+01],\n",
       "       [ 1.81575924e-01, -3.82800827e-01,  8.28647194e-01,\n",
       "         7.47158220e+01],\n",
       "       [ 1.91721700e-01, -4.33381614e-01, -2.71181335e-01,\n",
       "         8.42172675e-01],\n",
       "       [ 2.04799461e-01, -5.86484893e-01, -1.14961473e-01,\n",
       "         1.85903481e-05],\n",
       "       [-1.27049562e+00,  5.85770352e-01,  4.54266331e-01,\n",
       "        -1.57827325e-01],\n",
       "       [ 1.98982509e-01, -4.84253840e-01, -6.92851915e-04,\n",
       "        -4.52279007e+00],\n",
       "       [-8.01017491e-01,  5.15746160e-01,  9.71387199e-02,\n",
       "        -8.41428530e-02],\n",
       "       [ 1.81575924e-01, -3.82800827e-01, -3.96038985e-04,\n",
       "        -4.52279007e+00],\n",
       "       [-1.05839828e+00,  5.68664847e-01,  4.54266331e-01,\n",
       "        -1.57827325e-01],\n",
       "       [ 2.04799461e-01, -5.86484893e-01,  2.54544049e+00,\n",
       "         7.39591530e+01],\n",
       "       [ 1.81575924e-01, -3.82800827e-01,  4.54266331e-01,\n",
       "        -1.57827325e-01],\n",
       "       [ 2.04799461e-01, -5.86484893e-01,  2.41485216e-01,\n",
       "        -1.05217821e-01],\n",
       "       [-1.05839828e+00,  5.68664847e-01, -3.01315936e-01,\n",
       "         1.15623622e-01],\n",
       "       [ 1.81575924e-01, -3.82800827e-01,  2.54544049e+00,\n",
       "         7.39591530e+01],\n",
       "       [-8.01017491e-01,  5.15746160e-01, -2.34267619e-01,\n",
       "         3.15209206e-02],\n",
       "       [ 1.81575924e-01, -3.82800827e-01,  7.09683516e+01,\n",
       "        -6.95296736e+00],\n",
       "       [-1.27049562e+00,  5.85770352e-01, -3.01315936e-01,\n",
       "         1.15623622e-01],\n",
       "       [ 2.04799461e-01, -5.86484893e-01, -2.22207811e-01,\n",
       "         4.20355657e-02],\n",
       "       [-1.52835294e-01,  1.67485552e-01,  9.82677621e+01,\n",
       "        -5.05779749e+00],\n",
       "       [ 2.04799461e-01, -5.86484893e-01, -2.97070170e-04,\n",
       "        -4.52279007e+00]])"
      ]
     },
     "execution_count": 10,
     "metadata": {},
     "output_type": "execute_result"
    }
   ],
   "source": [
    "svr=grid_search.best_estimator_\n",
    "svr.fit(Dimensionless_Attributes_Scaled,Dimensionless_Labels)\n",
    "svr.support_vectors_"
   ]
  },
  {
   "cell_type": "code",
   "execution_count": 11,
   "metadata": {},
   "outputs": [
    {
     "data": {
      "text/plain": [
       "array([[-0.12      ,  0.12      ,  0.12      ,  0.12      ,  0.12      ,\n",
       "         0.00248681,  0.12      ,  0.12      ,  0.05749369, -0.12      ,\n",
       "         0.12      , -0.12      ,  0.12      , -0.12      , -0.12      ,\n",
       "         0.12      , -0.06964606,  0.0650825 , -0.12      ,  0.12      ,\n",
       "        -0.12      , -0.12      , -0.12      , -0.12      , -0.12      ,\n",
       "         0.12      ,  0.12      , -0.12      , -0.12      ,  0.12      ,\n",
       "        -0.12      , -0.12      , -0.12      ,  0.06833224,  0.12      ,\n",
       "         0.12      ,  0.12      ,  0.12      ,  0.12      ,  0.12      ,\n",
       "         0.12      , -0.12      ,  0.12      , -0.12      , -0.12      ,\n",
       "        -0.12      ,  0.0637206 ,  0.12      ,  0.12      ,  0.12      ,\n",
       "         0.00429461,  0.12      ,  0.01259879, -0.12      , -0.12      ,\n",
       "        -0.11634076, -0.12      ,  0.12      ,  0.08480719,  0.10032552,\n",
       "         0.12      , -0.12      , -0.12      ,  0.12      , -0.12      ,\n",
       "         0.12      , -0.12      ,  0.12      ,  0.12      , -0.12      ,\n",
       "         0.12      ,  0.12      , -0.12      ,  0.12      ,  0.12      ,\n",
       "        -0.11251791,  0.12      , -0.12      , -0.12      , -0.12      ,\n",
       "        -0.12      , -0.12      ,  0.12      , -0.12      , -0.12      ,\n",
       "        -0.12      , -0.12      , -0.12      , -0.12      , -0.12      ,\n",
       "         0.07744884,  0.12      , -0.12      ,  0.12      , -0.12      ,\n",
       "         0.12      , -0.12      ,  0.12      ,  0.12      ,  0.10936857,\n",
       "        -0.12      , -0.12      , -0.09933331,  0.12      ,  0.12      ,\n",
       "         0.12      , -0.12      , -0.12      ,  0.12      ,  0.12      ,\n",
       "         0.12      , -0.11051951, -0.00421361,  0.04127323,  0.12      ,\n",
       "        -0.12      , -0.12      ,  0.06533858,  0.12      , -0.12      ,\n",
       "        -0.12      ,  0.12      , -0.12      ]])"
      ]
     },
     "execution_count": 11,
     "metadata": {},
     "output_type": "execute_result"
    }
   ],
   "source": [
    "svr.dual_coef_ "
   ]
  },
  {
   "cell_type": "code",
   "execution_count": 12,
   "metadata": {},
   "outputs": [
    {
     "data": {
      "text/plain": [
       "array([0.36219587])"
      ]
     },
     "execution_count": 12,
     "metadata": {},
     "output_type": "execute_result"
    }
   ],
   "source": [
    "svr.intercept_"
   ]
  },
  {
   "cell_type": "markdown",
   "metadata": {},
   "source": [
    "### 3.3.2. Pipeline\n",
    "\"Transformers are usually combined with classifiers, regressors or other estimators to build a composite estimator. The most common tool is a Pipeline. Pipeline is often used in combination with FeatureUnion which concatenates the output of transformers into a composite feature space.\" [2]\n",
    "In our application, we are going to form a regressor which first scales the experimental results and then performs the prediction."
   ]
  },
  {
   "cell_type": "code",
   "execution_count": 13,
   "metadata": {},
   "outputs": [],
   "source": [
    "from sklearn.pipeline import make_pipeline\n",
    "svr=make_pipeline(scaler,svr)"
   ]
  },
  {
   "cell_type": "markdown",
   "metadata": {},
   "source": [
    "### 3.4. Saving the Model"
   ]
  },
  {
   "cell_type": "code",
   "execution_count": 14,
   "metadata": {},
   "outputs": [
    {
     "data": {
      "text/plain": [
       "['drift_velocity_regressor.joblib']"
      ]
     },
     "execution_count": 14,
     "metadata": {},
     "output_type": "execute_result"
    }
   ],
   "source": [
    "from sklearn.externals import joblib\n",
    "joblib.dump(svr,'drift_velocity_regressor.joblib') "
   ]
  },
  {
   "cell_type": "markdown",
   "metadata": {},
   "source": [
    "### 3.5. Model Evaluation\n",
    "For evaluation purpose, we are going to use the experimental data gather by Dr. Eghorieta, who got drift velocity of Taylor bubble in high viscosity oil for inclination angles from 0° to 10°. Also, we are going to present the prediction performance of Livinus et. al. model [3]\n",
    "\n",
    "First, we check the performance using the Train Set."
   ]
  },
  {
   "cell_type": "code",
   "execution_count": 15,
   "metadata": {},
   "outputs": [
    {
     "data": {
      "text/plain": [
       "Text(0.5,1,'Performance with Train Set')"
      ]
     },
     "execution_count": 15,
     "metadata": {},
     "output_type": "execute_result"
    },
    {
     "data": {
      "image/png": "[encoded data removed]",
      "text/plain": [
       "<Figure size 432x288 with 1 Axes>"
      ]
     },
     "metadata": {},
     "output_type": "display_data"
    }
   ],
   "source": [
    "Fr_l=np.power(10,-(0.0000007928*np.power(-np.log10(np.asarray(Dimensionless_Attributes['Buoyancy Reynolds R']/Dimensionless_Attributes['Eotvos Number Eo'])),7.443)+0.3276))\n",
    "Fr_Livinus=Fr_l*np.asarray(Dimensionless_Attributes['Cos(Angle)']+Dimensionless_Attributes['Sin(Angle)'])\n",
    "\n",
    "Fr_svr=svr.predict(Dimensionless_Attributes)\n",
    "\n",
    "plt.scatter(Dimensionless_Labels,Fr_Livinus,c='c')\n",
    "plt.scatter(Dimensionless_Labels,Fr_svr,c='b')\n",
    "plt.scatter(Dimensionless_Labels,Dimensionless_Labels,c='r')\n",
    "plt.xlabel(\"Froud Number Experiments\")\n",
    "plt.ylabel(\"Froud Number\")\n",
    "plt.legend((\"Predicted by Livinus\",\"Predicted by SVR\",\"Target\"),loc='bottom right')\n",
    "plt.title(\"Performance with Train Set\")"
   ]
  },
  {
   "cell_type": "markdown",
   "metadata": {},
   "source": [
    "Now, we evaluate the performance using the Test Set."
   ]
  },
  {
   "cell_type": "code",
   "execution_count": 16,
   "metadata": {},
   "outputs": [
    {
     "data": {
      "text/plain": [
       "Text(0.5,1,'Performance with Test Set')"
      ]
     },
     "execution_count": 16,
     "metadata": {},
     "output_type": "execute_result"
    },
    {
     "data": {
      "image/png": "[encoded data removed]",
      "text/plain": [
       "<Figure size 432x288 with 1 Axes>"
      ]
     },
     "metadata": {},
     "output_type": "display_data"
    }
   ],
   "source": [
    "Test_Set=pd.read_excel(r\"C:\\Users\\victo\\Test_Set_Drift_Velocity_Analysis.xlsx\") #Read an Excel table into a pandas DataFrame\n",
    "D=np.asarray(Test_Set['Diameter [m]'])\n",
    "rho_L=np.asarray(Test_Set['rhoL [kg/m3]'])\n",
    "rho_G=np.asarray(Test_Set['rhoG [kg/m3]'])\n",
    "cos_a=np.asarray(Test_Set['Cos(Angle)'])\n",
    "sin_a=np.asarray(Test_Set['Sin(Angle)'])\n",
    "Fr_real=np.asarray(Test_Set['Froud Number Fr'])\n",
    "V_d_real=np.asarray(Test_Set['Drift Velocity [m/s]'])\n",
    "Test_Set=Test_Set.drop(Test_Set.columns[[0,3,4,5,6,7,8,9,10,11,14,15]], axis=1)\n",
    "\n",
    "Fr_l=np.power(10,-(0.0000007928*np.power(-np.log10(np.asarray(Test_Set['Buoyancy Reynolds R']/Test_Set['Eotvos Number Eo'])),7.443)+0.3276))\n",
    "Fr_Livinus=Fr_l*np.asarray(Test_Set['Cos(Angle)']+Test_Set['Sin(Angle)'])\n",
    "Fr_Livinus=np.nan_to_num(Fr_Livinus)\n",
    "\n",
    "\n",
    "Fr_svr_Test=svr.predict(Test_Set)\n",
    "\n",
    "\n",
    "plt.scatter(Fr_real,Fr_Livinus,c='c')\n",
    "plt.scatter(Fr_real,Fr_svr_Test,c='b')\n",
    "plt.scatter(Fr_real,Fr_real,c='r')\n",
    "plt.xlabel(\"Froud Number Experiments\")\n",
    "plt.ylabel(\"Froud Number\")\n",
    "plt.legend((\"Predicted by Livinus\",\"Predicted by SVR\",\"Target\"),loc='bottom right')\n",
    "plt.title(\"Performance with Test Set\")"
   ]
  },
  {
   "cell_type": "markdown",
   "metadata": {},
   "source": [
    "For Livinus et.al. model, the drift velocity can therefore be calculated from the following equation, using the predicted Froud Number:\n",
    "v_d=Fr[gD(1-rho_g/rho_l)]^0.5\n",
    "\n",
    "However, for the model proposed, we used 0.8 as exponent and multiply for (Cos(Theta)+Sin(Theta))."
   ]
  },
  {
   "cell_type": "code",
   "execution_count": 17,
   "metadata": {},
   "outputs": [
    {
     "data": {
      "text/plain": [
       "Text(0.5,1,'Drift Velocity Prediction')"
      ]
     },
     "execution_count": 17,
     "metadata": {},
     "output_type": "execute_result"
    },
    {
     "data": {
      "image/png": "[encoded data removed]",
      "text/plain": [
       "<Figure size 432x288 with 1 Axes>"
      ]
     },
     "metadata": {},
     "output_type": "display_data"
    }
   ],
   "source": [
    "V_d_Livinus=Fr_Livinus*np.power(9.80665*D*(1-rho_G/rho_L),0.5)\n",
    "V_d_svr=Fr_svr_Test*(cos_a+sin_a)*np.power(9.80665*D*(1-rho_G/rho_L),0.8)\n",
    "\n",
    "plt.scatter(V_d_real,V_d_Livinus,c='c')\n",
    "plt.scatter(V_d_real,V_d_svr,c='b')\n",
    "plt.scatter(V_d_real,V_d_real,c='r')\n",
    "plt.xlabel(\"Drift Velocity Experiments [m/s]\")\n",
    "plt.ylabel(\"Drift Velocity\")\n",
    "plt.legend((\"Predicted by Livinus\",\"Predicted by SVR\",\"Target\"),loc='bottom right')\n",
    "plt.title(\"Drift Velocity Prediction\")"
   ]
  },
  {
   "cell_type": "markdown",
   "metadata": {},
   "source": [
    "According the Froud Number prediction from the Suppor Vector Machine Regressor, we can see that a simplified model, using a constant Froud number can perform a good drift velocity prediction."
   ]
  },
  {
   "cell_type": "code",
   "execution_count": 18,
   "metadata": {},
   "outputs": [
    {
     "data": {
      "text/plain": [
       "Text(0.5,1,'Drift Velocity Prediction')"
      ]
     },
     "execution_count": 18,
     "metadata": {},
     "output_type": "execute_result"
    },
    {
     "data": {
      "image/png": "[encoded data removed]",
      "text/plain": [
       "<Figure size 432x288 with 1 Axes>"
      ]
     },
     "metadata": {},
     "output_type": "display_data"
    }
   ],
   "source": [
    "V_d_simplified=0.36219587*(cos_a+sin_a)*np.power(9.80665*D*(1-rho_G/rho_L),0.8)\n",
    "plt.scatter(V_d_real,V_d_simplified,c='y')\n",
    "plt.scatter(V_d_real,V_d_real,c='r')\n",
    "plt.xlabel(\"Drift Velocity Experiments [m/s]\")\n",
    "plt.ylabel(\"Drift Velocity\")\n",
    "plt.legend((\"Simplified Model\",\"Target\"),loc='bottom right')\n",
    "plt.title(\"Drift Velocity Prediction\")"
   ]
  },
  {
   "cell_type": "markdown",
   "metadata": {},
   "source": [
    "## 4. References\n",
    "[1] http://scikit-learn.org/stable/modules/preprocessing.html\n",
    "\n",
    "[2] http://scikit-learn.org/stable/modules/compose.html#combining-estimators\n",
    "\n",
    "[3] Livinus, Aniefiok, Patrick Verdin, Liyun Lao, Jan Nossen, Morten Langsholt, and Hans-Gunnar Sleipnaes. \"Simplified generalised drift velocity correlation for elongated bubbles in liquid in pipes.\" Journal of Petroleum Science and Engineering. Vol. 160, 2018: 106-118.\n"
   ]
  }
 ],
 "metadata": {
  "kernelspec": {
   "display_name": "Python 3",
   "language": "python",
   "name": "python3"
  },
  "language_info": {
   "codemirror_mode": {
    "name": "ipython",
    "version": 3
   },
   "file_extension": ".py",
   "mimetype": "text/x-python",
   "name": "python",
   "nbconvert_exporter": "python",
   "pygments_lexer": "ipython3",
   "version": "3.6.5"
  }
 },
 "nbformat": 4,
 "nbformat_minor": 2
}
