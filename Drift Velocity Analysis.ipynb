{
 "cells": [
  {
   "cell_type": "markdown",
   "metadata": {},
   "source": [
    "Victor Pugliese Github link:https://github.com/VictorPuglieseManotas e-mail: victor.pugliese@ttu.edu\n",
    "\n",
    "Acknowledge: The following work has been performed under the supervision of Dr. Ekarit Panacharoensawad, Assistant Professor, Department of Petroleum Engineering, Texas Tech University. Github link: https://github.com/epmmko e-mail: ekarit.panacharoensawad@ttu.edu\n",
    "\n",
    "The following work has been performed with the collaboration of Dr. Raymond Eghorieta. e-mail: raymond.eghorieta@ttu.edu"
   ]
  },
  {
   "cell_type": "markdown",
   "metadata": {},
   "source": [
    "# Drift Velocity Analysis"
   ]
  },
  {
   "cell_type": "markdown",
   "metadata": {},
   "source": [
    "## 1. Introduction"
   ]
  },
  {
   "cell_type": "markdown",
   "metadata": {},
   "source": [
    "Dimensionles gruoups have been applied by many researchers to estimate the rise velocity of a single bubble moving in liquid in pipe under the influence of gravitational, inertial, viscous and interfacial forces. These are: Reynolds Number, Eotvos number, Viscosyty Number, Bouyancy Reynolds Number and Froud Number.\n",
    "The objetive of this analysis is to find a model to relate the Froud Number with the rest of dimensionless group. Then, we could use Davies and Taylor (1950) clousure relationship to calculate the drift velocity."
   ]
  },
  {
   "cell_type": "code",
   "execution_count": 1,
   "metadata": {},
   "outputs": [],
   "source": [
    "#Libraries used\n",
    "%matplotlib inline                 \n",
    "import os                          \n",
    "import numpy as np                 \n",
    "import pandas as pd                \n",
    "import matplotlib.pyplot as plt    \n",
    "import time\n",
    "import warnings\n",
    "warnings.filterwarnings('ignore')  #Never print matching warnings"
   ]
  },
  {
   "cell_type": "markdown",
   "metadata": {},
   "source": [
    "## 2. Data Preparation\n",
    "### 2.1. Load Data\n",
    "The information is taken from the excel file in VictorPuglieseManotas's repository named Research. In this way, any person could download the raw data: https://github.com/VictorPuglieseManotas/Research/blob/master/Drift_Velocity_Analysis.xlsx"
   ]
  },
  {
   "cell_type": "code",
   "execution_count": 2,
   "metadata": {},
   "outputs": [
    {
     "data": {
      "text/html": [
       "<div>\n",
       "<style scoped>\n",
       "    .dataframe tbody tr th:only-of-type {\n",
       "        vertical-align: middle;\n",
       "    }\n",
       "\n",
       "    .dataframe tbody tr th {\n",
       "        vertical-align: top;\n",
       "    }\n",
       "\n",
       "    .dataframe thead th {\n",
       "        text-align: right;\n",
       "    }\n",
       "</style>\n",
       "<table border=\"1\" class=\"dataframe\">\n",
       "  <thead>\n",
       "    <tr style=\"text-align: right;\">\n",
       "      <th></th>\n",
       "      <th>Inclination [°]</th>\n",
       "      <th>Cos(Angle)</th>\n",
       "      <th>Sin(Angle)</th>\n",
       "      <th>Temperature [C]</th>\n",
       "      <th>\\rhoL [kg/m3]</th>\n",
       "      <th>\\rhoG [kg/m3]</th>\n",
       "      <th>\\muL [Pa.s]</th>\n",
       "      <th>\\sigma [N/m]</th>\n",
       "      <th>Liquid Type</th>\n",
       "      <th>Diameter [m]</th>\n",
       "      <th>Drift Velocity [m/s]</th>\n",
       "      <th>Reynolds Number Re</th>\n",
       "      <th>Buoyancy Reynolds R</th>\n",
       "      <th>Eotvos Number Eo</th>\n",
       "      <th>Viscosity Number Nmu</th>\n",
       "      <th>Froud Number Fr</th>\n",
       "    </tr>\n",
       "  </thead>\n",
       "  <tbody>\n",
       "    <tr>\n",
       "      <th>43</th>\n",
       "      <td>20.0</td>\n",
       "      <td>9.396926e-01</td>\n",
       "      <td>0.342020</td>\n",
       "      <td>50.00</td>\n",
       "      <td>869.0</td>\n",
       "      <td>1.092809</td>\n",
       "      <td>0.104</td>\n",
       "      <td>0.0295</td>\n",
       "      <td>Oil</td>\n",
       "      <td>0.0508</td>\n",
       "      <td>0.316</td>\n",
       "      <td>0.168679</td>\n",
       "      <td>299.411928</td>\n",
       "      <td>744.559434</td>\n",
       "      <td>0.003342</td>\n",
       "      <td>0.447990</td>\n",
       "    </tr>\n",
       "    <tr>\n",
       "      <th>70</th>\n",
       "      <td>88.0</td>\n",
       "      <td>3.489950e-02</td>\n",
       "      <td>0.999391</td>\n",
       "      <td>32.20</td>\n",
       "      <td>881.0</td>\n",
       "      <td>1.156545</td>\n",
       "      <td>0.296</td>\n",
       "      <td>0.0295</td>\n",
       "      <td>Oil</td>\n",
       "      <td>0.0508</td>\n",
       "      <td>0.233</td>\n",
       "      <td>0.046248</td>\n",
       "      <td>106.648525</td>\n",
       "      <td>754.799306</td>\n",
       "      <td>0.009383</td>\n",
       "      <td>0.330331</td>\n",
       "    </tr>\n",
       "    <tr>\n",
       "      <th>133</th>\n",
       "      <td>2.5</td>\n",
       "      <td>9.990482e-01</td>\n",
       "      <td>0.043619</td>\n",
       "      <td>21.10</td>\n",
       "      <td>870.0</td>\n",
       "      <td>1.200195</td>\n",
       "      <td>0.160</td>\n",
       "      <td>0.0270</td>\n",
       "      <td>NaN</td>\n",
       "      <td>0.0990</td>\n",
       "      <td>0.421</td>\n",
       "      <td>0.312643</td>\n",
       "      <td>530.044864</td>\n",
       "      <td>3092.765664</td>\n",
       "      <td>0.001888</td>\n",
       "      <td>0.427567</td>\n",
       "    </tr>\n",
       "    <tr>\n",
       "      <th>97</th>\n",
       "      <td>60.0</td>\n",
       "      <td>5.000000e-01</td>\n",
       "      <td>0.866025</td>\n",
       "      <td>16.10</td>\n",
       "      <td>891.0</td>\n",
       "      <td>1.220953</td>\n",
       "      <td>0.934</td>\n",
       "      <td>0.0295</td>\n",
       "      <td>Oil</td>\n",
       "      <td>0.0508</td>\n",
       "      <td>0.220</td>\n",
       "      <td>0.014610</td>\n",
       "      <td>34.181331</td>\n",
       "      <td>763.322842</td>\n",
       "      <td>0.029276</td>\n",
       "      <td>0.311909</td>\n",
       "    </tr>\n",
       "    <tr>\n",
       "      <th>121</th>\n",
       "      <td>90.0</td>\n",
       "      <td>6.125742e-17</td>\n",
       "      <td>1.000000</td>\n",
       "      <td>26.73</td>\n",
       "      <td>884.0</td>\n",
       "      <td>1.177651</td>\n",
       "      <td>0.378</td>\n",
       "      <td>0.0295</td>\n",
       "      <td>Oil</td>\n",
       "      <td>0.1524</td>\n",
       "      <td>0.419</td>\n",
       "      <td>0.198941</td>\n",
       "      <td>435.420408</td>\n",
       "      <td>6816.193525</td>\n",
       "      <td>0.002298</td>\n",
       "      <td>0.342966</td>\n",
       "    </tr>\n",
       "  </tbody>\n",
       "</table>\n",
       "</div>"
      ],
      "text/plain": [
       "     Inclination [°]    Cos(Angle)  Sin(Angle)  Temperature [C]  \\\n",
       "43              20.0  9.396926e-01    0.342020            50.00   \n",
       "70              88.0  3.489950e-02    0.999391            32.20   \n",
       "133              2.5  9.990482e-01    0.043619            21.10   \n",
       "97              60.0  5.000000e-01    0.866025            16.10   \n",
       "121             90.0  6.125742e-17    1.000000            26.73   \n",
       "\n",
       "     \\rhoL [kg/m3]  \\rhoG [kg/m3]  \\muL [Pa.s]  \\sigma [N/m] Liquid Type  \\\n",
       "43           869.0       1.092809        0.104        0.0295         Oil   \n",
       "70           881.0       1.156545        0.296        0.0295         Oil   \n",
       "133          870.0       1.200195        0.160        0.0270         NaN   \n",
       "97           891.0       1.220953        0.934        0.0295         Oil   \n",
       "121          884.0       1.177651        0.378        0.0295         Oil   \n",
       "\n",
       "     Diameter [m]  Drift Velocity [m/s]  Reynolds Number Re  \\\n",
       "43         0.0508                 0.316            0.168679   \n",
       "70         0.0508                 0.233            0.046248   \n",
       "133        0.0990                 0.421            0.312643   \n",
       "97         0.0508                 0.220            0.014610   \n",
       "121        0.1524                 0.419            0.198941   \n",
       "\n",
       "     Buoyancy Reynolds R  Eotvos Number Eo  Viscosity Number Nmu  \\\n",
       "43            299.411928        744.559434              0.003342   \n",
       "70            106.648525        754.799306              0.009383   \n",
       "133           530.044864       3092.765664              0.001888   \n",
       "97             34.181331        763.322842              0.029276   \n",
       "121           435.420408       6816.193525              0.002298   \n",
       "\n",
       "     Froud Number Fr  \n",
       "43          0.447990  \n",
       "70          0.330331  \n",
       "133         0.427567  \n",
       "97          0.311909  \n",
       "121         0.342966  "
      ]
     },
     "execution_count": 2,
     "metadata": {},
     "output_type": "execute_result"
    }
   ],
   "source": [
    "Experimental_Data=pd.read_excel(r\"C:\\Users\\victo\\Train_Set_Drift_Velocity_Analysis.xlsx\")\n",
    "Experimental_Data=Experimental_Data.iloc[np.random.permutation(len(Experimental_Data))]\n",
    "Experimental_Data.head()                                                                  "
   ]
  },
  {
   "cell_type": "markdown",
   "metadata": {},
   "source": [
    "Now, we only will use the dimensionless group and the unit vectors:"
   ]
  },
  {
   "cell_type": "code",
   "execution_count": 3,
   "metadata": {},
   "outputs": [
    {
     "data": {
      "text/html": [
       "<div>\n",
       "<style scoped>\n",
       "    .dataframe tbody tr th:only-of-type {\n",
       "        vertical-align: middle;\n",
       "    }\n",
       "\n",
       "    .dataframe tbody tr th {\n",
       "        vertical-align: top;\n",
       "    }\n",
       "\n",
       "    .dataframe thead th {\n",
       "        text-align: right;\n",
       "    }\n",
       "</style>\n",
       "<table border=\"1\" class=\"dataframe\">\n",
       "  <thead>\n",
       "    <tr style=\"text-align: right;\">\n",
       "      <th></th>\n",
       "      <th>Cos(Angle)</th>\n",
       "      <th>Sin(Angle)</th>\n",
       "      <th>Buoyancy Reynolds R</th>\n",
       "      <th>Eotvos Number Eo</th>\n",
       "      <th>Froud Number Fr</th>\n",
       "    </tr>\n",
       "  </thead>\n",
       "  <tbody>\n",
       "    <tr>\n",
       "      <th>43</th>\n",
       "      <td>9.396926e-01</td>\n",
       "      <td>0.342020</td>\n",
       "      <td>299.411928</td>\n",
       "      <td>744.559434</td>\n",
       "      <td>0.447990</td>\n",
       "    </tr>\n",
       "    <tr>\n",
       "      <th>70</th>\n",
       "      <td>3.489950e-02</td>\n",
       "      <td>0.999391</td>\n",
       "      <td>106.648525</td>\n",
       "      <td>754.799306</td>\n",
       "      <td>0.330331</td>\n",
       "    </tr>\n",
       "    <tr>\n",
       "      <th>133</th>\n",
       "      <td>9.990482e-01</td>\n",
       "      <td>0.043619</td>\n",
       "      <td>530.044864</td>\n",
       "      <td>3092.765664</td>\n",
       "      <td>0.427567</td>\n",
       "    </tr>\n",
       "    <tr>\n",
       "      <th>97</th>\n",
       "      <td>5.000000e-01</td>\n",
       "      <td>0.866025</td>\n",
       "      <td>34.181331</td>\n",
       "      <td>763.322842</td>\n",
       "      <td>0.311909</td>\n",
       "    </tr>\n",
       "    <tr>\n",
       "      <th>121</th>\n",
       "      <td>6.125742e-17</td>\n",
       "      <td>1.000000</td>\n",
       "      <td>435.420408</td>\n",
       "      <td>6816.193525</td>\n",
       "      <td>0.342966</td>\n",
       "    </tr>\n",
       "  </tbody>\n",
       "</table>\n",
       "</div>"
      ],
      "text/plain": [
       "       Cos(Angle)  Sin(Angle)  Buoyancy Reynolds R  Eotvos Number Eo  \\\n",
       "43   9.396926e-01    0.342020           299.411928        744.559434   \n",
       "70   3.489950e-02    0.999391           106.648525        754.799306   \n",
       "133  9.990482e-01    0.043619           530.044864       3092.765664   \n",
       "97   5.000000e-01    0.866025            34.181331        763.322842   \n",
       "121  6.125742e-17    1.000000           435.420408       6816.193525   \n",
       "\n",
       "     Froud Number Fr  \n",
       "43          0.447990  \n",
       "70          0.330331  \n",
       "133         0.427567  \n",
       "97          0.311909  \n",
       "121         0.342966  "
      ]
     },
     "execution_count": 3,
     "metadata": {},
     "output_type": "execute_result"
    }
   ],
   "source": [
    "Experimental_Data=Experimental_Data.drop(Experimental_Data.columns[[0,3,4,5,6,7,8,9,10,11,14]], axis=1)\n",
    "Experimental_Data.head()"
   ]
  },
  {
   "cell_type": "markdown",
   "metadata": {},
   "source": [
    "### 2.2. Creating the Train and Test set\n",
    "The train set will be the experimental data gathered from other researchers. On the other hand, the Test set will be the experimental data obtained by the authors of this document in the Petroleum Engineering Labs in Texas Tech University."
   ]
  },
  {
   "cell_type": "code",
   "execution_count": 4,
   "metadata": {},
   "outputs": [],
   "source": [
    "Dimensionless_Labels=Experimental_Data['Froud Number Fr']\n",
    "Dimensionless_Attributes=Experimental_Data.drop('Froud Number Fr',axis=1)"
   ]
  },
  {
   "cell_type": "markdown",
   "metadata": {},
   "source": [
    "## 3. Machine Learning Model\n",
    "### 3.1. Preprocessing\n",
    "\"Many elements used in the objective function of a learning algorithm (such as the RBF kernel of Support Vector Machines or the l1 and l2 regularizers of linear models) assume that all features are centered around zero and have variance in the same order. If a feature has a variance that is orders of magnitude larger than others, it might dominate the objective function and make the estimator unable to learn from other features correctly as expected\". [1]"
   ]
  },
  {
   "cell_type": "code",
   "execution_count": 5,
   "metadata": {},
   "outputs": [],
   "source": [
    "from sklearn import preprocessing\n",
    "scaler=preprocessing.RobustScaler().fit(Dimensionless_Attributes)\n",
    "Dimensionless_Attributes_Scaled=scaler.transform(Dimensionless_Attributes)"
   ]
  },
  {
   "cell_type": "markdown",
   "metadata": {},
   "source": [
    "### 3.2. Support Vector Regressor"
   ]
  },
  {
   "cell_type": "code",
   "execution_count": 6,
   "metadata": {},
   "outputs": [
    {
     "data": {
      "text/plain": [
       "SVR(C=100, cache_size=200, coef0=0.0, degree=3, epsilon=0.1, gamma='auto',\n",
       "  kernel='rbf', max_iter=-1, shrinking=True, tol=0.001, verbose=False)"
      ]
     },
     "execution_count": 6,
     "metadata": {},
     "output_type": "execute_result"
    }
   ],
   "source": [
    "from sklearn.svm import SVR\n",
    "svr_rbf_reg = SVR(kernel=\"rbf\",C=100,epsilon=0.1)\n",
    "svr_rbf_reg"
   ]
  },
  {
   "cell_type": "markdown",
   "metadata": {},
   "source": [
    "### 3.2. Training the Model\n",
    "The problem of Drift Velocity has been addressed. The initial experiment data has been clean and modified in order to have features that are related with the Froud Number. Also, we have shuffled the instances. The training set is used in this stage to fit the model parameters. However, we will test it using the test set. In the following code, we perform the training procedure, we obtain a measurement of its perfomance (mean_squared_error) and the time required to be fitted and to predict."
   ]
  },
  {
   "cell_type": "code",
   "execution_count": 7,
   "metadata": {
    "scrolled": true
   },
   "outputs": [
    {
     "name": "stdout",
     "output_type": "stream",
     "text": [
      "SVR  mean_squared_error:  0.00412547507526\n",
      "SVR  Time:  0.001993894577026367\n"
     ]
    }
   ],
   "source": [
    "from sklearn.metrics import mean_squared_error\n",
    "start = time.time()\n",
    "svr_rbf_reg.fit(Dimensionless_Attributes_Scaled,Dimensionless_Labels)\n",
    "y_pred=svr_rbf_reg.predict(Dimensionless_Attributes_Scaled)\n",
    "print(svr_rbf_reg.__class__.__name__,' mean_squared_error: ',mean_squared_error(Dimensionless_Labels,y_pred))\n",
    "end = time.time()\n",
    "print(svr_rbf_reg.__class__.__name__,' Time: ',end - start)"
   ]
  },
  {
   "cell_type": "markdown",
   "metadata": {},
   "source": [
    "### 3.3. Tunnig the Model"
   ]
  },
  {
   "cell_type": "code",
   "execution_count": 8,
   "metadata": {},
   "outputs": [
    {
     "name": "stdout",
     "output_type": "stream",
     "text": [
      "0.3720390796661377\n",
      "0.0706794368532409 {'C': 0.02, 'epsilon': 0.005, 'kernel': 'rbf'}\n",
      "0.42248322756549966 {'C': 0.02, 'epsilon': 0.005, 'kernel': 'sigmoid'}\n",
      "0.0710246029939048 {'C': 0.02, 'epsilon': 0.01, 'kernel': 'rbf'}\n",
      "0.42306535583292815 {'C': 0.02, 'epsilon': 0.01, 'kernel': 'sigmoid'}\n",
      "0.07318300009550313 {'C': 0.02, 'epsilon': 0.05, 'kernel': 'rbf'}\n",
      "0.462931571699556 {'C': 0.02, 'epsilon': 0.05, 'kernel': 'sigmoid'}\n",
      "0.0796907654132378 {'C': 0.02, 'epsilon': 0.1, 'kernel': 'rbf'}\n",
      "0.4658373021334976 {'C': 0.02, 'epsilon': 0.1, 'kernel': 'sigmoid'}\n",
      "0.060037865304903085 {'C': 0.05, 'epsilon': 0.005, 'kernel': 'rbf'}\n",
      "1.1336779030419744 {'C': 0.05, 'epsilon': 0.005, 'kernel': 'sigmoid'}\n",
      "0.059317066063512836 {'C': 0.05, 'epsilon': 0.01, 'kernel': 'rbf'}\n",
      "1.13366577042516 {'C': 0.05, 'epsilon': 0.01, 'kernel': 'sigmoid'}\n",
      "0.06052083660835762 {'C': 0.05, 'epsilon': 0.05, 'kernel': 'rbf'}\n",
      "1.134696208574521 {'C': 0.05, 'epsilon': 0.05, 'kernel': 'sigmoid'}\n",
      "0.07355534561332967 {'C': 0.05, 'epsilon': 0.1, 'kernel': 'rbf'}\n",
      "1.1414376955576364 {'C': 0.05, 'epsilon': 0.1, 'kernel': 'sigmoid'}\n",
      "0.05724601164433097 {'C': 0.07, 'epsilon': 0.005, 'kernel': 'rbf'}\n",
      "1.5967026487523739 {'C': 0.07, 'epsilon': 0.005, 'kernel': 'sigmoid'}\n",
      "0.05651371557629818 {'C': 0.07, 'epsilon': 0.01, 'kernel': 'rbf'}\n",
      "1.5956544883712975 {'C': 0.07, 'epsilon': 0.01, 'kernel': 'sigmoid'}\n",
      "0.05805221688330537 {'C': 0.07, 'epsilon': 0.05, 'kernel': 'rbf'}\n",
      "1.5940540855074683 {'C': 0.07, 'epsilon': 0.05, 'kernel': 'sigmoid'}\n",
      "0.07212461670486783 {'C': 0.07, 'epsilon': 0.1, 'kernel': 'rbf'}\n",
      "1.600268378869801 {'C': 0.07, 'epsilon': 0.1, 'kernel': 'sigmoid'}\n",
      "0.054625926029657546 {'C': 0.1, 'epsilon': 0.005, 'kernel': 'rbf'}\n",
      "2.2860463984581436 {'C': 0.1, 'epsilon': 0.005, 'kernel': 'sigmoid'}\n",
      "0.05430224176821636 {'C': 0.1, 'epsilon': 0.01, 'kernel': 'rbf'}\n",
      "2.2859244784265087 {'C': 0.1, 'epsilon': 0.01, 'kernel': 'sigmoid'}\n",
      "0.056215480061301414 {'C': 0.1, 'epsilon': 0.05, 'kernel': 'rbf'}\n",
      "2.2838929072413423 {'C': 0.1, 'epsilon': 0.05, 'kernel': 'sigmoid'}\n",
      "0.07094319579963834 {'C': 0.1, 'epsilon': 0.1, 'kernel': 'rbf'}\n",
      "2.2875177279968537 {'C': 0.1, 'epsilon': 0.1, 'kernel': 'sigmoid'}\n",
      "0.05344584173183763 {'C': 0.12, 'epsilon': 0.005, 'kernel': 'rbf'}\n",
      "2.7457663174577758 {'C': 0.12, 'epsilon': 0.005, 'kernel': 'sigmoid'}\n",
      "0.05236564076995449 {'C': 0.12, 'epsilon': 0.01, 'kernel': 'rbf'}\n",
      "2.7452645405335923 {'C': 0.12, 'epsilon': 0.01, 'kernel': 'sigmoid'}\n",
      "0.05517933212905734 {'C': 0.12, 'epsilon': 0.05, 'kernel': 'rbf'}\n",
      "2.743505166550989 {'C': 0.12, 'epsilon': 0.05, 'kernel': 'sigmoid'}\n",
      "0.07023365232371075 {'C': 0.12, 'epsilon': 0.1, 'kernel': 'rbf'}\n",
      "2.7466257759443584 {'C': 0.12, 'epsilon': 0.1, 'kernel': 'sigmoid'}\n"
     ]
    }
   ],
   "source": [
    "from sklearn.model_selection import GridSearchCV\n",
    "param_grid=[{'kernel':['rbf','sigmoid'],'C':[0.02,0.05,0.07,0.1,0.12],\n",
    "            'epsilon':[0.005,0.01,0.05,0.1]}]\n",
    "svr_reg=SVR()\n",
    "grid_search=GridSearchCV(svr_reg,param_grid,cv=5,scoring='neg_mean_squared_error')\n",
    "start = time.time()\n",
    "grid_search.fit(Dimensionless_Attributes_Scaled,Dimensionless_Labels)\n",
    "end = time.time()\n",
    "print(end - start)\n",
    "cvres=grid_search.cv_results_\n",
    "for mean_score,params in zip(cvres[\"mean_test_score\"],cvres[\"params\"]):\n",
    "    print(np.sqrt(-mean_score),params)"
   ]
  },
  {
   "cell_type": "code",
   "execution_count": 9,
   "metadata": {},
   "outputs": [
    {
     "data": {
      "text/plain": [
       "SVR(C=0.12, cache_size=200, coef0=0.0, degree=3, epsilon=0.01, gamma='auto',\n",
       "  kernel='rbf', max_iter=-1, shrinking=True, tol=0.001, verbose=False)"
      ]
     },
     "execution_count": 9,
     "metadata": {},
     "output_type": "execute_result"
    }
   ],
   "source": [
    "grid_search.best_estimator_"
   ]
  },
  {
   "cell_type": "markdown",
   "metadata": {},
   "source": [
    "### 3.3.1. Support Vectors, Dual Coefficient & Intercept"
   ]
  },
  {
   "cell_type": "code",
   "execution_count": 10,
   "metadata": {},
   "outputs": [
    {
     "data": {
      "text/plain": [
       "array([[-1.27049562e+00,  5.85770352e-01, -7.63397717e-02,\n",
       "        -3.15521622e-02],\n",
       "       [-5.59522533e-01,  4.29336740e-01, -2.75815060e-01,\n",
       "         7.35576454e-02],\n",
       "       [-1.32384453e+00,  5.86484893e-01,  8.28647194e-01,\n",
       "         7.47158220e+01],\n",
       "       [ 2.03344531e-01, -5.35320670e-01, -1.43931114e-01,\n",
       "         2.13747841e+01],\n",
       "       [-1.52835294e-01,  1.67485552e-01,  9.82677621e+01,\n",
       "        -5.05779749e+00],\n",
       "       [ 0.00000000e+00,  0.00000000e+00,  4.21163338e-01,\n",
       "         7.49042162e+01],\n",
       "       [ 0.00000000e+00,  0.00000000e+00,  1.39384360e+00,\n",
       "         7.44322712e+01],\n",
       "       [ 2.04799461e-01, -5.86484893e-01,  4.21163338e-01,\n",
       "         7.49042162e+01],\n",
       "       [ 1.81575924e-01, -3.82800827e-01,  9.71387199e-02,\n",
       "        -8.41428530e-02],\n",
       "       [ 2.04799461e-01, -5.86484893e-01, -1.14961473e-01,\n",
       "         1.85903481e-05],\n",
       "       [ 2.04799461e-01, -5.86484893e-01,  6.24098480e-02,\n",
       "        -3.15281559e-02],\n",
       "       [ 2.03344531e-01, -5.35320670e-01, -2.71181335e-01,\n",
       "         8.42172675e-01],\n",
       "       [-3.41251112e-01,  3.12062094e-01,  2.54544049e+00,\n",
       "         7.39591530e+01],\n",
       "       [-3.41251112e-01,  3.12062094e-01, -1.58277301e-01,\n",
       "        -1.85903481e-05],\n",
       "       [ 1.81575924e-01, -3.82800827e-01,  8.28647194e-01,\n",
       "         7.47158220e+01],\n",
       "       [ 1.81575924e-01, -3.82800827e-01,  2.54544049e+00,\n",
       "         7.39591530e+01],\n",
       "       [-1.52835294e-01,  1.67485552e-01, -1.58277301e-01,\n",
       "        -1.85903481e-05],\n",
       "       [-1.27049562e+00,  5.85770352e-01,  4.54266331e-01,\n",
       "        -1.57827325e-01],\n",
       "       [ 1.98982509e-01, -4.84253840e-01, -6.92851915e-04,\n",
       "        -4.52279007e+00],\n",
       "       [ 1.81575924e-01, -3.82800827e-01, -1.58277301e-01,\n",
       "        -1.85903481e-05],\n",
       "       [-3.41251112e-01,  3.12062094e-01, -3.01315936e-01,\n",
       "         1.15623622e-01],\n",
       "       [ 1.91721700e-01, -4.33381614e-01,  2.67507751e-01,\n",
       "         3.30346803e+00],\n",
       "       [-1.05839828e+00,  5.68664847e-01,  4.54266331e-01,\n",
       "        -1.57827325e-01],\n",
       "       [ 1.91721700e-01, -4.33381614e-01, -1.43931114e-01,\n",
       "         2.13747841e+01],\n",
       "       [ 1.93405181e-01, -4.43535836e-01,  7.09683516e+01,\n",
       "        -6.95296736e+00],\n",
       "       [-1.52835294e-01,  1.67485552e-01,  9.71387199e-02,\n",
       "        -8.41428530e-02],\n",
       "       [ 1.98982509e-01, -4.84253840e-01,  7.09683516e+01,\n",
       "        -6.95296736e+00],\n",
       "       [ 2.04799461e-01, -5.86484893e-01,  1.39384360e+00,\n",
       "         7.44322712e+01],\n",
       "       [ 2.04799461e-01, -5.86484893e-01,  3.41729561e-01,\n",
       "        -1.15692626e-01],\n",
       "       [-3.41251112e-01,  3.12062094e-01,  8.28647194e-01,\n",
       "         7.47158220e+01],\n",
       "       [ 0.00000000e+00,  0.00000000e+00, -2.34267619e-01,\n",
       "         3.15209206e-02],\n",
       "       [-3.41251112e-01,  3.12062094e-01,  1.39384360e+00,\n",
       "         7.44322712e+01],\n",
       "       [ 1.81575924e-01, -3.82800827e-01, -3.01315936e-01,\n",
       "         1.15623622e-01],\n",
       "       [ 0.00000000e+00,  0.00000000e+00, -1.58277301e-01,\n",
       "        -1.85903481e-05],\n",
       "       [-5.59522533e-01,  4.29336740e-01,  9.71387199e-02,\n",
       "        -8.41428530e-02],\n",
       "       [-1.32384453e+00,  5.86484893e-01, -3.01315936e-01,\n",
       "         1.15623622e-01],\n",
       "       [ 2.04566641e-01, -5.66013748e-01, -1.43931114e-01,\n",
       "         2.13747841e+01],\n",
       "       [ 2.04799461e-01, -5.86484893e-01, -1.83179700e-01,\n",
       "         2.10013895e-02],\n",
       "       [ 0.00000000e+00,  0.00000000e+00,  2.54544049e+00,\n",
       "         7.39591530e+01],\n",
       "       [ 2.04566641e-01, -5.66013748e-01,  1.08911320e+00,\n",
       "         2.87995781e+01],\n",
       "       [-5.59522533e-01,  4.29336740e-01,  4.54266331e-01,\n",
       "        -1.57827325e-01],\n",
       "       [ 0.00000000e+00,  0.00000000e+00,  9.71387199e-02,\n",
       "        -8.41428530e-02],\n",
       "       [ 2.02704508e-01, -5.25096398e-01, -2.07612568e-03,\n",
       "        -4.52279007e+00],\n",
       "       [ 2.04799461e-01, -5.86484893e-01, -2.43195599e-01,\n",
       "         5.25364422e-02],\n",
       "       [-1.52835294e-01,  1.67485552e-01, -7.63397717e-02,\n",
       "        -3.15521622e-02],\n",
       "       [-1.32384453e+00,  5.86484893e-01,  9.71387199e-02,\n",
       "        -8.41428530e-02],\n",
       "       [-1.52835294e-01,  1.67485552e-01, -2.34267619e-01,\n",
       "         3.15209206e-02],\n",
       "       [ 0.00000000e+00,  0.00000000e+00, -2.75815060e-01,\n",
       "         7.35576454e-02],\n",
       "       [-1.32384453e+00,  5.86484893e-01,  4.21163338e-01,\n",
       "         7.49042162e+01],\n",
       "       [-8.01017491e-01,  5.15746160e-01,  2.54544049e+00,\n",
       "         7.39591530e+01],\n",
       "       [-5.59522533e-01,  4.29336740e-01,  9.82677621e+01,\n",
       "        -5.05779749e+00],\n",
       "       [ 1.12610948e-01, -1.85305599e-01, -3.01315936e-01,\n",
       "         1.15623622e-01],\n",
       "       [-8.01017491e-01,  5.15746160e-01,  9.71387199e-02,\n",
       "        -8.41428530e-02],\n",
       "       [-3.41251112e-01,  3.12062094e-01, -7.63397717e-02,\n",
       "        -3.15521622e-02],\n",
       "       [-1.32384453e+00,  5.86484893e-01, -1.58277301e-01,\n",
       "        -1.85903481e-05],\n",
       "       [ 1.12610948e-01, -1.85305599e-01,  9.71387199e-02,\n",
       "        -8.41428530e-02],\n",
       "       [-3.41251112e-01,  3.12062094e-01,  9.71387199e-02,\n",
       "        -8.41428530e-02],\n",
       "       [ 1.81575924e-01, -3.82800827e-01, -7.63397717e-02,\n",
       "        -3.15521622e-02],\n",
       "       [-5.59522533e-01,  4.29336740e-01, -3.01315936e-01,\n",
       "         1.15623622e-01],\n",
       "       [ 2.04566641e-01, -5.66013748e-01,  7.09683516e+01,\n",
       "        -6.95296736e+00],\n",
       "       [ 2.04799461e-01, -5.86484893e-01, -1.67410507e-01,\n",
       "        -4.45788845e+00],\n",
       "       [ 2.04799461e-01, -5.86484893e-01, -2.97070170e-04,\n",
       "        -4.52279007e+00],\n",
       "       [ 1.98982509e-01, -4.84253840e-01, -2.71181335e-01,\n",
       "         8.42172675e-01],\n",
       "       [ 1.81575924e-01, -3.82800827e-01, -1.67410507e-01,\n",
       "        -4.45788845e+00],\n",
       "       [-1.32384453e+00,  5.86484893e-01, -2.75815060e-01,\n",
       "         7.35576454e-02],\n",
       "       [-8.01017491e-01,  5.15746160e-01, -2.34267619e-01,\n",
       "         3.15209206e-02],\n",
       "       [-1.05839828e+00,  5.68664847e-01, -7.63397717e-02,\n",
       "        -3.15521622e-02],\n",
       "       [ 2.04799461e-01, -5.86484893e-01,  7.09683516e+01,\n",
       "        -6.95296736e+00],\n",
       "       [-1.05839828e+00,  5.68664847e-01, -2.75815060e-01,\n",
       "         7.35576454e-02],\n",
       "       [-8.01017491e-01,  5.15746160e-01,  4.54266331e-01,\n",
       "        -1.57827325e-01],\n",
       "       [ 1.81575924e-01, -3.82800827e-01,  4.21163338e-01,\n",
       "         7.49042162e+01],\n",
       "       [-5.59522533e-01,  4.29336740e-01, -1.58277301e-01,\n",
       "        -1.85903481e-05],\n",
       "       [ 1.12610948e-01, -1.85305599e-01, -7.63397717e-02,\n",
       "        -3.15521622e-02],\n",
       "       [ 2.02704508e-01, -5.25096398e-01, -1.67410507e-01,\n",
       "        -4.45788845e+00],\n",
       "       [ 1.91721700e-01, -4.33381614e-01, -2.71181335e-01,\n",
       "         8.42172675e-01],\n",
       "       [-8.01017491e-01,  5.15746160e-01,  4.21163338e-01,\n",
       "         7.49042162e+01],\n",
       "       [ 2.04799461e-01, -5.86484893e-01,  2.54544049e+00,\n",
       "         7.39591530e+01],\n",
       "       [ 2.04799461e-01, -5.86484893e-01,  6.09397870e-02,\n",
       "        -6.31351435e-02],\n",
       "       [ 2.04566641e-01, -5.66013748e-01, -1.67410507e-01,\n",
       "        -4.45788845e+00],\n",
       "       [ 1.98982509e-01, -4.84253840e-01,  2.67507751e-01,\n",
       "         3.30346803e+00],\n",
       "       [-1.52835294e-01,  1.67485552e-01, -3.01315936e-01,\n",
       "         1.15623622e-01],\n",
       "       [ 2.04799461e-01, -5.86484893e-01,  1.53749259e-01,\n",
       "        -8.41657665e-02],\n",
       "       [-1.27049562e+00,  5.85770352e-01, -1.58277301e-01,\n",
       "        -1.85903481e-05],\n",
       "       [ 0.00000000e+00,  0.00000000e+00, -3.01315936e-01,\n",
       "         1.15623622e-01],\n",
       "       [-1.32384453e+00,  5.86484893e-01,  4.54266331e-01,\n",
       "        -1.57827325e-01],\n",
       "       [-1.52835294e-01,  1.67485552e-01, -2.75815060e-01,\n",
       "         7.35576454e-02],\n",
       "       [ 2.04566641e-01, -5.66013748e-01, -2.71181335e-01,\n",
       "         8.42172675e-01],\n",
       "       [ 1.81575924e-01, -3.82800827e-01, -3.96038985e-04,\n",
       "        -4.52279007e+00],\n",
       "       [ 1.81575924e-01, -3.82800827e-01,  7.09683516e+01,\n",
       "        -6.95296736e+00],\n",
       "       [ 2.04799461e-01, -5.86484893e-01,  2.41485216e-01,\n",
       "        -1.05217821e-01],\n",
       "       [-1.27049562e+00,  5.85770352e-01,  9.71387199e-02,\n",
       "        -8.41428530e-02],\n",
       "       [ 0.00000000e+00,  0.00000000e+00,  9.82677621e+01,\n",
       "        -5.05779749e+00],\n",
       "       [-1.27049562e+00,  5.85770352e-01, -3.01315936e-01,\n",
       "         1.15623622e-01],\n",
       "       [ 2.04799461e-01, -5.86484893e-01, -7.79801924e-02,\n",
       "        -2.10618800e-02],\n",
       "       [-3.41251112e-01,  3.12062094e-01,  9.82677621e+01,\n",
       "        -5.05779749e+00],\n",
       "       [ 1.81575924e-01, -3.82800827e-01,  1.39384360e+00,\n",
       "         7.44322712e+01],\n",
       "       [-5.59522533e-01,  4.29336740e-01, -7.63397717e-02,\n",
       "        -3.15521622e-02],\n",
       "       [ 1.12610948e-01, -1.85305599e-01, -1.58277301e-01,\n",
       "        -1.85903481e-05],\n",
       "       [ 1.98982509e-01, -4.84253840e-01, -1.43931114e-01,\n",
       "         2.13747841e+01],\n",
       "       [-1.32384453e+00,  5.86484893e-01, -7.63397717e-02,\n",
       "        -3.15521622e-02],\n",
       "       [ 0.00000000e+00,  0.00000000e+00, -7.63397717e-02,\n",
       "        -3.15521622e-02],\n",
       "       [-8.01017491e-01,  5.15746160e-01, -7.63397717e-02,\n",
       "        -3.15521622e-02],\n",
       "       [-8.01017491e-01,  5.15746160e-01,  1.39384360e+00,\n",
       "         7.44322712e+01],\n",
       "       [-1.05839828e+00,  5.68664847e-01,  9.82677621e+01,\n",
       "        -5.05779749e+00],\n",
       "       [-1.32384453e+00,  5.86484893e-01,  9.82677621e+01,\n",
       "        -5.05779749e+00],\n",
       "       [ 1.81575924e-01, -3.82800827e-01, -2.75815060e-01,\n",
       "         7.35576454e-02],\n",
       "       [ 1.12610948e-01, -1.85305599e-01, -2.34267619e-01,\n",
       "         3.15209206e-02],\n",
       "       [ 2.04566641e-01, -5.66013748e-01,  2.67507751e-01,\n",
       "         3.30346803e+00],\n",
       "       [ 1.98982509e-01, -4.84253840e-01, -1.67410507e-01,\n",
       "        -4.45788845e+00],\n",
       "       [ 2.04799461e-01, -5.86484893e-01,  9.82677621e+01,\n",
       "        -5.05779749e+00],\n",
       "       [ 1.98982509e-01, -4.84253840e-01,  1.08911320e+00,\n",
       "         2.87995781e+01],\n",
       "       [ 1.91721700e-01, -4.33381614e-01,  1.08911320e+00,\n",
       "         2.87995781e+01],\n",
       "       [-3.41251112e-01,  3.12062094e-01, -2.75815060e-01,\n",
       "         7.35576454e-02],\n",
       "       [-8.01017491e-01,  5.15746160e-01, -3.01315936e-01,\n",
       "         1.15623622e-01],\n",
       "       [ 2.04799461e-01, -5.86484893e-01, -2.22207811e-01,\n",
       "         4.20355657e-02],\n",
       "       [ 1.93405181e-01, -4.43535836e-01,  2.97070170e-04,\n",
       "        -4.52279007e+00],\n",
       "       [-1.05839828e+00,  5.68664847e-01, -3.01315936e-01,\n",
       "         1.15623622e-01],\n",
       "       [ 1.81575924e-01, -3.82800827e-01,  4.54266331e-01,\n",
       "        -1.57827325e-01],\n",
       "       [-1.27049562e+00,  5.85770352e-01, -2.75815060e-01,\n",
       "         7.35576454e-02],\n",
       "       [-1.05839828e+00,  5.68664847e-01,  9.71387199e-02,\n",
       "        -8.41428530e-02],\n",
       "       [-8.01017491e-01,  5.15746160e-01, -2.75815060e-01,\n",
       "         7.35576454e-02],\n",
       "       [-1.32384453e+00,  5.86484893e-01,  2.54544049e+00,\n",
       "         7.39591530e+01],\n",
       "       [ 1.12610948e-01, -1.85305599e-01, -2.75815060e-01,\n",
       "         7.35576454e-02]])"
      ]
     },
     "execution_count": 10,
     "metadata": {},
     "output_type": "execute_result"
    }
   ],
   "source": [
    "svr=grid_search.best_estimator_\n",
    "svr.fit(Dimensionless_Attributes_Scaled,Dimensionless_Labels)\n",
    "svr.support_vectors_"
   ]
  },
  {
   "cell_type": "code",
   "execution_count": 11,
   "metadata": {},
   "outputs": [
    {
     "data": {
      "text/plain": [
       "array([[ 0.12      , -0.12      , -0.12      , -0.12      ,  0.12      ,\n",
       "         0.10032552,  0.12      , -0.12      ,  0.12      , -0.12      ,\n",
       "        -0.12      , -0.11251791,  0.12      ,  0.12      ,  0.12      ,\n",
       "        -0.12      ,  0.12      , -0.12      ,  0.12      ,  0.12      ,\n",
       "        -0.12      ,  0.12      , -0.11051951,  0.12      ,  0.12      ,\n",
       "         0.12      ,  0.08480719, -0.09933331,  0.12      ,  0.12      ,\n",
       "         0.12      ,  0.12      , -0.12      ,  0.12      ,  0.12      ,\n",
       "        -0.12      , -0.12      , -0.12      ,  0.12      , -0.12      ,\n",
       "        -0.12      ,  0.12      ,  0.12      , -0.12      ,  0.12      ,\n",
       "         0.12      ,  0.12      , -0.12      , -0.12      ,  0.05749369,\n",
       "         0.10936857, -0.12      ,  0.12      ,  0.12      ,  0.00429461,\n",
       "         0.12      ,  0.12      ,  0.12      , -0.12      , -0.12      ,\n",
       "        -0.12      , -0.12      ,  0.12      ,  0.07744884, -0.12      ,\n",
       "         0.06533858,  0.12      , -0.12      , -0.12      , -0.12      ,\n",
       "        -0.12      ,  0.12      ,  0.12      , -0.12      ,  0.12      ,\n",
       "         0.12      , -0.00421361, -0.12      , -0.12      ,  0.0637206 ,\n",
       "        -0.12      , -0.11634076,  0.12      , -0.12      , -0.12      ,\n",
       "        -0.12      , -0.12      ,  0.12      ,  0.12      ,  0.12      ,\n",
       "         0.01259879,  0.12      , -0.12      , -0.12      ,  0.12      ,\n",
       "        -0.12      ,  0.12      ,  0.12      ,  0.06833224,  0.12      ,\n",
       "         0.12      ,  0.12      , -0.06964606, -0.12      , -0.12      ,\n",
       "        -0.12      ,  0.00248681, -0.12      , -0.12      , -0.12      ,\n",
       "         0.0650825 ,  0.12      , -0.12      , -0.12      , -0.12      ,\n",
       "         0.12      , -0.12      ,  0.04127323, -0.12      ,  0.12      ,\n",
       "        -0.12      , -0.12      , -0.12      ]])"
      ]
     },
     "execution_count": 11,
     "metadata": {},
     "output_type": "execute_result"
    }
   ],
   "source": [
    "svr.dual_coef_ "
   ]
  },
  {
   "cell_type": "code",
   "execution_count": 12,
   "metadata": {},
   "outputs": [
    {
     "data": {
      "text/plain": [
       "array([0.36219587])"
      ]
     },
     "execution_count": 12,
     "metadata": {},
     "output_type": "execute_result"
    }
   ],
   "source": [
    "svr.intercept_"
   ]
  },
  {
   "cell_type": "markdown",
   "metadata": {},
   "source": [
    "### 3.3.2. Pipeline\n",
    "\"Transformers are usually combined with classifiers, regressors or other estimators to build a composite estimator. The most common tool is a Pipeline. Pipeline is often used in combination with FeatureUnion which concatenates the output of transformers into a composite feature space.\" [2]\n",
    "In our application, we are going to form a regressor which first scales the experimental results and then performs the prediction."
   ]
  },
  {
   "cell_type": "code",
   "execution_count": 13,
   "metadata": {},
   "outputs": [],
   "source": [
    "from sklearn.pipeline import make_pipeline\n",
    "svr=make_pipeline(scaler,svr)"
   ]
  },
  {
   "cell_type": "markdown",
   "metadata": {},
   "source": [
    "### 3.4. Saving the Model"
   ]
  },
  {
   "cell_type": "code",
   "execution_count": 14,
   "metadata": {},
   "outputs": [
    {
     "data": {
      "text/plain": [
       "['drift_velocity_regressor.joblib']"
      ]
     },
     "execution_count": 14,
     "metadata": {},
     "output_type": "execute_result"
    }
   ],
   "source": [
    "from sklearn.externals import joblib\n",
    "joblib.dump(svr,'drift_velocity_regressor.joblib') "
   ]
  },
  {
   "cell_type": "markdown",
   "metadata": {},
   "source": [
    "### 3.5. Model Evaluation\n",
    "For evaluation purpose, we are going to use the experimental data gather by Dr. Eghorieta, who got drift velocity of Taylor bubble in high viscosity oil for inclination angles from 0° to 10°. Also, we are going to present the prediction performance of Livinus et. al. model [3]\n",
    "\n",
    "First, we check the performance using the Train Set."
   ]
  },
  {
   "cell_type": "code",
   "execution_count": 15,
   "metadata": {},
   "outputs": [
    {
     "data": {
      "text/plain": [
       "Text(0.5,1,'Performance with Train Set')"
      ]
     },
     "execution_count": 15,
     "metadata": {},
     "output_type": "execute_result"
    },
    {
     "data": {
      "image/png": "[encoded data removed]",
      "text/plain": [
       "<Figure size 432x288 with 1 Axes>"
      ]
     },
     "metadata": {},
     "output_type": "display_data"
    }
   ],
   "source": [
    "Fr_l=np.power(10,-(0.0000007928*np.power(-np.log10(np.asarray(Dimensionless_Attributes['Buoyancy Reynolds R']/Dimensionless_Attributes['Eotvos Number Eo'])),7.443)+0.3276))\n",
    "Fr_Livinus=Fr_l*np.asarray(Dimensionless_Attributes['Cos(Angle)']+Dimensionless_Attributes['Sin(Angle)'])\n",
    "\n",
    "Fr_svr=svr.predict(Dimensionless_Attributes)\n",
    "\n",
    "plt.scatter(Dimensionless_Labels,Fr_Livinus,c='c')\n",
    "plt.scatter(Dimensionless_Labels,Fr_svr,c='b')\n",
    "plt.scatter(Dimensionless_Labels,Dimensionless_Labels,c='r')\n",
    "plt.xlabel(\"Froud Number Experiments\")\n",
    "plt.ylabel(\"Froud Number\")\n",
    "plt.legend((\"Predicted by Livinus\",\"Predicted by SVR\",\"Target\"),loc='bottom right')\n",
    "plt.title(\"Performance with Train Set\")"
   ]
  },
  {
   "cell_type": "markdown",
   "metadata": {},
   "source": [
    "Now, we evaluate the performance using the Test Set."
   ]
  },
  {
   "cell_type": "code",
   "execution_count": 16,
   "metadata": {},
   "outputs": [
    {
     "data": {
      "text/plain": [
       "Text(0.5,1,'Performance with Test Set')"
      ]
     },
     "execution_count": 16,
     "metadata": {},
     "output_type": "execute_result"
    },
    {
     "data": {
      "image/png": "[encoded data removed]",
      "text/plain": [
       "<Figure size 432x288 with 1 Axes>"
      ]
     },
     "metadata": {},
     "output_type": "display_data"
    }
   ],
   "source": [
    "Test_Set=pd.read_excel(r\"C:\\Users\\victo\\Test_Set_Drift_Velocity_Analysis.xlsx\") #Read an Excel table into a pandas DataFrame\n",
    "D=np.asarray(Test_Set['Diameter [m]'])\n",
    "rho_L=np.asarray(Test_Set['rhoL [kg/m3]'])\n",
    "rho_G=np.asarray(Test_Set['rhoG [kg/m3]'])\n",
    "cos_a=np.asarray(Test_Set['Cos(Angle)'])\n",
    "sin_a=np.asarray(Test_Set['Sin(Angle)'])\n",
    "Fr_real=np.asarray(Test_Set['Froud Number Fr'])\n",
    "V_d_real=np.asarray(Test_Set['Drift Velocity [m/s]'])\n",
    "Test_Set=Test_Set.drop(Test_Set.columns[[0,3,4,5,6,7,8,9,10,11,14,15]], axis=1)\n",
    "\n",
    "Fr_l=np.power(10,-(0.0000007928*np.power(-np.log10(np.asarray(Test_Set['Buoyancy Reynolds R']/Test_Set['Eotvos Number Eo'])),7.443)+0.3276))\n",
    "Fr_Livinus=Fr_l*np.asarray(Test_Set['Cos(Angle)']+Test_Set['Sin(Angle)'])\n",
    "Fr_Livinus=np.nan_to_num(Fr_Livinus)\n",
    "\n",
    "\n",
    "Fr_svr_Test=svr.predict(Test_Set)\n",
    "\n",
    "\n",
    "plt.scatter(Fr_real,Fr_Livinus,c='c')\n",
    "plt.scatter(Fr_real,Fr_svr_Test,c='b')\n",
    "plt.scatter(Fr_real,Fr_real,c='r')\n",
    "plt.xlabel(\"Froud Number Experiments\")\n",
    "plt.ylabel(\"Froud Number\")\n",
    "plt.legend((\"Predicted by Livinus\",\"Predicted by SVR\",\"Target\"),loc='bottom right')\n",
    "plt.title(\"Performance with Test Set\")"
   ]
  },
  {
   "cell_type": "markdown",
   "metadata": {},
   "source": [
    "For Livinus et.al. model, the drift velocity can therefore be calculated from the following equation, using the predicted Froud Number:\n",
    "v_d=Fr[gD(1-rho_g/rho_l)]^0.5\n",
    "\n",
    "However, for the model proposed, we used 0.8 as exponent and multiply for (Cos(Theta)+Sin(Theta))."
   ]
  },
  {
   "cell_type": "code",
   "execution_count": 17,
   "metadata": {},
   "outputs": [
    {
     "data": {
      "text/plain": [
       "Text(0.5,1,'Drift Velocity Prediction')"
      ]
     },
     "execution_count": 17,
     "metadata": {},
     "output_type": "execute_result"
    },
    {
     "data": {
      "image/png": "[encoded data removed]",
      "text/plain": [
       "<Figure size 432x288 with 1 Axes>"
      ]
     },
     "metadata": {},
     "output_type": "display_data"
    }
   ],
   "source": [
    "V_d_Livinus=Fr_Livinus*np.power(9.80665*D*(1-rho_G/rho_L),0.5)\n",
    "V_d_svr=Fr_svr_Test*(cos_a+sin_a)*np.power(9.80665*D*(1-rho_G/rho_L),0.8)\n",
    "\n",
    "plt.scatter(V_d_real,V_d_Livinus,c='c')\n",
    "plt.scatter(V_d_real,V_d_svr,c='b')\n",
    "plt.scatter(V_d_real,V_d_real,c='r')\n",
    "plt.xlabel(\"Drift Velocity Experiments [m/s]\")\n",
    "plt.ylabel(\"Drift Velocity\")\n",
    "plt.legend((\"Predicted by Livinus\",\"Predicted by SVR\",\"Target\"),loc='bottom right')\n",
    "plt.title(\"Drift Velocity Prediction\")"
   ]
  },
  {
   "cell_type": "markdown",
   "metadata": {},
   "source": [
    "According the Froud Number prediction from the Suppor Vector Machine Regressor, we can see that a simplified model, using a constant Froud number can perform a good drift velocity prediction."
   ]
  },
  {
   "cell_type": "code",
   "execution_count": 18,
   "metadata": {},
   "outputs": [
    {
     "data": {
      "text/plain": [
       "Text(0.5,1,'Drift Velocity Prediction')"
      ]
     },
     "execution_count": 18,
     "metadata": {},
     "output_type": "execute_result"
    },
    {
     "data": {
      "image/png": "[encoded data removed]",
      "text/plain": [
       "<Figure size 432x288 with 1 Axes>"
      ]
     },
     "metadata": {},
     "output_type": "display_data"
    }
   ],
   "source": [
    "V_d_simplified=0.36219587*(cos_a+sin_a)*np.power(9.80665*D*(1-rho_G/rho_L),0.8)\n",
    "plt.scatter(V_d_real,V_d_simplified,c='y')\n",
    "plt.scatter(V_d_real,V_d_real,c='r')\n",
    "plt.xlabel(\"Drift Velocity Experiments [m/s]\")\n",
    "plt.ylabel(\"Drift Velocity\")\n",
    "plt.legend((\"Simplified Model\",\"Target\"),loc='bottom right')\n",
    "plt.title(\"Drift Velocity Prediction\")"
   ]
  },
  {
   "cell_type": "markdown",
   "metadata": {},
   "source": [
    "Now, we use the mean squared error and the r2 score as metrics to measure the performance of the model."
   ]
  },
  {
   "cell_type": "code",
   "execution_count": 19,
   "metadata": {},
   "outputs": [
    {
     "data": {
      "text/plain": [
       "0.021921154222121847"
      ]
     },
     "execution_count": 19,
     "metadata": {},
     "output_type": "execute_result"
    }
   ],
   "source": [
    "from sklearn.metrics import mean_squared_error,r2_score\n",
    "\n",
    "mean_squared_error(V_d_real,V_d_Livinus)"
   ]
  },
  {
   "cell_type": "code",
   "execution_count": 20,
   "metadata": {},
   "outputs": [
    {
     "data": {
      "text/plain": [
       "0.004673100532601696"
      ]
     },
     "execution_count": 20,
     "metadata": {},
     "output_type": "execute_result"
    }
   ],
   "source": [
    "mean_squared_error(V_d_real,V_d_svr)"
   ]
  },
  {
   "cell_type": "code",
   "execution_count": 21,
   "metadata": {},
   "outputs": [
    {
     "data": {
      "text/plain": [
       "0.004674665061867661"
      ]
     },
     "execution_count": 21,
     "metadata": {},
     "output_type": "execute_result"
    }
   ],
   "source": [
    "mean_squared_error(V_d_real,V_d_simplified)"
   ]
  },
  {
   "cell_type": "code",
   "execution_count": 22,
   "metadata": {},
   "outputs": [
    {
     "data": {
      "text/plain": [
       "0.589818915526668"
      ]
     },
     "execution_count": 22,
     "metadata": {},
     "output_type": "execute_result"
    }
   ],
   "source": [
    "r2_score(V_d_real,V_d_Livinus)"
   ]
  },
  {
   "cell_type": "code",
   "execution_count": 23,
   "metadata": {},
   "outputs": [
    {
     "data": {
      "text/plain": [
       "0.9125585530354463"
      ]
     },
     "execution_count": 23,
     "metadata": {},
     "output_type": "execute_result"
    }
   ],
   "source": [
    "r2_score(V_d_real,V_d_svr)"
   ]
  },
  {
   "cell_type": "code",
   "execution_count": 24,
   "metadata": {},
   "outputs": [
    {
     "data": {
      "text/plain": [
       "0.9125292781029085"
      ]
     },
     "execution_count": 24,
     "metadata": {},
     "output_type": "execute_result"
    }
   ],
   "source": [
    "r2_score(V_d_real,V_d_simplified)"
   ]
  },
  {
   "cell_type": "markdown",
   "metadata": {},
   "source": [
    "## 4. References\n",
    "[1] http://scikit-learn.org/stable/modules/preprocessing.html\n",
    "\n",
    "[2] http://scikit-learn.org/stable/modules/compose.html#combining-estimators\n",
    "\n",
    "[3] Livinus, Aniefiok, Patrick Verdin, Liyun Lao, Jan Nossen, Morten Langsholt, and Hans-Gunnar Sleipnaes. \"Simplified generalised drift velocity correlation for elongated bubbles in liquid in pipes.\" Journal of Petroleum Science and Engineering. Vol. 160, 2018: 106-118.\n"
   ]
  }
 ],
 "metadata": {
  "kernelspec": {
   "display_name": "Python 3",
   "language": "python",
   "name": "python3"
  },
  "language_info": {
   "codemirror_mode": {
    "name": "ipython",
    "version": 3
   },
   "file_extension": ".py",
   "mimetype": "text/x-python",
   "name": "python",
   "nbconvert_exporter": "python",
   "pygments_lexer": "ipython3",
   "version": "3.6.5"
  }
 },
 "nbformat": 4,
 "nbformat_minor": 2
}
